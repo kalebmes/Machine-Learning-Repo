{
  "cells": [
    {
      "cell_type": "markdown",
      "metadata": {
        "id": "view-in-github",
        "colab_type": "text"
      },
      "source": [
        "<a href=\"https://colab.research.google.com/github/kalebmes/CS376-Machine-Learning/blob/main/Homeworks/CS376_HW1.ipynb\" target=\"_parent\"><img src=\"https://colab.research.google.com/assets/colab-badge.svg\" alt=\"Open In Colab\"/></a>"
      ]
    },
    {
      "cell_type": "markdown",
      "metadata": {
        "id": "C7InTcI1yCSk"
      },
      "source": [
        "# CS376 HW1 ***(Total score: 50)***"
      ]
    },
    {
      "cell_type": "markdown",
      "metadata": {
        "id": "Rl4EvnTN8fQE"
      },
      "source": [
        "# Submission Guideline"
      ]
    },
    {
      "cell_type": "markdown",
      "metadata": {
        "id": "YMmWjluP8izk"
      },
      "source": [
        "**1. How to submit**\n",
        "*   Fill out <mark> TODO</mark> blocks, **DO NOT** modify other parts of the skeleton code.\n",
        "*   Submit two files: hw1_{student_ID}.ipynb, hw1_{student_ID}.pdf to KLMS\n",
        "\n",
        "    e.g. hw1_20221234.ipynb, hw1_20221234.pdf\n",
        "\n",
        "**2. Note**\n",
        "*   Both ipynb and PDF files must contain executed log of all code blocks (after the last execution).\n",
        "*   Your code should be reproducable. If we cannot reproduce, you will get penalty so please make sure everything works well before you submit.\n",
        "*   You are required to use numpy, do not use neither pytorch nor tensorflow.\n",
        "*   There may be no default function to export the pdf file from the notebook in jupyter notebook or google colab. You can follow these steps:\n",
        "  ```\n",
        "    $pip install -U notebook-as-pdf\n",
        "    $pyppeteer-install\n",
        "    $jupyter-nbconvert --to PDFviaHTML <hw1_{student_ID}>.ipynb\n",
        "  ```"
      ]
    },
    {
      "cell_type": "markdown",
      "metadata": {
        "id": "FHWH7TJSJpHn"
      },
      "source": [
        "# Fixes\n",
        "\n",
        "## [3/25] \n",
        "\n",
        "### 1. learning_schedule\n",
        "```\n",
        "def learning_schedule(t):\n",
        "    return t0 / (t + t1)\n",
        "```\n",
        "changed to \n",
        "```\n",
        "def learning_schedule(epoch):\n",
        "    return t0 / (epoch + t1)\n",
        "```\n",
        "\n",
        "### 2. TODO-6\n",
        "```\n",
        "def train_one_epoch(theta, X_b, y, m, minibatch_size, eta, theta_path_sgd):\n",
        "    ######## TODO ########\n",
        "\n",
        "    ######################\n",
        "    return theta, theta_path_sgd\n",
        "```\n",
        "changed as \n",
        "```\n",
        "def train_one_epoch(theta, X_b, y, m, minibatch_size, epoch, theta_path_sgd):\n",
        "    ######## TODO ########\n",
        "    # TODO\n",
        "    for i in range(0, m, minibatch_size):\n",
        "        # TODO\n",
        "    ######################\n",
        "    return theta, theta_path_sgd\n",
        "```\n",
        "\n",
        "### 3. TODO 4, 6\n",
        "\n",
        "\n",
        "```\n",
        "m = len(y)\n",
        "** t = 0 **\n",
        "** eta = 0.1 **\n",
        "theta_path_sgd = [] # to store the sgd update path\n",
        "theta = np.random.randn(2,1)\n",
        "\n",
        "X_b = np.c_[np.ones((100, 1)), X]\n",
        "\n",
        "for epoch in range(n_iterations):\n",
        "    theta, theta_path_sgd = train_one_epoch(theta, X_b, y, m, minibatch_size, ** eta **, theta_path_sgd)\n",
        "```\n",
        "changed as\n",
        "```\n",
        "m = len(y)\n",
        "theta_path_sgd = [] # to store the sgd update path\n",
        "theta = np.random.randn(2,1)\n",
        "\n",
        "X_b = np.c_[np.ones((100, 1)), X]\n",
        "\n",
        "for epoch in range(n_iterations):\n",
        "    theta, theta_path_sgd = train_one_epoch(theta, X_b, y, m, minibatch_size, epoch, theta_path_sgd)\n",
        "```\n",
        "### 4. Add L2 Loss formula (TODO-11)"
      ]
    },
    {
      "cell_type": "markdown",
      "metadata": {
        "id": "nHkyvNOhp-zM"
      },
      "source": [
        "## Preparation"
      ]
    },
    {
      "cell_type": "markdown",
      "metadata": {
        "id": "kBPBZL98yWUn"
      },
      "source": [
        "The following is the basic preparation such as importing packages. "
      ]
    },
    {
      "cell_type": "code",
      "execution_count": 1,
      "metadata": {
        "id": "1sPO3mBFEZtF"
      },
      "outputs": [],
      "source": [
        "# For Python ≥3.5 \n",
        "import sys\n",
        "assert sys.version_info >= (3, 5)\n",
        "\n",
        "# For sklearn ≥0.20\n",
        "import sklearn\n",
        "assert sklearn.__version__ >= \"0.20\"\n",
        "\n",
        "# common modules to import\n",
        "import numpy as np\n",
        "import os\n",
        "\n",
        "# For reproducibility\n",
        "np.random.seed(42)\n",
        "\n",
        "# For clean plotting\n",
        "%matplotlib inline\n",
        "import matplotlib as mpl\n",
        "import matplotlib.pyplot as plt\n",
        "mpl.rc('axes', labelsize=14)\n",
        "mpl.rc('xtick', labelsize=12)\n",
        "mpl.rc('ytick', labelsize=12)\n",
        "\n",
        "# Path to store images\n",
        "PROJECT_ROOT_DIR = \".\"\n",
        "CHAPTER_ID = \"training_linear_models\"\n",
        "IMAGES_PATH = os.path.join(PROJECT_ROOT_DIR, \"images\", CHAPTER_ID)\n",
        "os.makedirs(IMAGES_PATH, exist_ok=True)\n",
        "\n",
        "def save_fig(fig_id, tight_layout=True, fig_extension=\"png\", resolution=300):\n",
        "    path = os.path.join(IMAGES_PATH, fig_id + \".\" + fig_extension)\n",
        "    print(\"save plot:\", fig_id)\n",
        "    if tight_layout:\n",
        "        plt.tight_layout()\n",
        "    plt.savefig(path, format=fig_extension, dpi=resolution)"
      ]
    },
    {
      "cell_type": "markdown",
      "metadata": {
        "id": "GphPqoWKyhut"
      },
      "source": [
        "Let's make our first dataset."
      ]
    },
    {
      "cell_type": "code",
      "execution_count": 2,
      "metadata": {
        "id": "Z-wpFRzPyjpf"
      },
      "outputs": [],
      "source": [
        "import numpy as np\n",
        "np.random.seed(42)\n",
        "\n",
        "X = 2 * np.random.rand(100, 1)\n",
        "y = 4 + 3 * X + np.random.randn(100, 1)"
      ]
    },
    {
      "cell_type": "markdown",
      "metadata": {
        "id": "xbBEZCemp-zQ"
      },
      "source": [
        "and plot it"
      ]
    },
    {
      "cell_type": "code",
      "execution_count": 3,
      "metadata": {
        "id": "ceTO8RpBy82H",
        "colab": {
          "base_uri": "https://localhost:8080/",
          "height": 314
        },
        "outputId": "e30defb3-938a-4c8d-ca5c-544a8ce1753e"
      },
      "outputs": [
        {
          "output_type": "stream",
          "name": "stdout",
          "text": [
            "save plot: generated_data_plot\n"
          ]
        },
        {
          "output_type": "display_data",
          "data": {
            "text/plain": [
              "<Figure size 432x288 with 1 Axes>"
            ],
            "image/png": "[encoded data removed]"
          },
          "metadata": {
            "needs_background": "light"
          }
        }
      ],
      "source": [
        "plt.plot(X, y, \"b.\")\n",
        "plt.xlabel(\"$x_1$\", fontsize=18)\n",
        "plt.ylabel(\"$y$\", rotation=0, fontsize=18)\n",
        "plt.axis([0, 2, 0, 15])\n",
        "save_fig(\"generated_data_plot\")\n",
        "plt.show()"
      ]
    },
    {
      "cell_type": "markdown",
      "metadata": {
        "id": "mgUiFyZBp-zS"
      },
      "source": [
        "## The Normal Equation ***(5 pts)***"
      ]
    },
    {
      "cell_type": "markdown",
      "metadata": {
        "id": "5X7WwQB1p-zS"
      },
      "source": [
        "We first try to fit a linear model using the Normal Equation."
      ]
    },
    {
      "cell_type": "markdown",
      "metadata": {
        "id": "GiXCuZVfzE2m"
      },
      "source": [
        "$$\\hat{\\boldsymbol{\\theta}} = (\\mathbf{X}^T \\mathbf{X})^{-1} \\mathbf{X}^T \\mathbf{y}$$"
      ]
    },
    {
      "cell_type": "markdown",
      "metadata": {
        "id": "ocHSmbZjp-zT"
      },
      "source": [
        "<mark>TODO-1</mark> Implement the Normal Equation in the following function using numpy. The function returns $\\hat{\\boldsymbol{\\theta}}$.  ***(5 pts)*** \n",
        "\n",
        "*Hint: You can use numpy function to avoid using loop to calculate **dot** product.*"
      ]
    },
    {
      "cell_type": "code",
      "execution_count": 4,
      "metadata": {
        "id": "_wwYW_zLzKL_"
      },
      "outputs": [],
      "source": [
        "def solve_normal_eq(X, y):\n",
        "    ######## TODO ########\n",
        "    theta_best = np.dot(np.dot(np.linalg.inv(np.dot(X.T, X)), X.T), y)    \n",
        "    ######################\n",
        "    return theta_best"
      ]
    },
    {
      "cell_type": "code",
      "execution_count": 5,
      "metadata": {
        "id": "E5sUA5bNG7vK",
        "colab": {
          "base_uri": "https://localhost:8080/"
        },
        "outputId": "08816af1-adaa-491f-b411-fb201e51d26f"
      },
      "outputs": [
        {
          "output_type": "execute_result",
          "data": {
            "text/plain": [
              "array([[4.21509616],\n",
              "       [2.77011339]])"
            ]
          },
          "metadata": {},
          "execution_count": 5
        }
      ],
      "source": [
        "X_b = np.c_[np.ones((len(X), 1)), X]\n",
        "theta_best = solve_normal_eq(X_b, y)\n",
        "theta_best"
      ]
    },
    {
      "cell_type": "markdown",
      "metadata": {
        "id": "tIaR-xBOp-zU"
      },
      "source": [
        "We can visualize the trained model as follows."
      ]
    },
    {
      "cell_type": "code",
      "execution_count": 6,
      "metadata": {
        "id": "vYmiSRYs0VH1",
        "colab": {
          "base_uri": "https://localhost:8080/",
          "height": 314
        },
        "outputId": "57a6117b-30cb-4ed6-e02e-8ca53da0fbb8"
      },
      "outputs": [
        {
          "output_type": "stream",
          "name": "stdout",
          "text": [
            "save plot: linear_model_predictions_plot\n"
          ]
        },
        {
          "output_type": "display_data",
          "data": {
            "text/plain": [
              "<Figure size 432x288 with 1 Axes>"
            ],
            "image/png": "[encoded data removed]"
          },
          "metadata": {
            "needs_background": "light"
          }
        }
      ],
      "source": [
        "X_new = np.array([[0], [2]])\n",
        "X_new_b = np.c_[np.ones((2, 1)), X_new]\n",
        "y_predict = X_new_b.dot(theta_best)\n",
        "y_predict\n",
        "X_new\n",
        "\n",
        "plt.plot(X_new, y_predict, \"r-\", linewidth=2, label=\"Predictions\")\n",
        "plt.plot(X, y, \"b.\")\n",
        "plt.xlabel(\"$x_1$\", fontsize=18)\n",
        "plt.ylabel(\"$y$\", rotation=0, fontsize=18)\n",
        "plt.legend(loc=\"upper left\", fontsize=14)\n",
        "plt.axis([0, 2, 0, 15])\n",
        "save_fig(\"linear_model_predictions_plot\")\n",
        "plt.show()"
      ]
    },
    {
      "cell_type": "markdown",
      "metadata": {
        "id": "EojoyRLb0db0"
      },
      "source": [
        "## Gradient Descent Methods ***(5 pts)***"
      ]
    },
    {
      "cell_type": "markdown",
      "metadata": {
        "id": "fRW_J-wj11P4"
      },
      "source": [
        "We can also fit the linear model by using the gradient descent method. The gradient of the MSE loss can be written as follows:\n",
        "\n",
        "$\n",
        "\\dfrac{\\partial}{\\partial \\boldsymbol{\\theta}} \\text{MSE}(\\boldsymbol{\\theta})\n",
        " = \\dfrac{2}{m}\\sum_{i=1}^{m} (\\boldsymbol{\\theta}^T \\mathbf{x}^{(i)} - y^{(i)})x_j^{(i)}\n",
        " = \\dfrac{2}{m} \\mathbf{X}^T (\\mathbf{X} \\boldsymbol{\\theta} - \\mathbf{y})\n",
        "$"
      ]
    },
    {
      "cell_type": "markdown",
      "metadata": {
        "id": "FCRQ0g3Pp-zV"
      },
      "source": [
        "Then, the model parameter is updated as follows. Here, $\\eta$ is the learning rate.\n",
        "\n",
        "$\n",
        "\\boldsymbol{\\theta}^{(\\text{next step})} = \\boldsymbol{\\theta} - \\eta \\dfrac{\\partial}{\\partial \\boldsymbol{\\theta}} \\text{MSE}(\\boldsymbol{\\theta})\n",
        "$"
      ]
    },
    {
      "cell_type": "markdown",
      "metadata": {
        "id": "w4csMFt-p-zW"
      },
      "source": [
        "<mark>TODO-2</mark> Implement the following function that updates the model parameter by gradient descent and returns the updated model parameter theta_next. ***(3 pts)***"
      ]
    },
    {
      "cell_type": "code",
      "execution_count": 7,
      "metadata": {
        "id": "NVbIAtJtp-zW"
      },
      "outputs": [],
      "source": [
        "def linear_mse_gradient_update(X, y, theta, m, eta):\n",
        "    ######## TODO ########\n",
        "    theta_next = theta - (eta*2/m) * np.dot(X.T, np.dot(X, theta) - y)\n",
        "    #############\n",
        "    # #########\n",
        "    return theta_next"
      ]
    },
    {
      "cell_type": "markdown",
      "metadata": {
        "id": "KndMP2HJp-zW"
      },
      "source": [
        "The following function, plot_gradient_descent, is to visualize the first 10 models generated by gradient descent"
      ]
    },
    {
      "cell_type": "code",
      "execution_count": 8,
      "metadata": {
        "id": "nUJgnpS316wR"
      },
      "outputs": [],
      "source": [
        "theta_path_bgd = []\n",
        "X_b = np.c_[np.ones((100, 1)), X]\n",
        "\n",
        "def plot_gradient_descent(theta, eta, theta_path=None):\n",
        "    m = len(X)\n",
        "    plt.plot(X, y, \"b.\")\n",
        "    n_iterations = 1000\n",
        "    for iteration in range(n_iterations):\n",
        "        if iteration < 10:\n",
        "            y_predict = X_new_b.dot(theta)\n",
        "            style = \"b-\" if iteration > 0 else \"r--\"\n",
        "            plt.plot(X_new, y_predict, style)\n",
        "        theta = linear_mse_gradient_update(X_b, y, theta, m, eta)\n",
        "        if theta_path is not None:\n",
        "            theta_path.append(theta)\n",
        "    plt.xlabel(\"$x_1$\", fontsize=18)\n",
        "    plt.axis([0, 2, 0, 15])\n",
        "    plt.title(r\"$\\eta = {}$\".format(eta), fontsize=16)"
      ]
    },
    {
      "cell_type": "markdown",
      "metadata": {
        "id": "gO9CRD9ip-zX"
      },
      "source": [
        "<mark>TODO-3</mark> Try various learning rates and find one that converges well. ***(2 pts)***"
      ]
    },
    {
      "cell_type": "code",
      "execution_count": 9,
      "metadata": {
        "id": "iPutLyixp-zX",
        "colab": {
          "base_uri": "https://localhost:8080/",
          "height": 310
        },
        "outputId": "2f9eae13-c8f5-4521-b86f-6787c4965f7a"
      },
      "outputs": [
        {
          "output_type": "display_data",
          "data": {
            "text/plain": [
              "<Figure size 288x288 with 1 Axes>"
            ],
            "image/png": "[encoded data removed]"
          },
          "metadata": {
            "needs_background": "light"
          }
        }
      ],
      "source": [
        "######## TODO ########\n",
        "eta_best = 0.21\n",
        "######################\n",
        "\n",
        "np.random.seed(42)\n",
        "theta = np.random.randn(2,1)  # random initialization\n",
        "\n",
        "plt.figure(figsize=(4,4))\n",
        "plot_gradient_descent(theta, eta=eta_best, theta_path=theta_path_bgd)"
      ]
    },
    {
      "cell_type": "markdown",
      "metadata": {
        "id": "3V82XbHs2L6T"
      },
      "source": [
        "## Mini-batch GD (Stochastic Gradient Descent) ***(15 pts)***"
      ]
    },
    {
      "cell_type": "markdown",
      "metadata": {
        "id": "UDgfN3WMp-zX"
      },
      "source": [
        "Now we will train the same model using stochastic gradient descent."
      ]
    },
    {
      "cell_type": "code",
      "execution_count": 10,
      "metadata": {
        "id": "UjoKphLc8Qfg"
      },
      "outputs": [],
      "source": [
        "n_iterations = 200\n",
        "minibatch_size = 20\n",
        "\n",
        "theta = np.random.randn(2,1)\n",
        "\n",
        "t0, t1 = 200, 1000\n",
        "def learning_schedule(epoch):\n",
        "    return t0 / (epoch + t1)"
      ]
    },
    {
      "cell_type": "markdown",
      "metadata": {
        "id": "XWhkvPlyp-zY"
      },
      "source": [
        "<mark>TODO-4</mark> Implement the following function, step_sgd(). ***(5 pts)*** \\\\\n",
        "The function should\n",
        "1. select a minibatch\n",
        "2. compute the gradient using the mini-batch\n",
        "3. update the parameter by the computed gradient and following the learning_schedule."
      ]
    },
    {
      "cell_type": "code",
      "execution_count": 11,
      "metadata": {
        "id": "YtHIVvyUp-zY"
      },
      "outputs": [],
      "source": [
        "def step_sgd(X, y, theta, i, minibatch_size, epoch):\n",
        "    ######## TODO ########\n",
        "    #step of the minibatch\n",
        "    theta = linear_mse_gradient_update(X[i*minibatch_size:(i+1)*minibatch_size, :], y[i*minibatch_size:(i+1)*minibatch_size, :], theta, minibatch_size, learning_schedule(epoch))\n",
        "    # start_ind = [ind for ind in range(0, X.shape[0], minibatch_size)]\n",
        "    # for _ in range(epoch):\n",
        "    #     for indx in start_ind:\n",
        "    #         theta = linear_mse_gradient_update(X[indx:indx+minibatch_size, :], y[indx:indx+minibatch_size, :], theta, minibatch_size, eta_best)\n",
        "    #######################\n",
        "    return theta "
      ]
    },
    {
      "cell_type": "markdown",
      "metadata": {
        "id": "NiJfnnuOp-zY"
      },
      "source": [
        "<mark>TODO-5</mark> Implement the following function to shuffle the whole data once in an epoch. ***(5 pts)***\n",
        "\n",
        "Use np.random.permutation() to randomly shuffle indice.\n",
        "\n"
      ]
    },
    {
      "cell_type": "code",
      "execution_count": 12,
      "metadata": {
        "id": "N8q8tp39p-zY"
      },
      "outputs": [],
      "source": [
        "def shuffle_data(X_b, y):\n",
        "    ######## TODO ########\n",
        "    shuffled_indices = np.random.permutation(X_b.shape[0])\n",
        "    X_b_shuffled, y_shuffled = X_b[shuffled_indices, :], y[shuffled_indices, :]\n",
        "    ######################\n",
        "    return X_b_shuffled, y_shuffled"
      ]
    },
    {
      "cell_type": "markdown",
      "metadata": {
        "id": "j9JNYLa1p-zZ"
      },
      "source": [
        "<mark>TODO-6</mark> Using the above two functions implement the following fuction performing SGD updates for one epoch. ***(5 pts)***\n",
        "\n",
        "To make the remaining code work, add the following line whenever the parameter is updated.\n",
        "> theta_path_sgd.append(theta)"
      ]
    },
    {
      "cell_type": "code",
      "execution_count": 13,
      "metadata": {
        "id": "pm6OxCR6p-zZ"
      },
      "outputs": [],
      "source": [
        "def train_one_epoch(theta, X_b, y, m, minibatch_size, epoch, theta_path_sgd):\n",
        "    ######## TODO ########\n",
        "    # TODO\n",
        "    X_bs, y_bs = shuffle_data(X_b, y)\n",
        "    for i in range(0, m, minibatch_size):\n",
        "        theta = step_sgd(X_bs, y_bs, theta, i, minibatch_size, epoch)\n",
        "        theta_path_sgd.append(theta)\n",
        "    ######################\n",
        "    return theta, theta_path_sgd"
      ]
    },
    {
      "cell_type": "markdown",
      "metadata": {
        "id": "mprTJjtWp-zZ"
      },
      "source": [
        "Now you can train your model as follows"
      ]
    },
    {
      "cell_type": "code",
      "execution_count": 14,
      "metadata": {
        "id": "UXUzs0NWp-zZ"
      },
      "outputs": [],
      "source": [
        "m = len(y)\n",
        "theta_path_sgd = [] # to store the sgd update path\n",
        "theta = np.random.randn(2,1)\n",
        "\n",
        "X_b = np.c_[np.ones((100, 1)), X]\n",
        "\n",
        "for epoch in range(n_iterations):\n",
        "    theta, theta_path_sgd = train_one_epoch(theta, X_b, y, m, minibatch_size, epoch, theta_path_sgd)"
      ]
    },
    {
      "cell_type": "markdown",
      "metadata": {
        "id": "5FQ6F4XPp-zZ"
      },
      "source": [
        "Let's plot."
      ]
    },
    {
      "cell_type": "code",
      "execution_count": 15,
      "metadata": {
        "id": "9RKGgOoD8S2q",
        "colab": {
          "base_uri": "https://localhost:8080/",
          "height": 314
        },
        "outputId": "62c6e719-3b36-4843-d439-d5b52a12db1a"
      },
      "outputs": [
        {
          "output_type": "stream",
          "name": "stdout",
          "text": [
            "save plot: gradient_descent_paths_plot\n"
          ]
        },
        {
          "output_type": "display_data",
          "data": {
            "text/plain": [
              "<Figure size 504x288 with 1 Axes>"
            ],
            "image/png": "[encoded data removed]"
          },
          "metadata": {
            "needs_background": "light"
          }
        }
      ],
      "source": [
        "theta_path_bgd = np.array(theta_path_bgd)\n",
        "theta_path_sgd = np.array(theta_path_sgd)\n",
        "\n",
        "plt.figure(figsize=(7,4))\n",
        "plt.plot(theta_path_sgd[:, 0], theta_path_sgd[:, 1], \"g-+\", linewidth=2, label=\"Mini-batch\")\n",
        "plt.plot(theta_path_bgd[:, 0], theta_path_bgd[:, 1], \"b-o\", linewidth=3, label=\"Batch\")\n",
        "plt.legend(loc=\"upper left\", fontsize=16)\n",
        "plt.xlabel(r\"$\\theta_0$\", fontsize=20)\n",
        "plt.ylabel(r\"$\\theta_1$   \", fontsize=20, rotation=0)\n",
        "plt.axis([2.5, 4.5, 2.3, 3.9])\n",
        "save_fig(\"gradient_descent_paths_plot\")\n",
        "plt.show()"
      ]
    },
    {
      "cell_type": "markdown",
      "metadata": {
        "id": "2KObAL0r8pg3"
      },
      "source": [
        "## Polynomial Regresssion"
      ]
    },
    {
      "cell_type": "markdown",
      "metadata": {
        "id": "28m2SRK9p-za"
      },
      "source": [
        "Let's make a new dataset"
      ]
    },
    {
      "cell_type": "code",
      "execution_count": 16,
      "metadata": {
        "id": "gi7t-YO18y19"
      },
      "outputs": [],
      "source": [
        "import numpy as np\n",
        "import numpy.random as rnd\n",
        "\n",
        "np.random.seed(45)\n",
        "\n",
        "m = 100\n",
        "X = 6 * np.random.rand(m, 1) - 3\n",
        "y = 0.5 * X**2 + X + 2 + np.random.randn(m, 1)"
      ]
    },
    {
      "cell_type": "code",
      "execution_count": 17,
      "metadata": {
        "id": "cHnPrRkb83RL",
        "colab": {
          "base_uri": "https://localhost:8080/",
          "height": 314
        },
        "outputId": "ef92b365-f81f-4853-f0b3-eb02797b2cd5"
      },
      "outputs": [
        {
          "output_type": "stream",
          "name": "stdout",
          "text": [
            "save plot: quadratic_data_plot\n"
          ]
        },
        {
          "output_type": "display_data",
          "data": {
            "text/plain": [
              "<Figure size 432x288 with 1 Axes>"
            ],
            "image/png": "[encoded data removed]"
          },
          "metadata": {
            "needs_background": "light"
          }
        }
      ],
      "source": [
        "plt.plot(X, y, \"b.\")\n",
        "plt.xlabel(\"$x_1$\", fontsize=18)\n",
        "plt.ylabel(\"$y$\", rotation=0, fontsize=18)\n",
        "plt.axis([-3, 3, 0, 10])\n",
        "save_fig(\"quadratic_data_plot\")\n",
        "plt.show()"
      ]
    },
    {
      "cell_type": "markdown",
      "metadata": {
        "id": "lrEwjp5jp-zb"
      },
      "source": [
        "Using the sklearn package, let's extract more features of higher degree"
      ]
    },
    {
      "cell_type": "code",
      "execution_count": 18,
      "metadata": {
        "id": "wbJcHpTfBZwr",
        "colab": {
          "base_uri": "https://localhost:8080/"
        },
        "outputId": "3122ff2f-3408-40e9-e613-1ae8e95368bf"
      },
      "outputs": [
        {
          "output_type": "execute_result",
          "data": {
            "text/plain": [
              "array([2.93406908])"
            ]
          },
          "metadata": {},
          "execution_count": 18
        }
      ],
      "source": [
        "from sklearn.preprocessing import PolynomialFeatures\n",
        "\n",
        "poly_features = PolynomialFeatures(degree=2, include_bias=False)\n",
        "X_poly = poly_features.fit_transform(X)\n",
        "X[0]"
      ]
    },
    {
      "cell_type": "code",
      "execution_count": 19,
      "metadata": {
        "id": "B_ZuM7hsp-zb",
        "colab": {
          "base_uri": "https://localhost:8080/"
        },
        "outputId": "0c9eb282-2a32-4d00-84e2-33e87431c993"
      },
      "outputs": [
        {
          "output_type": "execute_result",
          "data": {
            "text/plain": [
              "array([2.93406908, 8.60876137])"
            ]
          },
          "metadata": {},
          "execution_count": 19
        }
      ],
      "source": [
        "X_poly[0]"
      ]
    },
    {
      "cell_type": "markdown",
      "metadata": {
        "id": "Kpl5OSydp-zb"
      },
      "source": [
        "Let's fit the model using the LinearRegression package in sklearn "
      ]
    },
    {
      "cell_type": "code",
      "execution_count": 20,
      "metadata": {
        "id": "raysp-pRp-zb",
        "colab": {
          "base_uri": "https://localhost:8080/"
        },
        "outputId": "449da971-29d3-4770-b9a4-34b7ddedb512"
      },
      "outputs": [
        {
          "output_type": "execute_result",
          "data": {
            "text/plain": [
              "(array([2.19723271]), array([[0.98165307, 0.44859477]]))"
            ]
          },
          "metadata": {},
          "execution_count": 20
        }
      ],
      "source": [
        "from sklearn.linear_model import LinearRegression\n",
        "\n",
        "lin_reg = LinearRegression()\n",
        "lin_reg.fit(X_poly, y)\n",
        "lin_reg.intercept_, lin_reg.coef_"
      ]
    },
    {
      "cell_type": "code",
      "execution_count": 21,
      "metadata": {
        "id": "JF0NdFZXp-zc",
        "colab": {
          "base_uri": "https://localhost:8080/",
          "height": 314
        },
        "outputId": "2fde6304-f46d-444f-9f1e-b1442ad38e3e"
      },
      "outputs": [
        {
          "output_type": "stream",
          "name": "stdout",
          "text": [
            "save plot: quadratic_predictions_plot\n"
          ]
        },
        {
          "output_type": "display_data",
          "data": {
            "text/plain": [
              "<Figure size 432x288 with 1 Axes>"
            ],
            "image/png": "[encoded data removed]"
          },
          "metadata": {
            "needs_background": "light"
          }
        }
      ],
      "source": [
        "X_new=np.linspace(-3, 3, 100).reshape(100, 1)\n",
        "X_new_poly = poly_features.transform(X_new)\n",
        "y_new = lin_reg.predict(X_new_poly)\n",
        "plt.plot(X, y, \"b.\")\n",
        "plt.plot(X_new, y_new, \"r-\", linewidth=2, label=\"Predictions\")\n",
        "plt.xlabel(\"$x_1$\", fontsize=18)\n",
        "plt.ylabel(\"$y$\", rotation=0, fontsize=18)\n",
        "plt.legend(loc=\"upper left\", fontsize=14)\n",
        "plt.axis([-3, 3, 0, 10])\n",
        "save_fig(\"quadratic_predictions_plot\")\n",
        "plt.show()"
      ]
    },
    {
      "cell_type": "markdown",
      "metadata": {
        "id": "Tx7RygyiEjZa"
      },
      "source": [
        "### Try degree = 10, 20, 30 and plot"
      ]
    },
    {
      "cell_type": "markdown",
      "metadata": {
        "id": "IeOgF1B7p-zc"
      },
      "source": [
        "The previous example used only degree=2. Now let's try higher degrees and see how it overfits according to the degree. "
      ]
    },
    {
      "cell_type": "code",
      "execution_count": 22,
      "metadata": {
        "id": "sEyhA9v0EzoG",
        "colab": {
          "base_uri": "https://localhost:8080/",
          "height": 314
        },
        "outputId": "f2ea88cf-34b1-4b94-eced-b3c284619452"
      },
      "outputs": [
        {
          "output_type": "stream",
          "name": "stdout",
          "text": [
            "save plot: high_degree_polynomials_plot\n"
          ]
        },
        {
          "output_type": "display_data",
          "data": {
            "text/plain": [
              "<Figure size 432x288 with 1 Axes>"
            ],
            "image/png": "[encoded data removed]"
          },
          "metadata": {
            "needs_background": "light"
          }
        }
      ],
      "source": [
        "from sklearn.preprocessing import StandardScaler\n",
        "from sklearn.pipeline import Pipeline\n",
        "\n",
        "for style, width, degree in ((\"g-\", 1, 300), (\"b--\", 2, 2), (\"r-+\", 2, 1)):\n",
        "    polybig_features = PolynomialFeatures(degree=degree, include_bias=False)\n",
        "    std_scaler = StandardScaler()\n",
        "    lin_reg = LinearRegression()\n",
        "    polynomial_regression = Pipeline([\n",
        "            (\"poly_features\", polybig_features),\n",
        "            (\"std_scaler\", std_scaler),\n",
        "            (\"lin_reg\", lin_reg),\n",
        "        ])\n",
        "    polynomial_regression.fit(X, y)\n",
        "    y_newbig = polynomial_regression.predict(X_new)\n",
        "    plt.plot(X_new, y_newbig, style, label=str(degree), linewidth=width)\n",
        "\n",
        "plt.plot(X, y, \"b.\", linewidth=3)\n",
        "plt.legend(loc=\"upper left\")\n",
        "plt.xlabel(\"$x_1$\", fontsize=18)\n",
        "plt.ylabel(\"$y$\", rotation=0, fontsize=18)\n",
        "plt.axis([-3, 3, 0, 10])\n",
        "save_fig(\"high_degree_polynomials_plot\")\n",
        "plt.show()"
      ]
    },
    {
      "cell_type": "markdown",
      "metadata": {
        "id": "J6lsd3GOp-zd"
      },
      "source": [
        "## Softmax Classification ***(25 pts)***"
      ]
    },
    {
      "cell_type": "markdown",
      "metadata": {
        "id": "96SAbRJ2p-zd"
      },
      "source": [
        "Prepare dataset"
      ]
    },
    {
      "cell_type": "code",
      "execution_count": 23,
      "metadata": {
        "id": "S48F63Ujp-zd"
      },
      "outputs": [],
      "source": [
        "from sklearn import datasets\n",
        "iris = datasets.load_iris()"
      ]
    },
    {
      "cell_type": "code",
      "execution_count": 24,
      "metadata": {
        "id": "-F3qrkKOp-zd",
        "colab": {
          "base_uri": "https://localhost:8080/"
        },
        "outputId": "4ac6f0b4-f063-47ed-94f8-47c5e47ad8a0"
      },
      "outputs": [
        {
          "output_type": "stream",
          "name": "stdout",
          "text": [
            ".. _iris_dataset:\n",
            "\n",
            "Iris plants dataset\n",
            "--------------------\n",
            "\n",
            "**Data Set Characteristics:**\n",
            "\n",
            "    :Number of Instances: 150 (50 in each of three classes)\n",
            "    :Number of Attributes: 4 numeric, predictive attributes and the class\n",
            "    :Attribute Information:\n",
            "        - sepal length in cm\n",
            "        - sepal width in cm\n",
            "        - petal length in cm\n",
            "        - petal width in cm\n",
            "        - class:\n",
            "                - Iris-Setosa\n",
            "                - Iris-Versicolour\n",
            "                - Iris-Virginica\n",
            "                \n",
            "    :Summary Statistics:\n",
            "\n",
            "    ============== ==== ==== ======= ===== ====================\n",
            "                    Min  Max   Mean    SD   Class Correlation\n",
            "    ============== ==== ==== ======= ===== ====================\n",
            "    sepal length:   4.3  7.9   5.84   0.83    0.7826\n",
            "    sepal width:    2.0  4.4   3.05   0.43   -0.4194\n",
            "    petal length:   1.0  6.9   3.76   1.76    0.9490  (high!)\n",
            "    petal width:    0.1  2.5   1.20   0.76    0.9565  (high!)\n",
            "    ============== ==== ==== ======= ===== ====================\n",
            "\n",
            "    :Missing Attribute Values: None\n",
            "    :Class Distribution: 33.3% for each of 3 classes.\n",
            "    :Creator: R.A. Fisher\n",
            "    :Donor: Michael Marshall (MARSHALL%PLU@io.arc.nasa.gov)\n",
            "    :Date: July, 1988\n",
            "\n",
            "The famous Iris database, first used by Sir R.A. Fisher. The dataset is taken\n",
            "from Fisher's paper. Note that it's the same as in R, but not as in the UCI\n",
            "Machine Learning Repository, which has two wrong data points.\n",
            "\n",
            "This is perhaps the best known database to be found in the\n",
            "pattern recognition literature.  Fisher's paper is a classic in the field and\n",
            "is referenced frequently to this day.  (See Duda & Hart, for example.)  The\n",
            "data set contains 3 classes of 50 instances each, where each class refers to a\n",
            "type of iris plant.  One class is linearly separable from the other 2; the\n",
            "latter are NOT linearly separable from each other.\n",
            "\n",
            ".. topic:: References\n",
            "\n",
            "   - Fisher, R.A. \"The use of multiple measurements in taxonomic problems\"\n",
            "     Annual Eugenics, 7, Part II, 179-188 (1936); also in \"Contributions to\n",
            "     Mathematical Statistics\" (John Wiley, NY, 1950).\n",
            "   - Duda, R.O., & Hart, P.E. (1973) Pattern Classification and Scene Analysis.\n",
            "     (Q327.D83) John Wiley & Sons.  ISBN 0-471-22361-1.  See page 218.\n",
            "   - Dasarathy, B.V. (1980) \"Nosing Around the Neighborhood: A New System\n",
            "     Structure and Classification Rule for Recognition in Partially Exposed\n",
            "     Environments\".  IEEE Transactions on Pattern Analysis and Machine\n",
            "     Intelligence, Vol. PAMI-2, No. 1, 67-71.\n",
            "   - Gates, G.W. (1972) \"The Reduced Nearest Neighbor Rule\".  IEEE Transactions\n",
            "     on Information Theory, May 1972, 431-433.\n",
            "   - See also: 1988 MLC Proceedings, 54-64.  Cheeseman et al\"s AUTOCLASS II\n",
            "     conceptual clustering system finds 3 classes in the data.\n",
            "   - Many, many more ...\n"
          ]
        }
      ],
      "source": [
        "print(iris.DESCR)"
      ]
    },
    {
      "cell_type": "markdown",
      "metadata": {
        "id": "NLBkrJhSp-zd"
      },
      "source": [
        "Add bias terms to all samples"
      ]
    },
    {
      "cell_type": "code",
      "execution_count": 25,
      "metadata": {
        "id": "o-8LIBo3p-zd"
      },
      "outputs": [],
      "source": [
        "X = iris[\"data\"][:, (2, 3)]  # length and width as the features\n",
        "y = iris[\"target\"]"
      ]
    },
    {
      "cell_type": "code",
      "execution_count": 26,
      "metadata": {
        "id": "DxhkLcbLp-ze"
      },
      "outputs": [],
      "source": [
        "X_with_bias = np.c_[np.ones([len(X), 1]), X]"
      ]
    },
    {
      "cell_type": "markdown",
      "metadata": {
        "id": "d3kD-x80p-ze"
      },
      "source": [
        "<mark>TODO-7</mark> Split dataset into train, validation, and test sets. ***(3 pts)***\n",
        "\n",
        "Use np.random.permutation() to randomly shuffle indice and retrieve each dataset in order of train, validation and test."
      ]
    },
    {
      "cell_type": "code",
      "execution_count": 27,
      "metadata": {
        "id": "T3HJ-6BqA9Aq"
      },
      "outputs": [],
      "source": [
        "def train_test_split(X, y, total_size, train_size, validation_size, test_size):\n",
        "    ######## TODO ########\n",
        "    shuffled_indices = np.random.permutation(total_size)\n",
        "    X, y = X[shuffled_indices], y[shuffled_indices]\n",
        "    X_train, y_train, X_valid, y_valid = X[:train_size], y[:train_size], X[train_size:train_size+validation_size], y[train_size:train_size+validation_size]\n",
        "    X_test, y_test = X[train_size+validation_size:train_size+validation_size+test_size], y[train_size+validation_size:train_size+validation_size+test_size]\n",
        "    ######################\n",
        "    return X_train, y_train, X_valid, y_valid, X_test, y_test"
      ]
    },
    {
      "cell_type": "code",
      "execution_count": 28,
      "metadata": {
        "id": "Ok-RrWecp-ze"
      },
      "outputs": [],
      "source": [
        "np.random.seed(2042)\n",
        "\n",
        "test_ratio = 0.2\n",
        "validation_ratio = 0.2\n",
        "total_size = len(X_with_bias)\n",
        "\n",
        "test_size = int(total_size * test_ratio)\n",
        "validation_size = int(total_size * validation_ratio)\n",
        "train_size = total_size - test_size - validation_size\n",
        "\n",
        "X_train, y_train, X_valid, y_valid, X_test, y_test = train_test_split(X_with_bias, y, total_size, train_size, validation_size, test_size)"
      ]
    },
    {
      "cell_type": "markdown",
      "metadata": {
        "id": "r5ZMw4--p-ze"
      },
      "source": [
        "The targets are currently class indices (0, 1 or 2), but we need target class probabilities to train the Softmax Regression model. Each instance will have target class probabilities equal to 0.0 for all classes except for the target class which will have a probability of 1.0 (in other words, the vector of class probabilities for ay given instance is a one-hot vector). \n",
        "\n",
        "<mark>TODO-8</mark> Write a small function to convert the vector of class indices into a matrix containing a one-hot vector for each instance. ***(3 pts)***"
      ]
    },
    {
      "cell_type": "code",
      "execution_count": 29,
      "metadata": {
        "id": "XNdDCGY3p-zf"
      },
      "outputs": [],
      "source": [
        "def to_one_hot(y, n_classes):\n",
        "    ######## TODO ########\n",
        "    Y_one_hot = np.zeros((len(y), n_classes))\n",
        "    Y_one_hot[np.arange(len(y)), y] = 1\n",
        "    ######################\n",
        "    return Y_one_hot"
      ]
    },
    {
      "cell_type": "markdown",
      "metadata": {
        "id": "IoR5IKxdp-zf"
      },
      "source": [
        "Looks good, so let's create the target class probabilities matrix for the training set and the test set:"
      ]
    },
    {
      "cell_type": "code",
      "execution_count": 30,
      "metadata": {
        "id": "0pSlE-X5p-zf"
      },
      "outputs": [],
      "source": [
        "Y_train_one_hot = to_one_hot(y_train, 3)\n",
        "Y_valid_one_hot = to_one_hot(y_valid, 3)\n",
        "Y_test_one_hot = to_one_hot(y_test, 3)"
      ]
    },
    {
      "cell_type": "markdown",
      "metadata": {
        "id": "_rPfVm__p-zf"
      },
      "source": [
        "<mark>TODO-9</mark> Now let's implement the Softmax function. Recall that it is defined by the following equation: ***(3 pts)***\n",
        "\n",
        "\n",
        "$\\sigma\\left(\\mathbf{s}(\\mathbf{x})\\right)_k = \\dfrac{\\exp\\left(s_k(\\mathbf{x})\\right)}{\\sum\\limits_{j=1}^{K}{\\exp\\left(s_j(\\mathbf{x})\\right)}}$"
      ]
    },
    {
      "cell_type": "code",
      "execution_count": 31,
      "metadata": {
        "id": "XfHQPYxQp-zf"
      },
      "outputs": [],
      "source": [
        "def softmax(logits):\n",
        "    ####### TODO ########\n",
        "    probs = np.exp(logits)/np.sum(np.exp(logits), axis=1, keepdims=True)\n",
        "    #####################\n",
        "    return probs"
      ]
    },
    {
      "cell_type": "markdown",
      "metadata": {
        "id": "V7KTBqd5p-zg"
      },
      "source": [
        "We are almost ready to start training. Let's define the number of inputs and outputs:"
      ]
    },
    {
      "cell_type": "code",
      "execution_count": 32,
      "metadata": {
        "id": "yqfz3PMLp-zg"
      },
      "outputs": [],
      "source": [
        "n_inputs = X_train.shape[1] # == 3 (2 features plus the bias term)\n",
        "n_outputs = len(np.unique(y_train))   # == 3 (3 iris classes)"
      ]
    },
    {
      "cell_type": "markdown",
      "metadata": {
        "id": "yMKLeJBOp-zg"
      },
      "source": [
        "Now here comes the hardest part: training! Theoretically, it's simple: it's just a matter of translating the math equations into Python code. But in practice, it can be quite tricky: in particular, it's easy to mix up the order of the terms, or the indices. You can even end up with code that looks like it's working but is actually not computing exactly the right thing. When unsure, you should write down the shape of each term in the equation and make sure the corresponding terms in your code match closely. It can also help to evaluate each term independently and print them out. \n",
        "\n",
        "So the equations we will need are the cost function:\n",
        "\n",
        "$J(\\mathbf{\\Theta}) = - \\dfrac{1}{m}\\sum\\limits_{i=1}^{m}\\sum\\limits_{k=1}^{K}{y_k^{(i)}\\log\\left(\\hat{p}_k^{(i)}\\right)}$\n",
        "\n",
        "and its gradient w.r.t. the free parameters is:\n",
        "\n",
        "$\\nabla_{\\mathbf{\\theta}^{(k)}} \\, J(\\mathbf{\\Theta}) = \\dfrac{1}{m} \\sum\\limits_{i=1}^{m}{ \\left ( \\hat{p}^{(i)}_k - y_k^{(i)} \\right ) \\mathbf{x}^{(i)}}$\n",
        "\n",
        "Note that $\\log\\left(\\hat{p}_k^{(i)}\\right)$ may not be computable if $\\hat{p}_k^{(i)} = 0$. So, you can add a tiny value $\\epsilon$ to $\\log\\left(\\hat{p}_k^{(i)}\\right)$ to avoid getting `nan` values."
      ]
    },
    {
      "cell_type": "markdown",
      "metadata": {
        "id": "gemKnUwrp-zg"
      },
      "source": [
        "<mark>TODO-10</mark> Implement the following three functions: ***(3 pts each)***\n",
        "1. cross_entropy()\n",
        "2. gradient() \n",
        "3. predict()"
      ]
    },
    {
      "cell_type": "code",
      "execution_count": 33,
      "metadata": {
        "id": "0LNZZlINp-zg"
      },
      "outputs": [],
      "source": [
        "eta = 0.1\n",
        "n_iterations = 5001\n",
        "m = len(X_train)\n",
        "epsilon = 1e-7      # for numerical stability of cross entropy loss\n",
        "\n",
        "class MySoftmaxClassifier():\n",
        "    def __init__(self, n_classes):\n",
        "        self.n_classes = n_classes\n",
        "        self.theta = np.random.randn(n_inputs, n_outputs)\n",
        "        return\n",
        "    \n",
        "    def cross_entropy(self, Y_target, Y_pred):\n",
        "        ####### TODO #########\n",
        "        loss = (-1/m) * np.sum(Y_target * np.log(Y_pred + epsilon))\n",
        "        ######################\n",
        "        return loss \n",
        "    \n",
        "    def gradient(self, Y_target, Y_pred, X_train):    \n",
        "        ####### TODO #########\n",
        "        gradients = (1/m) * np.dot(X_train.T, (Y_pred - Y_target)) \n",
        "        ######################\n",
        "        return gradients\n",
        "    \n",
        "    def predict(self, X):\n",
        "        ####### TODO #########\n",
        "        Y_proba = softmax(np.dot(X, self.theta))\n",
        "        ######################\n",
        "        return Y_proba\n",
        "        \n",
        "    def fit(self, X_train, Y_train_one_hot):\n",
        "        for iteration in range(n_iterations):\n",
        "            Y_proba = self.predict(X_train)\n",
        "            if iteration % 500 == 0:\n",
        "                loss = self.cross_entropy(Y_train_one_hot, Y_proba)\n",
        "                print(iteration, loss)\n",
        "            gradients = self.gradient(Y_train_one_hot, Y_proba, X_train)\n",
        "            self.theta = self.theta - eta * gradients\n",
        "            \n",
        "    def validation_score(self, X_valid, y_valid):\n",
        "        y_valid_one_hot = to_one_hot(y_valid, self.n_classes)\n",
        "        logits = X_valid.dot(self.theta)\n",
        "        Y_proba = softmax(logits)\n",
        "        Y_predict = np.argmax(Y_proba, axis=1)\n",
        "        accuracy_score = np.mean(Y_predict == y_valid)\n",
        "        \n",
        "        xent_loss = self.cross_entropy(y_valid_one_hot, Y_proba)\n",
        "        \n",
        "        return accuracy_score, xent_loss"
      ]
    },
    {
      "cell_type": "code",
      "execution_count": 34,
      "metadata": {
        "id": "iFLDDO_8p-zh",
        "colab": {
          "base_uri": "https://localhost:8080/"
        },
        "outputId": "ab918335-c46f-4af9-e7f5-ac4137a2f1e5"
      },
      "outputs": [
        {
          "output_type": "stream",
          "name": "stdout",
          "text": [
            "0 7.267380315191752\n",
            "500 0.4055398051794947\n",
            "1000 0.3134884401906298\n",
            "1500 0.2669847729623108\n",
            "2000 0.2368084425074919\n",
            "2500 0.21514801495601027\n",
            "3000 0.1986851894825896\n",
            "3500 0.18568242531483653\n",
            "4000 0.17511719431037892\n",
            "4500 0.16634089791085108\n",
            "5000 0.15891964469078632\n"
          ]
        }
      ],
      "source": [
        "np.random.seed(49)\n",
        "model = MySoftmaxClassifier(n_classes=3)\n",
        "model.fit(X_train, Y_train_one_hot)"
      ]
    },
    {
      "cell_type": "markdown",
      "metadata": {
        "id": "K3fl59iFp-zh"
      },
      "source": [
        "And that's it! The Softmax model is trained. Let's look at the model parameters:"
      ]
    },
    {
      "cell_type": "code",
      "execution_count": 35,
      "metadata": {
        "id": "RE_Ot-ccp-zh",
        "colab": {
          "base_uri": "https://localhost:8080/"
        },
        "outputId": "797e6103-d423-4776-d39a-45042877ac5a"
      },
      "outputs": [
        {
          "output_type": "execute_result",
          "data": {
            "text/plain": [
              "array([[ 7.87507999,  0.87155185, -9.94550076],\n",
              "       [-1.18798594,  0.64011512,  1.1627223 ],\n",
              "       [-3.34953639, -0.55684534,  4.46728896]])"
            ]
          },
          "metadata": {},
          "execution_count": 35
        }
      ],
      "source": [
        "model.theta"
      ]
    },
    {
      "cell_type": "markdown",
      "metadata": {
        "id": "EruBGZKXp-zh"
      },
      "source": [
        "Let's make predictions for the validation set and check the accuracy score: "
      ]
    },
    {
      "cell_type": "code",
      "execution_count": 36,
      "metadata": {
        "id": "Obbb2nh-p-zh",
        "colab": {
          "base_uri": "https://localhost:8080/"
        },
        "outputId": "81f5a3ee-009f-4c06-bf46-d6e420949968"
      },
      "outputs": [
        {
          "output_type": "execute_result",
          "data": {
            "text/plain": [
              "(0.9666666666666667, 0.0542312442401423)"
            ]
          },
          "metadata": {},
          "execution_count": 36
        }
      ],
      "source": [
        "model.validation_score(X_valid, y_valid)"
      ]
    },
    {
      "cell_type": "markdown",
      "metadata": {
        "id": "j9pckHfpp-zh"
      },
      "source": [
        "Well, this model looks pretty good. For the sake of the exercise, let's add a bit of  ℓ2  regularization.\n",
        "\n",
        "$L2(J(\\mathbf{\\Theta}) )=\n",
        " \\dfrac{λ}{2}\\sum\\limits_{k=1}^{K}\\theta^2$\n",
        "\n",
        "The following class inherits the MySoftmaxClassifier you have already implemented. \\\\\n",
        "<mark>TODO-11</mark> Now, implement the cross_entropy() and gradient() function so that it has ℓ2 regularization. ***(2 pts each)***"
      ]
    },
    {
      "cell_type": "code",
      "execution_count": 37,
      "metadata": {
        "id": "m_dfhIyep-zi"
      },
      "outputs": [],
      "source": [
        "eta = 0.1\n",
        "n_iterations = 5001\n",
        "m = len(X_train)\n",
        "epsilon = 1e-7      # for numerical stability of cross entropy loss\n",
        "alpha = 0.1    # regularization hyperparameter\n",
        "\n",
        "class MySoftmaxClassifierL2(MySoftmaxClassifier):\n",
        "    def __init__(self, n_classes):\n",
        "        MySoftmaxClassifier.__init__(self, n_classes)\n",
        "        self.n_inputs = n_inputs\n",
        "        self.n_outputs = n_outputs\n",
        "        return \n",
        "    \n",
        "    def cross_entropy(self, Y_target, Y_pred):\n",
        "        ####### TODO #########\n",
        "        # loss = (-1/m) * np.sum(Y_target * np.log(Y_pred + epsilon))\n",
        "        loss = (-1/m) * np.sum(Y_target * np.log(Y_pred + epsilon)) + (alpha/(2)) * np.sum(np.square(self.theta))\n",
        "        ######################\n",
        "        return loss \n",
        "    \n",
        "    def gradient(self, Y_target, Y_pred, X_train):\n",
        "        ####### TODO #########\n",
        "        gradients = (1/m) * (np.dot(X_train.T, (Y_pred - Y_target))) + (alpha)*(self.theta)\n",
        "        ######################\n",
        "        return gradients"
      ]
    },
    {
      "cell_type": "code",
      "execution_count": 38,
      "metadata": {
        "id": "VC4ykHpQ7AdU",
        "colab": {
          "base_uri": "https://localhost:8080/"
        },
        "outputId": "2eca8637-0d36-41f5-c0a3-f1fa27f148c8"
      },
      "outputs": [
        {
          "output_type": "stream",
          "name": "stdout",
          "text": [
            "0 7.714460136163083\n",
            "500 0.8206417238699948\n",
            "1000 0.8206361413956232\n",
            "1500 0.8206361411895756\n",
            "2000 0.8206361411895672\n",
            "2500 0.8206361411895672\n",
            "3000 0.8206361411895672\n",
            "3500 0.8206361411895671\n",
            "4000 0.8206361411895671\n",
            "4500 0.8206361411895671\n",
            "5000 0.8206361411895671\n"
          ]
        }
      ],
      "source": [
        "np.random.seed(50)\n",
        "model = MySoftmaxClassifierL2(n_classes=3)\n",
        "model.fit(X_train, Y_train_one_hot)"
      ]
    },
    {
      "cell_type": "markdown",
      "metadata": {
        "id": "K9HzJA-Xp-zi"
      },
      "source": [
        "We see that the validation accuracy is improved with the regularization."
      ]
    },
    {
      "cell_type": "code",
      "execution_count": 39,
      "metadata": {
        "id": "FRcjG8jRp-zi",
        "colab": {
          "base_uri": "https://localhost:8080/"
        },
        "outputId": "38e2f8e0-b49e-4e9c-e7a7-0266030d33d7"
      },
      "outputs": [
        {
          "output_type": "execute_result",
          "data": {
            "text/plain": [
              "(0.7333333333333333, 0.3564013589953976)"
            ]
          },
          "metadata": {},
          "execution_count": 39
        }
      ],
      "source": [
        "model.validation_score(X_valid, y_valid)"
      ]
    },
    {
      "cell_type": "markdown",
      "metadata": {
        "id": "VKE9pGM_p-zi"
      },
      "source": [
        "<mark>TODO-12</mark> Implement early stopping in the following class. ***(3 pts)***\n",
        "\n",
        "Early stopping finishes training if the validation loss increases. Print the following when early stopping happens\n",
        "> print(iteration, val_loss, \"early stopping!\")"
      ]
    },
    {
      "cell_type": "code",
      "execution_count": 40,
      "metadata": {
        "id": "0EIV2j9Up-zi"
      },
      "outputs": [],
      "source": [
        "eta = 0.1\n",
        "n_iterations = 5001\n",
        "m = len(X_train)\n",
        "epsilon = 1e-7\n",
        "alpha = 0.1    # regularization hyperparameter\n",
        "\n",
        "class MySoftmaxClassifierES(MySoftmaxClassifierL2):\n",
        "    def __init__(self, n_classes):\n",
        "        MySoftmaxClassifierL2.__init__(self, n_classes)\n",
        "        self.best_loss = np.infty\n",
        "        return \n",
        "    \n",
        "    def fit(self, X_train, Y_train_one_hot, X_valid, y_valid):\n",
        "        for iteration in range(n_iterations):\n",
        "            Y_proba = self.predict(X_train)\n",
        "            gradients = self.gradient(Y_train_one_hot, Y_proba, X_train)\n",
        "            self.theta = self.theta - eta * gradients\n",
        "            _, val_loss = self.validation_score(X_valid, y_valid)\n",
        "\n",
        "            if iteration % 500 == 0:\n",
        "                print(iteration, val_loss)\n",
        "                \n",
        "            ###### TODO ########\n",
        "            if val_loss <= self.best_loss:\n",
        "                self.best_loss = val_loss\n",
        "            else:\n",
        "                print(iteration, val_loss, \"early stopping!\")\n",
        "                break\n",
        "            #####################"
      ]
    },
    {
      "cell_type": "code",
      "execution_count": 41,
      "metadata": {
        "id": "71HWPDmp7IiI",
        "colab": {
          "base_uri": "https://localhost:8080/"
        },
        "outputId": "caa0268e-7dd0-4f12-9fb3-20d9d969ef77"
      },
      "outputs": [
        {
          "output_type": "stream",
          "name": "stdout",
          "text": [
            "0 0.742008528911621\n",
            "97 0.337807678805559 early stopping!\n"
          ]
        }
      ],
      "source": [
        "np.random.seed(51)\n",
        "model = MySoftmaxClassifierES(n_classes=3)\n",
        "model.fit(X_train, Y_train_one_hot, X_valid, y_valid)"
      ]
    },
    {
      "cell_type": "markdown",
      "metadata": {
        "id": "jcoB7YkJp-zj"
      },
      "source": [
        "With early stopping, we see similar performance while training a smaller number of iterations."
      ]
    },
    {
      "cell_type": "code",
      "execution_count": 42,
      "metadata": {
        "id": "bF4DEs8ap-zj",
        "colab": {
          "base_uri": "https://localhost:8080/"
        },
        "outputId": "0ed453a2-f633-4936-d2c7-7e6c84d722bd"
      },
      "outputs": [
        {
          "output_type": "execute_result",
          "data": {
            "text/plain": [
              "(0.6666666666666666, 0.337807678805559)"
            ]
          },
          "metadata": {},
          "execution_count": 42
        }
      ],
      "source": [
        "model.validation_score(X_valid, y_valid)"
      ]
    },
    {
      "cell_type": "markdown",
      "metadata": {
        "id": "_pApNf1d2Yua"
      },
      "source": [
        "# Evaluation"
      ]
    },
    {
      "cell_type": "code",
      "execution_count": 43,
      "metadata": {
        "id": "bQlYbZXo2o1C",
        "colab": {
          "base_uri": "https://localhost:8080/"
        },
        "outputId": "f5fd9b7b-d170-46d5-8212-f2e179c0623d"
      },
      "outputs": [
        {
          "output_type": "stream",
          "name": "stdout",
          "text": [
            "TODO#1 Result: \n",
            " [[3.60043689]\n",
            " [3.44071344]]\n",
            "\n",
            "TODO#2 Result: \n",
            " [[1.46759341]\n",
            " [1.21315488]]\n",
            "\n",
            "TODO#4 Result: \n",
            " [[2.23165314]\n",
            " [5.35987543]]\n",
            "\n",
            "TODO#5 Result: \n",
            " [[0.68827046]\n",
            " [1.89257362]\n",
            " [1.42154966]\n",
            " [1.59358978]\n",
            " [1.13315248]]\n",
            "\n",
            "TODO#6 Result: \n",
            " [[4.21436997]\n",
            " [2.92983234]]\n",
            "\n",
            "TODO#7 Result: \n",
            " [[6.04158526]\n",
            " [9.44196144]]\n",
            "\n",
            "TODO#7 Result: train len: 6, val len: 2, test len: 2\n",
            "\n",
            "\n",
            "TODO#8 Result: \n",
            " [[1. 0. 0. 0. 0. 0.]\n",
            " [0. 1. 0. 0. 0. 0.]\n",
            " [0. 0. 1. 0. 0. 0.]\n",
            " [0. 0. 0. 0. 0. 1.]\n",
            " [0. 0. 0. 0. 1. 0.]\n",
            " [0. 0. 0. 1. 0. 0.]]\n",
            "\n",
            "TODO#9 Result: \n",
            " [[0.0320586  0.08714432 0.23688282 0.64391426]\n",
            " [0.3994863  0.1469628  0.05406459 0.3994863 ]]\n",
            "\n",
            "TODO#10-1 Result: \n",
            " [[9.82288090e-01 1.65148243e-02 1.19708581e-03]\n",
            " [9.99986199e-01 1.37068034e-05 9.37967203e-08]]\n",
            "\n",
            "TODO#10-2 Result: \n",
            " 0.12453577361481129\n",
            "\n",
            "TODO#10-3 Result: \n",
            " [[ 3.31360743e-02 -3.31493784e-02  1.33040800e-05]\n",
            " [ 4.40502331e-02 -4.40768392e-02  2.66060756e-05]]\n",
            "\n",
            "TODO#11-1 Result: \n",
            " [[1.30729536e-02 1.28153211e-01 8.58773836e-01]\n",
            " [5.81893408e-05 3.45896240e-02 9.65352187e-01]]\n",
            "\n",
            "TODO#11-2 Result: \n",
            " 0.3206976305696132\n",
            "\n",
            "TODO#11-3 Result: \n",
            " [[-0.15380638  0.0086256   0.03354046]\n",
            " [-0.14374516 -0.1388535   0.08208909]]\n",
            "\n",
            "TODO#12 Result: \n",
            "\n",
            "0 0.42890385225697064\n",
            "500 0.07294608868381908\n",
            "743 0.07292258004066857 early stopping!\n"
          ]
        }
      ],
      "source": [
        "### Evaluation Cell ### \n",
        "### The execution result of this cell has to be in the submission. But, never change this cell.\n",
        "\n",
        "import numpy as np\n",
        "\n",
        "np.random.seed(376)\n",
        "eval_eta = 1\n",
        "eval_minibatch_size=3\n",
        "eval_theta_path_sgd = []\n",
        "\n",
        "eval_X = 2 * np.random.rand(10, 1)\n",
        "eval_y = 4 + 3 * eval_X + np.random.randn(10, 1)\n",
        "\n",
        "eval_X_b = np.c_[np.ones((len(eval_X), 1)), eval_X]\n",
        "todo_1 = solve_normal_eq(eval_X_b, eval_y)\n",
        "print(\"TODO#1 Result: \\n\", todo_1) # independent\n",
        "\n",
        "eval_theta = np.random.randn(2,1)\n",
        "todo_2 = linear_mse_gradient_update(eval_X_b, eval_y, eval_theta, len(X), 1)\n",
        "print(\"\\nTODO#2 Result: \\n\", todo_2) # independent\n",
        "\n",
        "eval_theta = np.random.randn(2,1)\n",
        "todo_4 = step_sgd(eval_X_b, eval_y, eval_theta, 0, 3, eval_eta)\n",
        "print(\"\\nTODO#4 Result: \\n\", todo_4) # independent\n",
        "\n",
        "todo_5, _ = shuffle_data(eval_X, eval_y)\n",
        "print(\"\\nTODO#5 Result: \\n\", todo_5[:5]) # independent\n",
        "\n",
        "todo_6, _ = train_one_epoch(theta, eval_X_b, eval_y, len(eval_y), 3, eval_eta, eval_theta_path_sgd)\n",
        "print(\"\\nTODO#6 Result: \\n\", todo_6) # dependent on todo 4-6\n",
        "\n",
        "eval_test_ratio = 0.2\n",
        "eval_validation_ratio = 0.2\n",
        "eval_total_size = len(eval_X_b)\n",
        "\n",
        "eval_test_size = int(eval_total_size * eval_test_ratio)\n",
        "eval_validation_size = int(eval_total_size * eval_validation_ratio)\n",
        "eval_train_size = eval_total_size - eval_test_size - eval_validation_size\n",
        "\n",
        "eval_X_train, eval_y_train, eval_X_valid, eval_y_valid, _, todo_7 = train_test_split(eval_X_b, eval_y, eval_total_size, eval_train_size, eval_validation_size, eval_test_size)\n",
        "print(\"\\nTODO#7 Result: \\n\", todo_7) # independent\n",
        "print(\"\\nTODO#7 Result: train len: {}, val len: {}, test len: {}\\n\".format(len(eval_X_train), len(eval_X_valid), len(todo_7)))\n",
        "\n",
        "todo_8 = to_one_hot(np.array([0, 1, 2, 5, 4, 3]), n_classes=6)\n",
        "print(\"\\nTODO#8 Result: \\n\", todo_8) # independent\n",
        "\n",
        "todo_9 = softmax(np.array([[1, 2, 3, 4], [-1, -2, -3, -1]]))\n",
        "print(\"\\nTODO#9 Result: \\n\", todo_9) # independent\n",
        "\n",
        "eval_X_train = np.array([[1, 2], [3, 4]])\n",
        "eval_onehot = np.array([[1, 0, 0], [0, 1, 0]])\n",
        "eval_X_valid = np.array([[2, 3], [4, 5]])\n",
        "eval_y_valid = np.array([[0], [2]])\n",
        "\n",
        "classification_model = MySoftmaxClassifier(n_classes=3)\n",
        "classification_model.theta = np.random.randn(2, 3)\n",
        "eval_y_proba = classification_model.predict(eval_X_train)\n",
        "eval_l = classification_model.cross_entropy(eval_onehot, eval_y_proba)\n",
        "eval_grad = classification_model.gradient(eval_onehot, eval_y_proba, eval_X_train)\n",
        "\n",
        "print(\"\\nTODO#10-1 Result: \\n\", eval_y_proba) # independent\n",
        "print(\"\\nTODO#10-2 Result: \\n\", eval_l) # dependent on TODO 10-1\n",
        "print(\"\\nTODO#10-3 Result: \\n\", eval_grad) # dependent on TODO 10-1\n",
        "\n",
        "l2_classification_model = MySoftmaxClassifierL2(n_classes=3)\n",
        "l2_classification_model.theta = np.random.randn(2, 3)\n",
        "l2_classification_model.n_outputs = 3\n",
        "eval_y_proba = l2_classification_model.predict(eval_X_train)\n",
        "eval_l = l2_classification_model.cross_entropy(eval_onehot, eval_y_proba)\n",
        "eval_grad = l2_classification_model.gradient(eval_onehot, eval_y_proba, eval_X_train)\n",
        "\n",
        "print(\"\\nTODO#11-1 Result: \\n\", eval_y_proba) # indepedent\n",
        "print(\"\\nTODO#11-2 Result: \\n\", eval_l) # dependent on TODO 11-1\n",
        "print(\"\\nTODO#11-3 Result: \\n\", eval_grad) # dependent on TODO 11-1\n",
        "\n",
        "print(\"\\nTODO#12 Result: \\n\")\n",
        "\n",
        "es_model = MySoftmaxClassifierES(n_classes=3)\n",
        "es_model.theta = np.random.randn(2, 3)\n",
        "es_model.n_outputs = 3\n",
        "es_model.fit(eval_X_train, eval_onehot, eval_X_valid, eval_y_valid)"
      ]
    },
    {
      "cell_type": "code",
      "execution_count": 43,
      "metadata": {
        "id": "fIEcis5WZW80"
      },
      "outputs": [],
      "source": [
        ""
      ]
    }
  ],
  "metadata": {
    "colab": {
      "collapsed_sections": [],
      "name": "CS376_HW1.ipynb",
      "provenance": [],
      "toc_visible": true,
      "include_colab_link": true
    },
    "kernelspec": {
      "display_name": "Python 3",
      "language": "python",
      "name": "python3"
    },
    "language_info": {
      "codemirror_mode": {
        "name": "ipython",
        "version": 3
      },
      "file_extension": ".py",
      "mimetype": "text/x-python",
      "name": "python",
      "nbconvert_exporter": "python",
      "pygments_lexer": "ipython3",
      "version": "3.10.4"
    }
  },
  "nbformat": 4,
  "nbformat_minor": 0
}