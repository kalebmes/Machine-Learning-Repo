{
  "cells": [
    {
      "cell_type": "markdown",
      "metadata": {
        "id": "view-in-github",
        "colab_type": "text"
      },
      "source": [
        "<a href=\"https://colab.research.google.com/github/kalebmes/CS376-Machine-Learning/blob/main/Homeworks/CS376_HW3.ipynb\" target=\"_parent\"><img src=\"https://colab.research.google.com/assets/colab-badge.svg\" alt=\"Open In Colab\"/></a>"
      ]
    },
    {
      "cell_type": "markdown",
      "metadata": {
        "id": "8mhuaIgkG65g"
      },
      "source": [
        "---\n",
        "# CS376 HW3: RNN, LSTM, Attention ***(Total score: 60)***\n",
        "\n",
        "(Note that this score is not the same score that will be used in computing your final HW grade. The score will be re-scaled considering other homeworks.)\n",
        "\n",
        "In this assignment, you will implement neural machine translation (NMT) models using:\n",
        "\n",
        "1. RNNs\n",
        "2. LSTMs and LSTMs with attention\n",
        "\n",
        "As in the previous assignments, you will see code blocks that look like this:\n",
        "```python\n",
        "###############################################################################\n",
        "# TODO: Create a variable x with value 3.7\n",
        "###############################################################################\n",
        "pass\n",
        "# END OF YOUR CODE\n",
        "```\n",
        "\n",
        "You should replace the `pass` statement with your own code and leave the blocks intact, like this:\n",
        "```python\n",
        "###############################################################################\n",
        "# TODO: Create a variable x with value 3.7\n",
        "###############################################################################\n",
        "x = 3.7\n",
        "# END OF YOUR CODE\n",
        "```\n",
        "\n",
        "Also, please remember:\n",
        "- Do not write or modify any code outside of code blocks\n",
        "- Do not add or delete any cells from the notebook (except for Discuss/Analysis section). You may add new cells to perform scatch work, but delete them before submitting.\n",
        "- Run all cells before submitting. You will only get credit for code that has been run.\n",
        "\n",
        "---\n",
        "\n",
        "**1. How to submit**\n",
        "* Submit **one** files to KLMS (You don't need to submit pdf file anymore):\n",
        "  - hw3_{student_ID}.ipynb, \n",
        "\n",
        "**2. Note**\n",
        "*   **Both ipynb and PDF files must contain executed log of all code blocks (after the last execution).**\n",
        "*   Your code should be reproducible. If we cannot reproduce, you will get penalty so please make sure everything works well before you submit.\n",
        "*   You are required to use the functions given in the notebook, do not use more advanced methods.\n",
        "\n",
        "\n",
        "**3. Grading**\n",
        "* Total score is **60pt**.\n",
        "* Code (25pt) -  We will check whether you implemented your codes correctly and it can reproduce the results you made.\n",
        "* Evaluation (25pt) - You can get the evalutation score whenever you pass the test cell.\n",
        "* Discussion (10pt) - It will be given if you experiment deeply enough with different condition and provide your reasonable explanation.\n",
        "\n",
        "---\n",
        "\n",
        "###**Change log**###\n",
        "\n",
        "2022.04.28)  \n",
        "  LSTM Encoder-Decoder:   LSTM encoder prediction -> LSTM decoder prediction\n",
        "\n",
        "\n",
        "2022.05.02)  \n",
        "  Test cell for TODO1,2: Annotation added. Minor code fix.\n",
        "\n",
        "2022.05.09)  \n",
        "  MLPAttention: Notation fixes. (vector v -> h)"
      ]
    },
    {
      "cell_type": "code",
      "source": [
        "# Before start, fill your information and run it.\n",
        "\n",
        "NAME = \"Kaleb Mesfin Asfaw\"\n",
        "STUDENT_ID = \"20200805\"\n",
        "asgn3_score = 0"
      ],
      "metadata": {
        "id": "pRHMSaFhWhOe"
      },
      "execution_count": 163,
      "outputs": []
    },
    {
      "cell_type": "markdown",
      "metadata": {
        "id": "UBri01t3G65h"
      },
      "source": [
        "## Setup\n",
        "\n",
        "First let's import some libraries that will be useful in this assignment.\n"
      ]
    },
    {
      "cell_type": "code",
      "execution_count": 164,
      "metadata": {
        "id": "Cj9OGJRtG65h"
      },
      "outputs": [],
      "source": [
        "import zipfile\n",
        "import matplotlib.pyplot as plt\n",
        "import random\n",
        "import collections\n",
        "import numpy as np\n",
        "import zipfile\n",
        "import torch\n",
        "import os\n",
        "import torch.nn as nn\n",
        "import torch.nn.functional as F\n",
        "\n",
        "def seed(seed):\n",
        "  torch.manual_seed(seed)\n",
        "  np.random.seed(seed)"
      ]
    },
    {
      "cell_type": "markdown",
      "metadata": {
        "id": "lw8x1Bw7G65i"
      },
      "source": [
        "Make sure you are using the GPU."
      ]
    },
    {
      "cell_type": "code",
      "execution_count": 165,
      "metadata": {
        "id": "XZJUDZ_1G65i",
        "colab": {
          "base_uri": "https://localhost:8080/"
        },
        "outputId": "74ba222a-17c6-4f65-8b67-80c64d28afc4"
      },
      "outputs": [
        {
          "output_type": "stream",
          "name": "stdout",
          "text": [
            "Good to go!\n"
          ]
        }
      ],
      "source": [
        "if torch.cuda.is_available():\n",
        "  print('Good to go!')\n",
        "else:\n",
        "  print('Please set GPU via Edit -> Notebook Settings.')\n",
        "  \n",
        "device = torch.device('cuda:0')"
      ]
    },
    {
      "cell_type": "markdown",
      "metadata": {
        "id": "e8hm3JYHG65j"
      },
      "source": [
        "For this assignment, we will use an English-to-French dataset. As shown below, the dataset contains multiple lines each of which has an English sentence and its French translation separated by a tab. In this problem, since English is translated to French, English is the source language and French is the target language. Note that each text sequence is of variable lengnth and can be just one sentence or a paragraph of multiple sentences."
      ]
    },
    {
      "cell_type": "code",
      "execution_count": 166,
      "metadata": {
        "id": "J34BwlpNG65j"
      },
      "outputs": [],
      "source": [
        "def download_if_not_exist(file_name):\n",
        "  \n",
        "  if not os.path.exists(file_name):\n",
        "    import urllib.request\n",
        "    DATA_URL = 'https://download.pytorch.org/tutorial/data.zip'\n",
        "\n",
        "    file_name, _ = urllib.request.urlretrieve(DATA_URL, './data.zip')\n",
        "    \n",
        "  return file_name\n",
        "\n",
        "def read_raw(file_name):\n",
        "  file_name = download_if_not_exist(file_name)\n",
        "  \n",
        "  with zipfile.ZipFile(file_name, 'r') as fzip:\n",
        "    raw_text = fzip.read(file_name.split('.')[-2][1:] + '/eng-fra.txt').decode('utf-8')\n",
        "  return raw_text"
      ]
    },
    {
      "cell_type": "code",
      "execution_count": 167,
      "metadata": {
        "id": "j1Td3dLnG65k",
        "colab": {
          "base_uri": "https://localhost:8080/"
        },
        "outputId": "dd24e1c9-3192-4f90-c8a0-8e6e438ebcd5"
      },
      "outputs": [
        {
          "output_type": "stream",
          "name": "stdout",
          "text": [
            "Go.\tVa !\n",
            "Run!\tCours !\n",
            "Run!\tCourez !\n",
            "Wow!\tÇa alors !\n",
            "Fire!\tAu feu !\n",
            "Help!\tÀ l'aide !\n",
            "Jump.\tSaute.\n",
            "Stop!\tÇa suffit !\n",
            "Stop!\tStop !\n",
            "Stop!\tArrête-toi !\n",
            "Wait!\tAttends !\n",
            "Wait!\tAttendez !\n",
            "I see.\tJe comprends.\n"
          ]
        }
      ],
      "source": [
        "raw_text = read_raw('./data.zip')\n",
        "print(raw_text[:200])"
      ]
    },
    {
      "cell_type": "markdown",
      "metadata": {
        "id": "wQaSXNNXG65k"
      },
      "source": [
        "Next we'll do some preprocessing on this raw text. We need to replace special symbols (non-breaking spaces) with spaces, convert all characters to lower case, and insert a space between words and punctuation marks."
      ]
    },
    {
      "cell_type": "code",
      "execution_count": 168,
      "metadata": {
        "id": "rBiBxz8EG65k"
      },
      "outputs": [],
      "source": [
        "def preprocess_raw(text):\n",
        "  text = text.replace('\\u202f', ' ').replace('\\xa0', ' ')\n",
        "  out = ''\n",
        "  for i, char in enumerate(text.lower()):\n",
        "    if char in (',', '!', '.') and i > 0 and text[i-1] != ' ':\n",
        "      out += ' '\n",
        "    out += char\n",
        "  return out"
      ]
    },
    {
      "cell_type": "markdown",
      "metadata": {
        "id": "DmkUOc4gG65k"
      },
      "source": [
        "We further split the source-target pairs into a source list and a target list. We use word-level tokenization here. "
      ]
    },
    {
      "cell_type": "code",
      "execution_count": 169,
      "metadata": {
        "id": "VHP6ZhVGG65l"
      },
      "outputs": [],
      "source": [
        "def split_source_target(text, max_len):\n",
        "  source, target = [], []\n",
        "  for i, line in enumerate(text.split('\\n')):\n",
        "    if i > 5000: # we only use 5000 pairs of translation\n",
        "      break\n",
        "    parts = line.split('\\t')\n",
        "    if len(parts) == 2:\n",
        "      src_tokens = parts[0].split(' ')\n",
        "      tgt_tokens = parts[1].split(' ')\n",
        "      if (len(src_tokens) <= max_len) and (len(tgt_tokens) <= max_len):\n",
        "        source.append(src_tokens)\n",
        "        target.append(tgt_tokens)\n",
        "  return source, target"
      ]
    },
    {
      "cell_type": "code",
      "execution_count": 170,
      "metadata": {
        "id": "H1f90fA2G65l"
      },
      "outputs": [],
      "source": [
        "def prepare_data(raw_text, max_len=10000):\n",
        "  text = preprocess_raw(raw_text)\n",
        "  source, target = split_source_target(text, max_len)\n",
        "  return source, target\n",
        "\n",
        "source, target = prepare_data(raw_text)"
      ]
    },
    {
      "cell_type": "markdown",
      "metadata": {
        "id": "LaPsQixJG65l"
      },
      "source": [
        "Using the whole dataset takes too much memory, and it is hard to train with a large vocabulary. Thus, we will filter out some words by looking at the statistical properties of the dataset."
      ]
    },
    {
      "cell_type": "code",
      "execution_count": 171,
      "metadata": {
        "id": "9zv-uU07G65l",
        "colab": {
          "base_uri": "https://localhost:8080/",
          "height": 281
        },
        "outputId": "3c34bf6e-5988-4518-96ed-838d5a4fe86b"
      },
      "outputs": [
        {
          "output_type": "display_data",
          "data": {
            "text/plain": [
              "<Figure size 432x288 with 1 Axes>"
            ],
            "image/png": "[encoded data removed]"
          },
          "metadata": {
            "needs_background": "light"
          }
        }
      ],
      "source": [
        "def len_dis(text):\n",
        "  lens = [len(line) for line in text]\n",
        "  len_counter = collections.Counter(lens)\n",
        "\n",
        "  lens = np.array(list(len_counter.keys()))\n",
        "  sort_idx = np.argsort(lens)\n",
        "  lens_sort = lens[sort_idx]\n",
        "  len_counts = np.array(list(len_counter.values()))\n",
        "  len_counts_sort = len_counts[sort_idx]\n",
        "  p = np.cumsum(len_counts_sort) / len_counts_sort.sum()\n",
        "  return p, lens_sort\n",
        "  \n",
        "src_p, src_lens_sort = len_dis(source)\n",
        "tgt_p, tgt_lens_sort = len_dis(target)\n",
        "plt.plot(src_lens_sort, src_p, 'r-', label='eng')\n",
        "plt.plot(tgt_lens_sort, tgt_p, 'g-', label='fra')\n",
        "plt.title('Cumulative Distribution of Sentence Length')\n",
        "plt.legend()\n",
        "plt.show()"
      ]
    },
    {
      "cell_type": "markdown",
      "metadata": {
        "id": "MpAMl-RGG65l"
      },
      "source": [
        "From the above plots, we can see that more than 90% of the sentences have a length of less than 8. Thus, we can filter out sentences of length greater than 8. We also filter out words that occur less than 5 times in the corpus."
      ]
    },
    {
      "cell_type": "code",
      "execution_count": 172,
      "metadata": {
        "id": "D2B-aT3qG65l"
      },
      "outputs": [],
      "source": [
        "# hyper-param\n",
        "MAX_LEN = 8\n",
        "MIN_FREQ = 5"
      ]
    },
    {
      "cell_type": "markdown",
      "metadata": {
        "id": "vBrMUj8aG65m"
      },
      "source": [
        "### Build Vocabulary\n",
        "\n",
        "Each word needs a unique index, and the words that have been filtered out need a special token to represent them. The following class Vocab is used to build the vocabulary. Some basic helper functions or dictionaries are also provided:\n",
        "- Dictionary word2index: Convert word string into index: \n",
        "- Dictionary index2word: Convert index into word string\n",
        "- helper function _build_vocab(): Build dictionaries for converting from words to indices and vice versa\n",
        "- Word Counter, num_word: Record the total number of unique tokens in the vocabulary \n",
        "    \n",
        "There are 4 special tokens added in the vocabulary:\n",
        "- 'pad': padding token. Sentences shorter than MAX_LEN is padded by this symbol to make the length to MAX_LEN\n",
        "- 'bos': beginning of sentence. This indicates the beginning of a sentence\n",
        "- 'eos': end of sentence. This indicates the end of a sentence\n",
        "- 'unk': unknown word. This represents words that have been filtered out (words that are not in the vocabulary)"
      ]
    },
    {
      "cell_type": "code",
      "execution_count": 173,
      "metadata": {
        "id": "1ZlC21-IG65m"
      },
      "outputs": [],
      "source": [
        "class Vocab():\n",
        "  def __init__(self, name, tokens, min_freq):\n",
        "    self.name = name\n",
        "    self.index2word = {\n",
        "      0: 'pad',\n",
        "      1: 'bos',\n",
        "      2: 'eos',\n",
        "      3: 'unk'\n",
        "    }\n",
        "    self.word2index = {v: k for k, v in self.index2word.items()}\n",
        "    self.num_word = 4\n",
        "    token_freq = collections.Counter(tokens)\n",
        "    tokens = [token for token in tokens if token_freq[token] >= MIN_FREQ]\n",
        "    self._build_vocab(tokens)\n",
        "    \n",
        "  def _build_vocab(self, tokens):\n",
        "    for token in tokens:\n",
        "      if token not in self.word2index:\n",
        "        self.word2index[token] = self.num_word\n",
        "        self.index2word[self.num_word] = token\n",
        "        self.num_word += 1\n",
        "        \n",
        "  def __getitem__(self, tokens):\n",
        "    if not isinstance(tokens, (list, tuple)):\n",
        "      return self.word2index.get(tokens, self.word2index['unk'])\n",
        "    else:\n",
        "      return [self.__getitem__(token) for token in tokens]"
      ]
    },
    {
      "cell_type": "markdown",
      "metadata": {
        "id": "MSAfZ9VYG65m"
      },
      "source": [
        "### Build Dataset\n",
        "\n",
        "The dataset pipeline involves the following steps:\n",
        "- For target language, every sentence will be 'sandwiched' with the 'bos' token and the 'eos' token.\n",
        "- Every sentence that has a length less than MAX_LEN will be padded to the MAX_LEN with the *padding_token*.\n",
        "- The dataset should return the converted tensor and the corresponding valid length before padding.\n",
        "- We use the Pytorch *DataLoader* API to build the dataset generator.\n",
        "\n",
        "For the purposes of this assignment, we will train and evaluate on only the training data. This isn't ideal because we do not know if we are  overfitting to the training data, but it is fine for instructional purposes. In practice (eg. for your projects), you should make sure to split your data into training/validation/test datasets."
      ]
    },
    {
      "cell_type": "code",
      "execution_count": 174,
      "metadata": {
        "id": "uQzcjBZqG65m",
        "colab": {
          "base_uri": "https://localhost:8080/"
        },
        "outputId": "e780e9b1-ff45-464b-f166-5ec5936bd548"
      },
      "outputs": [
        {
          "output_type": "stream",
          "name": "stdout",
          "text": [
            "(tensor([4, 5, 0, 0, 0, 0, 0, 0, 0, 0]), tensor(2), tensor([1, 4, 5, 2, 0, 0, 0, 0, 0, 0]), tensor(4))\n",
            "Vocabulary size of source language: 433\n",
            "Vocabulary size of target language: 420\n",
            "Total number of sentence pairs: 4990\n"
          ]
        }
      ],
      "source": [
        "def build_vocab(name, tokens, min_freq):\n",
        "  tokens = [token for line in tokens for token in line]\n",
        "  return Vocab(name, tokens, min_freq)\n",
        "\n",
        "def build_vocabs(lang_src, lang_tgt, src_text, tgt_text):\n",
        "  vocab_src = build_vocab(lang_src, src_text, MIN_FREQ)\n",
        "  vocab_tgt = build_vocab(lang_tgt, tgt_text, MIN_FREQ)\n",
        "  return vocab_src, vocab_tgt\n",
        "\n",
        "def pad(line, padding_token):\n",
        "  return line + [padding_token] * (MAX_LEN + 2 - len(line))\n",
        "\n",
        "def build_tensor(text, lang, is_source):\n",
        "  lines = [lang[line] for line in text]\n",
        "  if not is_source:\n",
        "    lines = [[lang['bos']] + line + [lang['eos']] for line in lines]\n",
        "  array = torch.tensor([pad(line, lang['pad']) for line in lines])\n",
        "  valid_len = (array != lang['pad']).sum(1)\n",
        "  return array, valid_len\n",
        "\n",
        "def load_data_nmt(batch_size=2):\n",
        "  lang_eng, lang_fra = build_vocabs('eng', 'fra', source, target)\n",
        "  src_array, src_valid_len = build_tensor(source, lang_eng, True)\n",
        "  tgt_array, tgt_valid_len = build_tensor(target, lang_fra, False)\n",
        "  train_data = torch.utils.data.TensorDataset(\n",
        "    src_array, src_valid_len, tgt_array, tgt_valid_len)\n",
        "  print(train_data[0])\n",
        "  train_iter = torch.utils.data.DataLoader(train_data, batch_size, shuffle=True)\n",
        "  return lang_eng, lang_fra, train_iter\n",
        "\n",
        "\n",
        "source, target = prepare_data(raw_text, max_len=MAX_LEN)\n",
        "vocab_eng, vocab_fra, train_iter = load_data_nmt(batch_size=2)\n",
        "print('Vocabulary size of source language: {}'.format(vocab_eng.num_word))\n",
        "print('Vocabulary size of target language: {}'.format(vocab_fra.num_word))\n",
        "print('Total number of sentence pairs: {}'.format(len(source)))"
      ]
    },
    {
      "cell_type": "markdown",
      "metadata": {
        "id": "WZuEXonbG65m"
      },
      "source": [
        "## Sequence to Sequence with RNN (baseline)\n",
        "\n",
        "In this section, we provide the implementation of the seq2seq RNN baseline model. You do not need to implement any code in this section, but you should read and understand what the code is doing because you will need to implement something similar in subsequent sections. The following figure highlights the architecture of the seq2seq model. An encoder RNN encodes the input sequence into its hidden state, and passes the last hidden state to the decoder RNN. The decoder generates the target sequence.\n",
        "\n",
        "Implementation Details:\n",
        "\n",
        "- Embedding: We have represented each word with an integer or one-hot vector. We need an embedding layer to map an input word to its embedding vector.\n",
        "- Encoder: A vanilla RNN is used to encode a source sequence. The final hidden state is returned as output and passed to the decoder RNN.\n",
        "- Decoder: Another vanilla RNN is implemented to generate the target sequence. The hidden state is initialized with the last hidden state from the encoder.\n",
        "- Encoder-Decoder: The class NMTRNN is built by combining the encoder and the decoder, and yields the loss and predictions.\n",
        "- Loss: We have padded all sentences so that they have the same MAX_LEN. Thus, when we compute the loss, the loss from those padding_tokens should be masked out."
      ]
    },
    {
      "cell_type": "markdown",
      "metadata": {
        "id": "aBNAJ6eWG65n"
      },
      "source": [
        "<div>\n",
        "<img src=\"https://raw.githubusercontent.com/dsgiitr/d2l-pytorch/24e89824c154c2afc419c5dadec9622e490b99bb/img/seq2seq.svg\" width=\"600\"/>\n",
        "</div>\n",
        "Image source: https://github.com/dsgiitr/d2l-pytorch/blob/master/img/seq2seq.svg"
      ]
    },
    {
      "cell_type": "code",
      "execution_count": 175,
      "metadata": {
        "id": "lsdusjPfG65n"
      },
      "outputs": [],
      "source": [
        "class Encoder(nn.Module):\n",
        "  def __init__(self, vocab_size, embedding_dim, hidden_size):\n",
        "    super(Encoder, self).__init__()\n",
        "    \"\"\"\n",
        "    inputs:\n",
        "      vocab_size: int, the number of words in the vocabulary\n",
        "      embedding_dim: int, dimension of the word embedding\n",
        "      hidden_size: int, dimension of the hidden state of vanilla RNN\n",
        "    \"\"\"\n",
        "    self.embedding = nn.Embedding(vocab_size, embedding_dim) # embedding layer\n",
        "    self.enc = nn.RNN(embedding_dim, hidden_size, batch_first=True)\n",
        "    self.hidden_size = hidden_size\n",
        "    \n",
        "  def forward(self, sources, valid_len):\n",
        "    \"\"\"\n",
        "    Inputs:\n",
        "      source: tensor of size (N, T), where N is the batch size, T is the length of the sequence(s)\n",
        "      valid_len: tensor of size (N,), indicating the valid length of sequence(s) (the length before padding)\n",
        "    \"\"\"\n",
        "    word_embedded = self.embedding(sources)\n",
        "\n",
        "    N = word_embedded.shape[0]\n",
        "    \n",
        "    h = sources.new_zeros(1, N, self.hidden_size).float() # initialize hidden state with zeros\n",
        "    \n",
        "    o, h = self.enc(word_embedded, h)\n",
        "    \n",
        "    return o[np.arange(N), valid_len] # return the hidden state of the valid last time step\n",
        "\n",
        "class Decoder(nn.Module):\n",
        "  def __init__(self, vocab_size, embedding_dim, hidden_size):\n",
        "    super(Decoder, self).__init__()\n",
        "    \"\"\"\n",
        "    inputs:\n",
        "      vocab_size: int, the number of words in the vocabulary\n",
        "      embedding_dim: int, dimension of the word embedding\n",
        "      hidden_size: int, dimension of the hidden state of vanilla RNN\n",
        "    \"\"\"\n",
        "    self.embedding = nn.Embedding(vocab_size, embedding_dim)\n",
        "    self.enc = nn.RNN(embedding_dim, hidden_size, batch_first=True)\n",
        "    self.output_emb = nn.Linear(hidden_size, vocab_size)\n",
        "    self.hidden_size = hidden_size\n",
        "    \n",
        "  def forward(self, h, target):\n",
        "    word_embedded = self.embedding(target)\n",
        "    N, T = word_embedded.shape[:2]\n",
        "    o, h = self.enc(word_embedded, h.view(1,N,self.hidden_size))\n",
        "    pred = self.output_emb(o)\n",
        "    return pred, h\n",
        "\n",
        "class NMTRNN(nn.Module):\n",
        "  def __init__(self, src_vocab_size, tgt_vocab_size, embedding_dim, hidden_size):\n",
        "    super(NMTRNN, self).__init__()\n",
        "    self.enc = Encoder(src_vocab_size, embedding_dim, hidden_size)\n",
        "    self.dec = Decoder(tgt_vocab_size, embedding_dim, hidden_size)\n",
        "    \n",
        "  def forward(self, src, src_len, tgt, tgt_len):\n",
        "    h = self.enc(src, src_len)\n",
        "    T = tgt.shape[1]\n",
        "    pred, _ = self.dec(h, tgt)\n",
        "       \n",
        "    loss = F.nll_loss(F.log_softmax(pred[:, :T-1].transpose(1,2), dim = 1), tgt[:, 1:], ignore_index=0, reduction = 'none')\n",
        "    loss = loss.sum(1).mean()\n",
        "\n",
        "    return loss, pred.argmax(dim=-1)\n",
        "\n",
        "  def predict(self, src, src_len, tgt, tgt_len):\n",
        "      \"\"\"\n",
        "      When predicting a sequence given the 'bos' token, the input for the next step is the predicted\n",
        "      token from the previous time step.\n",
        "      \"\"\"\n",
        "      h = self.enc(src, src_len)\n",
        "      \n",
        "      inputs = tgt[:, :1]\n",
        "      preds = []\n",
        "      for t in range(MAX_LEN+1): # plus the 'eos' token\n",
        "        pred, h = self.dec(h, inputs)\n",
        "        preds.append(pred)\n",
        "        inputs = pred.argmax(dim=-1)\n",
        "        \n",
        "      pred = torch.cat(preds, dim=1).argmax(dim=-1)\n",
        "      return pred\n",
        "        "
      ]
    },
    {
      "cell_type": "code",
      "execution_count": 176,
      "metadata": {
        "id": "vbyFT1DKG65n",
        "colab": {
          "base_uri": "https://localhost:8080/"
        },
        "outputId": "d521a157-9ae2-4658-96ba-b8e8a19c2bec"
      },
      "outputs": [
        {
          "output_type": "stream",
          "name": "stdout",
          "text": [
            "(tensor([4, 5, 0, 0, 0, 0, 0, 0, 0, 0]), tensor(2), tensor([1, 4, 5, 2, 0, 0, 0, 0, 0, 0]), tensor(4))\n",
            "iter 0 / 7800\tLoss:\t30.051929\n",
            "pred:\t tensor([146,  65, 349,  53,   3, 330,  52, 330, 330, 330])\n",
            "\n",
            "tgt:\t tensor([ 3, 11,  2,  0,  0,  0,  0,  0,  0])\n",
            "\n",
            "iter 156 / 7800\tLoss:\t10.511124\n",
            "pred:\t tensor([14,  3,  3, 11,  2, 11,  3,  3,  3,  3])\n",
            "\n",
            "tgt:\t tensor([15, 89,  3, 11,  2,  0,  0,  0,  0])\n",
            "\n",
            "iter 312 / 7800\tLoss:\t9.733458\n",
            "pred:\t tensor([  3, 164,   3,  11,  11,   2,  11,   3,   3,   3])\n",
            "\n",
            "tgt:\t tensor([ 48,  49, 113, 282,  11,   2,   0,   0,   0])\n",
            "\n",
            "iter 468 / 7800\tLoss:\t8.342882\n",
            "pred:\t tensor([ 3,  3,  5,  3, 11,  2, 11,  3,  3,  3])\n",
            "\n",
            "tgt:\t tensor([36,  3, 37,  3,  5,  2,  0,  0,  0])\n",
            "\n",
            "iter 624 / 7800\tLoss:\t6.553551\n",
            "pred:\t tensor([36,  3,  3, 11,  2,  5,  3,  3,  3,  3])\n",
            "\n",
            "tgt:\t tensor([36,  9, 88, 11,  2,  0,  0,  0,  0])\n",
            "\n",
            "iter 780 / 7800\tLoss:\t6.765239\n",
            "pred:\t tensor([14, 28,  3, 11,  2, 11,  3,  3,  3,  3])\n",
            "\n",
            "tgt:\t tensor([14, 28,  3, 11,  2,  0,  0,  0,  0])\n",
            "\n",
            "iter 936 / 7800\tLoss:\t7.082889\n",
            "pred:\t tensor([ 14,  28,   3, 227,  37,   3,  11,   2,   5,   3])\n",
            "\n",
            "tgt:\t tensor([ 14,  28,  35, 227,  37,   3,  11,   2,   0])\n",
            "\n",
            "iter 1092 / 7800\tLoss:\t5.889046\n",
            "pred:\t tensor([171, 342,   3,  11,   2,   5,   3,   3,   3,   3])\n",
            "\n",
            "tgt:\t tensor([171, 342,   3,  11,   2,   0,   0,   0,   0])\n",
            "\n",
            "iter 1248 / 7800\tLoss:\t6.406213\n",
            "pred:\t tensor([14, 79, 72, 11,  2, 11,  3,  3,  3,  3])\n",
            "\n",
            "tgt:\t tensor([ 14, 197,   3,  11,   2,   0,   0,   0,   0])\n",
            "\n",
            "iter 1404 / 7800\tLoss:\t5.083074\n",
            "pred:\t tensor([ 14, 171,   3,  11,   2,   5,   3,   3,   3,   3])\n",
            "\n",
            "tgt:\t tensor([14, 70,  3, 11,  2,  0,  0,  0,  0])\n",
            "\n",
            "iter 1560 / 7800\tLoss:\t6.146574\n",
            "pred:\t tensor([266, 203,  78,   3,  41,  24,   2,   5,   3,   3])\n",
            "\n",
            "tgt:\t tensor([168,  90,  79,   4,  41,  24,   2,   0,   0])\n",
            "\n",
            "iter 1716 / 7800\tLoss:\t5.791564\n",
            "pred:\t tensor([ 14, 171,   3,   3,   5,   2,   5,   3,   3,   3])\n",
            "\n",
            "tgt:\t tensor([ 14,  70,  17, 205,   5,   2,   0,   0,   0])\n",
            "\n",
            "iter 1872 / 7800\tLoss:\t4.498377\n",
            "pred:\t tensor([ 3,  5,  2,  5,  5,  5, 11, 11, 11, 11])\n",
            "\n",
            "tgt:\t tensor([ 3, 11,  2,  0,  0,  0,  0,  0,  0])\n",
            "\n",
            "iter 2028 / 7800\tLoss:\t5.391556\n",
            "pred:\t tensor([ 14, 171,   3,  75,   3,  11,   2,   5,   3,   3])\n",
            "\n",
            "tgt:\t tensor([ 14, 171, 213,  75,   3,  11,   2,   0,   0])\n",
            "\n",
            "iter 2184 / 7800\tLoss:\t3.975262\n",
            "pred:\t tensor([ 93, 203,  14, 171,   3,  24,   2,  24,   3,  24])\n",
            "\n",
            "tgt:\t tensor([176, 203,  14, 116,   3,  24,   2,   0,   0])\n",
            "\n",
            "iter 2340 / 7800\tLoss:\t4.227118\n",
            "pred:\t tensor([14, 28, 11,  2, 11,  3,  3,  3,  3,  3])\n",
            "\n",
            "tgt:\t tensor([103, 385,  11,   2,   0,   0,   0,   0,   0])\n",
            "\n",
            "iter 2496 / 7800\tLoss:\t4.504993\n",
            "pred:\t tensor([15,  3, 72,  3, 11,  2,  5, 88, 11, 11])\n",
            "\n",
            "tgt:\t tensor([ 15, 291,   9,   3,  11,   2,   0,   0,   0])\n",
            "\n",
            "iter 2652 / 7800\tLoss:\t4.651218\n",
            "pred:\t tensor([ 14, 116, 179, 259,  11,   2,   5,  88,   3,   3])\n",
            "\n",
            "tgt:\t tensor([ 14, 116, 179, 305,  11,   2,   0,   0,   0])\n",
            "\n",
            "iter 2808 / 7800\tLoss:\t3.552391\n",
            "pred:\t tensor([315, 316,  41, 139,  11,   2,   5,  88,  11,   3])\n",
            "\n",
            "tgt:\t tensor([315, 316,  41, 139,  11,   2,   0,   0,   0])\n",
            "\n",
            "iter 2964 / 7800\tLoss:\t3.309165\n",
            "pred:\t tensor([ 3, 11,  2,  5,  3, 11, 11, 11, 11, 11])\n",
            "\n",
            "tgt:\t tensor([3, 5, 2, 0, 0, 0, 0, 0, 0])\n",
            "\n",
            "iter 3120 / 7800\tLoss:\t3.615935\n",
            "pred:\t tensor([ 15, 282,  11,   2,   5,  88,   3,   3,   3,   3])\n",
            "\n",
            "tgt:\t tensor([  3, 265,  11,   2,   0,   0,   0,   0,   0])\n",
            "\n",
            "iter 3276 / 7800\tLoss:\t3.083683\n",
            "pred:\t tensor([14, 28,  3, 11,  2,  5,  3, 11, 11, 11])\n",
            "\n",
            "tgt:\t tensor([14, 28,  3, 11,  2,  0,  0,  0,  0])\n",
            "\n",
            "iter 3432 / 7800\tLoss:\t3.267341\n",
            "pred:\t tensor([  3,   6, 248,  11,   2,   5, 226,   5,   5,   5])\n",
            "\n",
            "tgt:\t tensor([  3,  72, 248,  11,   2,   0,   0,   0,   0])\n",
            "\n",
            "iter 3588 / 7800\tLoss:\t3.484187\n",
            "pred:\t tensor([176, 393, 355,  24,   2,  24,  24,  24,  24,  24])\n",
            "\n",
            "tgt:\t tensor([  3,  37, 355,  24,   2,   0,   0,   0,   0])\n",
            "\n",
            "iter 3744 / 7800\tLoss:\t3.753399\n",
            "pred:\t tensor([ 14, 375,  74,   3,  11,   2,   5,   3,   3,  11])\n",
            "\n",
            "tgt:\t tensor([ 14, 289,  74,   3,  11,   2,   0,   0,   0])\n",
            "\n",
            "iter 3900 / 7800\tLoss:\t2.836308\n",
            "pred:\t tensor([176,   3, 237,  24,   2,   5,   3,   5,  11,  11])\n",
            "\n",
            "tgt:\t tensor([176,   9, 237,  24,   2,   0,   0,   0,   0])\n",
            "\n",
            "iter 4056 / 7800\tLoss:\t3.557583\n",
            "pred:\t tensor([ 38, 116, 203,   3,  11,   2,   5,   3,  11,  11])\n",
            "\n",
            "tgt:\t tensor([ 38, 419, 203,   3,  11,   2,   0,   0,   0])\n",
            "\n",
            "iter 4212 / 7800\tLoss:\t3.448316\n",
            "pred:\t tensor([ 90,  91,  24,   2,  24, 171,  24,   3,  11,  11])\n",
            "\n",
            "tgt:\t tensor([ 90, 176,  24,   2,   0,   0,   0,   0,   0])\n",
            "\n",
            "iter 4368 / 7800\tLoss:\t2.821337\n",
            "pred:\t tensor([ 79, 207,   3,  11,   2,   5,  88,  11,  11,  11])\n",
            "\n",
            "tgt:\t tensor([  3, 207,   3,  11,   2,   0,   0,   0,   0])\n",
            "\n",
            "iter 4524 / 7800\tLoss:\t2.683895\n",
            "pred:\t tensor([150,  27,   5,   2,   5,   3,  11,  11,  11,  11])\n",
            "\n",
            "tgt:\t tensor([251, 354,   5,   2,   0,   0,   0,   0,   0])\n",
            "\n",
            "iter 4680 / 7800\tLoss:\t2.715029\n",
            "pred:\t tensor([315,  37,  11,   2,   5,  88,  11,  11,  11,  11])\n",
            "\n",
            "tgt:\t tensor([  3, 314,  11,   2,   0,   0,   0,   0,   0])\n",
            "\n",
            "iter 4836 / 7800\tLoss:\t2.453601\n",
            "pred:\t tensor([ 38,  40,  21, 390,  11,   2,   5,   3,  11,  11])\n",
            "\n",
            "tgt:\t tensor([ 38,  40,  21, 390,  11,   2,   0,   0,   0])\n",
            "\n",
            "iter 4992 / 7800\tLoss:\t3.250330\n",
            "pred:\t tensor([14, 28,  3, 11,  2,  5, 88, 11,  3,  3])\n",
            "\n",
            "tgt:\t tensor([14, 28,  3, 11,  2,  0,  0,  0,  0])\n",
            "\n",
            "iter 5148 / 7800\tLoss:\t3.292644\n",
            "pred:\t tensor([267,   3,  24,   2,  24,  24,  24,  24,  24,  24])\n",
            "\n",
            "tgt:\t tensor([267, 234,  24,   2,   0,   0,   0,   0,   0])\n",
            "\n",
            "iter 5304 / 7800\tLoss:\t2.917350\n",
            "pred:\t tensor([52,  3, 11,  2,  5,  3, 11, 11, 11, 11])\n",
            "\n",
            "tgt:\t tensor([52,  3, 11,  2,  0,  0,  0,  0,  0])\n",
            "\n",
            "iter 5460 / 7800\tLoss:\t2.269245\n",
            "pred:\t tensor([ 36,  40, 207,   3,  11,   2,   5,   3,  11,  11])\n",
            "\n",
            "tgt:\t tensor([ 38,  78, 214,   3,  11,   2,   0,   0,   0])\n",
            "\n",
            "iter 5616 / 7800\tLoss:\t2.554283\n",
            "pred:\t tensor([48,  3, 11, 10, 11,  2,  5,  5,  5,  5])\n",
            "\n",
            "tgt:\t tensor([48,  3, 37, 10, 11,  2,  0,  0,  0])\n",
            "\n",
            "iter 5772 / 7800\tLoss:\t1.852852\n",
            "pred:\t tensor([ 3, 41, 11,  2,  5, 88, 11, 11, 11, 11])\n",
            "\n",
            "tgt:\t tensor([  3, 161,  11,   2,   0,   0,   0,   0,   0])\n",
            "\n",
            "iter 5928 / 7800\tLoss:\t2.408982\n",
            "pred:\t tensor([ 3, 19,  5,  2, 24,  3,  3,  3, 11, 11])\n",
            "\n",
            "tgt:\t tensor([ 3, 19,  5,  2,  0,  0,  0,  0,  0])\n",
            "\n",
            "iter 6084 / 7800\tLoss:\t2.275544\n",
            "pred:\t tensor([ 36,   3,  11,   2,   5, 226,  11,  11,  11,  11])\n",
            "\n",
            "tgt:\t tensor([36,  3, 11,  2,  0,  0,  0,  0,  0])\n",
            "\n",
            "iter 6240 / 7800\tLoss:\t1.742480\n",
            "pred:\t tensor([ 3,  5,  2,  5,  3, 11, 11, 11, 11, 11])\n",
            "\n",
            "tgt:\t tensor([3, 5, 2, 0, 0, 0, 0, 0, 0])\n",
            "\n",
            "iter 6396 / 7800\tLoss:\t2.709597\n",
            "pred:\t tensor([171, 341, 236,  11,   2,   5,   3,  11,  11,  11])\n",
            "\n",
            "tgt:\t tensor([ 92, 341, 236,  11,   2,   0,   0,   0,   0])\n",
            "\n",
            "iter 6552 / 7800\tLoss:\t2.095152\n",
            "pred:\t tensor([267,   3,  24,   2,  24, 148,  24,   3,   3,  11])\n",
            "\n",
            "tgt:\t tensor([267, 118,  24,   2,   0,   0,   0,   0,   0])\n",
            "\n",
            "iter 6708 / 7800\tLoss:\t2.489983\n",
            "pred:\t tensor([ 14,  17, 114,  11,   2,  11,  11,  11,  11,  11])\n",
            "\n",
            "tgt:\t tensor([ 14,  17, 114,  11,   2,   0,   0,   0,   0])\n",
            "\n",
            "iter 6864 / 7800\tLoss:\t1.305154\n",
            "pred:\t tensor([14, 79, 28, 41,  3, 11,  2,  5, 88, 11])\n",
            "\n",
            "tgt:\t tensor([ 14,  79,  28,  41, 229,  11,   2,   0,   0])\n",
            "\n",
            "iter 7020 / 7800\tLoss:\t2.398545\n",
            "pred:\t tensor([267,   3,  24,   2,  24, 171,  24,  43,  34,  34])\n",
            "\n",
            "tgt:\t tensor([267, 124,  24,   2,   0,   0,   0,   0,   0])\n",
            "\n",
            "iter 7176 / 7800\tLoss:\t1.622420\n",
            "pred:\t tensor([ 15, 204, 393,   3,  11,   2,  11,   3,   3,  11])\n",
            "\n",
            "tgt:\t tensor([ 15, 204, 393,   3,  11,   2,   0,   0,   0])\n",
            "\n",
            "iter 7332 / 7800\tLoss:\t1.532439\n",
            "pred:\t tensor([52,  3, 11,  2,  5,  3, 11, 11, 11, 11])\n",
            "\n",
            "tgt:\t tensor([52,  3, 11,  2,  0,  0,  0,  0,  0])\n",
            "\n",
            "iter 7488 / 7800\tLoss:\t1.968459\n",
            "pred:\t tensor([ 15,   3,  11,   2,   5, 368,  11,  11,  11,  11])\n",
            "\n",
            "tgt:\t tensor([15, 23, 11,  2,  0,  0,  0,  0,  0])\n",
            "\n",
            "iter 7644 / 7800\tLoss:\t1.736493\n",
            "pred:\t tensor([14, 28,  3, 11,  2, 11,  3, 11, 11,  3])\n",
            "\n",
            "tgt:\t tensor([14, 28,  3, 11,  2,  0,  0,  0,  0])\n",
            "\n"
          ]
        }
      ],
      "source": [
        "def train_rnn(net, train_iter, lr, epochs, device):\n",
        "  # training\n",
        "  net = net.to(device)\n",
        "\n",
        "  optimizer = torch.optim.Adam(net.parameters(), lr=lr)\n",
        "  loss_list = []\n",
        "  print_interval = len(train_iter)\n",
        "  total_iter = epochs * len(train_iter)\n",
        "  for e in range(epochs):\n",
        "    net.train()\n",
        "    for i, train_data in enumerate(train_iter):\n",
        "      train_data = [ds.to(device) for ds in train_data]\n",
        "\n",
        "      loss, pred = net(*train_data)\n",
        "      \n",
        "      loss_list.append(loss.mean().detach())\n",
        "      optimizer.zero_grad()\n",
        "      loss.mean().backward()\n",
        "      optimizer.step()\n",
        "\n",
        "      step = i + e * len(train_iter)\n",
        "      if step % print_interval == 0:\n",
        "        print('iter {} / {}\\tLoss:\\t{:.6f}'.format(step, total_iter, loss.mean().detach()))\n",
        "        print('pred:\\t {}\\n'.format(pred[0].detach().cpu()))\n",
        "        print('tgt:\\t {}\\n'.format(train_data[2][0][1:].cpu()))\n",
        "  return loss_list\n",
        "\n",
        "seed(1)\n",
        "batch_size = 32\n",
        "lr = 1e-3\n",
        "epochs = 50\n",
        "\n",
        "embedding_dim = 250\n",
        "hidden_size = 128\n",
        "\n",
        "vocab_eng, vocab_fra, train_iter = load_data_nmt(batch_size)\n",
        "rnn_net = NMTRNN(vocab_eng.num_word, vocab_fra.num_word, embedding_dim, hidden_size)\n",
        "\n",
        "rnn_loss_list = train_rnn(rnn_net, train_iter, lr, epochs, device)"
      ]
    },
    {
      "cell_type": "markdown",
      "metadata": {
        "id": "8zy5VZYyG65o"
      },
      "source": [
        "### RNN Loss Curve\n",
        "\n",
        "Plot the loss curve over time."
      ]
    },
    {
      "cell_type": "code",
      "execution_count": 177,
      "metadata": {
        "id": "Vse6-u02G65o",
        "colab": {
          "base_uri": "https://localhost:8080/",
          "height": 298
        },
        "outputId": "c611c80a-4db9-4579-cfb4-439b9098932a"
      },
      "outputs": [
        {
          "output_type": "execute_result",
          "data": {
            "text/plain": [
              "Text(0.5, 1.0, 'Loss Curve of Baseline')"
            ]
          },
          "metadata": {},
          "execution_count": 177
        },
        {
          "output_type": "display_data",
          "data": {
            "text/plain": [
              "<Figure size 432x288 with 1 Axes>"
            ],
            "image/png": "[encoded data removed]"
          },
          "metadata": {
            "needs_background": "light"
          }
        }
      ],
      "source": [
        "# save the loss curve figure in a file for the report\n",
        "rnn_loss_list = torch.tensor(rnn_loss_list, device = 'cpu')\n",
        "plt.plot(np.arange(len(rnn_loss_list)), rnn_loss_list)\n",
        "plt.title('Loss Curve of Baseline')"
      ]
    },
    {
      "cell_type": "markdown",
      "metadata": {
        "id": "5v1trnxiG65o"
      },
      "source": [
        "### Prediction Accuracy\n",
        "\n",
        "Print out 5 prediction samples, and calculate the prediction accuracy over the training dataset. You will see an accuracy of over 70%."
      ]
    },
    {
      "cell_type": "code",
      "execution_count": 178,
      "metadata": {
        "id": "FLdflv6XG65o",
        "colab": {
          "base_uri": "https://localhost:8080/"
        },
        "outputId": "06e447e3-6005-466d-bdb1-05800135f4a8"
      },
      "outputs": [
        {
          "output_type": "stream",
          "name": "stdout",
          "text": [
            "(tensor([4, 5, 0, 0, 0, 0, 0, 0, 0, 0]), tensor(2), tensor([1, 4, 5, 2, 0, 0, 0, 0, 0, 0]), tensor(4))\n",
            "pred:\t ['unk', '!']\n",
            "\n",
            "tgt:\t ['unk', '!', 'eos', 'pad', 'pad', 'pad', 'pad', 'pad', 'pad']\n",
            "\n",
            "pred:\t ['je', 'dispose', 'de', 'unk', '.']\n",
            "\n",
            "tgt:\t ['je', \"t'en\", 'dois', 'une', '.', 'eos', 'pad', 'pad', 'pad']\n",
            "\n",
            "pred:\t ['est-il', 'unk', '?']\n",
            "\n",
            "tgt:\t ['est-il', 'unk', '?', 'eos', 'pad', 'pad', 'pad', 'pad', 'pad']\n",
            "\n",
            "pred:\t ['je', 'suis', 'unk', '.']\n",
            "\n",
            "tgt:\t ['je', 'suis', 'unk', '.', 'eos', 'pad', 'pad', 'pad', 'pad']\n",
            "\n",
            "pred:\t ['unk', 'à', 'qui', 'que', 'ce', 'soit', '!']\n",
            "\n",
            "tgt:\t ['demande', 'à', 'unk', 'qui', '!', 'eos', 'pad', 'pad', 'pad']\n",
            "\n",
            "Prediction Acc.: 0.7259\n"
          ]
        }
      ],
      "source": [
        "def comp_acc(pred, gt, valid_len):\n",
        "  N, T_gt = gt.shape[:2]\n",
        "  _, T_pr = pred.shape[:2]\n",
        "  assert T_gt == T_pr, 'Prediction and target should have the same length.'\n",
        "  len_mask = torch.arange(T_gt).expand(N, T_gt)\n",
        "  len_mask = len_mask < valid_len[:, None]\n",
        "  \n",
        "  pred_crr = (pred == gt).float() * len_mask.float() # filter out the 'bos' token\n",
        "  pred_acc = pred_crr.sum(dim=-1) / (valid_len - 1).float() # minus the 'bos' token\n",
        "  return pred_acc\n",
        "  \n",
        "def evaluate_rnn(net, train_iter, device):\n",
        "  acc_list = []\n",
        "  for i, train_data in enumerate(train_iter):\n",
        "    train_data = [ds.to(device) for ds in train_data]\n",
        "\n",
        "    pred = net.predict(*train_data)\n",
        "\n",
        "    pred_acc = comp_acc(pred.detach().cpu(), train_data[2].detach().cpu()[:, 1:], train_data[3].cpu())\n",
        "    acc_list.append(pred_acc)\n",
        "    if i < 5:# print 5 samples from 5 batches\n",
        "      pred = pred[0].detach().cpu()\n",
        "      pred_seq = []\n",
        "      for t in range(MAX_LEN+1):\n",
        "        pred_wd = vocab_fra.index2word[pred[t].item()] \n",
        "        if pred_wd == 'eos':\n",
        "          break\n",
        "          \n",
        "        pred_seq.append(pred_wd)\n",
        "\n",
        "      print('pred:\\t {}\\n'.format(pred_seq))\n",
        "      print('tgt:\\t {}\\n'.format([vocab_fra.index2word[t.item()] for t in train_data[2][0][1:].cpu()]))\n",
        "\n",
        "  print('Prediction Acc.: {:.4f}'.format(torch.cat(acc_list).mean()))\n",
        "  \n",
        "seed(1)\n",
        "batch_size = 32\n",
        "\n",
        "vocab_eng, vocab_fra, train_iter = load_data_nmt(batch_size)\n",
        "\n",
        "evaluate_rnn(rnn_net, train_iter, device)"
      ]
    },
    {
      "cell_type": "markdown",
      "metadata": {
        "id": "baeu3Lk0G65o"
      },
      "source": [
        "## Sequence to Sequence with LSTM and Attention\n",
        "\n",
        "Now let's try to improve our model by using an LSTM and the attention mechanism.\n"
      ]
    },
    {
      "cell_type": "markdown",
      "metadata": {
        "id": "7RCcKIb1G65p"
      },
      "source": [
        "### LSTM\n",
        "\n",
        "LSTMs eliminate the gradient explosion/vanishing problem. Its state and gate update at each time step can be summarized as follows:\n",
        "\n",
        "$$\n",
        "\\begin{align*}\n",
        "&\\text{State Update} &&& C_t &= F_t \\odot C_{t-1} + I_t \\odot \\tilde{C}_t \\\\\n",
        "&\\text{Hidden States} &&& H_t &= O_t \\odot \\text{tanh}(C_t) \\\\\n",
        "&\\text{Proposal} &&& \\tilde{C}_t &= \\text{tanh}( X_tW_{xc} + H_{t-1}W_{hc} + b_c ) \\\\\n",
        "&\\text{Input Gate} &&& I_t &= \\sigma( X_tW_{xi} + H_{t-1}W_{hi} + b_i ) \\\\\n",
        "&\\text{Forget Gate} &&& F_t &= \\sigma( X_tW_{xf} + H_{t-1}W_{hf} + b_f ) \\\\\n",
        "&\\text{Output Gate} &&& O_t &= \\sigma( X_tW_{xo} + H_{t-1}W_{ho} + b_o ) \\\\\n",
        "\\end{align*}\n",
        "$$\n",
        "\n",
        "Implement the LSTM class below. In particular,\n",
        "-  Complete the initialization function *init_params()*. Weights should be initialized using `torch.randn` multiplied with a scale of 0.1. Biases should be initialized to 0.\n",
        "- Complete the function *lstm()* which performs the feed-forward pass of LSTM. **Do not** use `nn.LSTM` or `nn.LSTMCell` in your implementation."
      ]
    },
    {
      "cell_type": "code",
      "execution_count": 179,
      "metadata": {
        "deletable": false,
        "nbgrader": {
          "cell_type": "code",
          "checksum": "386a51799571153e76849c4b5ebb7f73",
          "grade": false,
          "grade_id": "cell-e43516618029ca06",
          "locked": false,
          "schema_version": 3,
          "solution": true,
          "task": false
        },
        "id": "wO8PeoRDG65p"
      },
      "outputs": [],
      "source": [
        "class LSTM(nn.Module):\n",
        "  def __init__(self, input_size, hidden_size, device):\n",
        "    super(LSTM, self).__init__()\n",
        "    self.device = device\n",
        "    self.params = nn.ParameterList(self.init_params(input_size, hidden_size))\n",
        "    \"\"\"\n",
        "    Inputs:\n",
        "      input_size: int, feature dimension of input sequence\n",
        "      hidden_size: int, feature dimension of hidden state\n",
        "      device: torch.device()\n",
        "    \"\"\"\n",
        "  \n",
        "  def init_params(self, input_size, hidden_size):\n",
        "    \"\"\"\n",
        "    Inputs:\n",
        "      input_size: int, feature dimension of input sequence\n",
        "      hidden_size: int, feature dimension of hidden state\n",
        "      \n",
        "    Outputs:\n",
        "      Weights for proposal: W_xc, W_hc, b_c\n",
        "      Weights for input gate: W_xi, W_hi, b_i\n",
        "      Weights for forget gate: W_xf, W_hf, b_f\n",
        "      Weights for output gate: W_xo, W_ho, b_o\n",
        "    \"\"\"\n",
        "    W_xc, W_hc, b_c = None, None, None\n",
        "    W_xi, W_hi, b_i = None, None, None\n",
        "    W_xf, W_hf, b_f = None, None, None\n",
        "    W_xo, W_ho, b_o = None, None, None\n",
        "    ##############################################################################\n",
        "    # TODO1: Initialize the weights and biases. The result will be stored in \n",
        "    # `params` below. Weights should be initialized using `torch.randn` multiplied \n",
        "    # with the scale (0.1). Biases should be initialized to 0.\n",
        "    ##############################################################################\n",
        "    # Replace \"pass\" statement with your code\n",
        "\n",
        "    W_xc, W_hc, b_c = nn.Parameter(torch.randn(input_size, hidden_size) * 0.1), nn.Parameter(torch.randn(hidden_size, hidden_size) * 0.1), nn.Parameter(torch.zeros(hidden_size))\n",
        "    W_xi, W_hi, b_i = nn.Parameter(torch.randn(input_size, hidden_size) * 0.1), nn.Parameter(torch.randn(hidden_size, hidden_size) * 0.1), nn.Parameter(torch.zeros(hidden_size))\n",
        "    W_xf, W_hf, b_f = nn.Parameter(torch.randn(input_size, hidden_size) * 0.1), nn.Parameter(torch.randn(hidden_size, hidden_size) * 0.1), nn.Parameter(torch.zeros(hidden_size))\n",
        "    W_xo, W_ho, b_o = nn.Parameter(torch.randn(input_size, hidden_size) * 0.1), nn.Parameter(torch.randn(hidden_size, hidden_size) * 0.1), nn.Parameter(torch.zeros(hidden_size))\n",
        "\n",
        "    # END OF YOUR CODE\n",
        "    \n",
        "    params = [W_xc, W_hc, b_c, W_xi, W_hi, b_i, W_xf, W_hf, b_f, W_xo, W_ho, b_o]\n",
        "    return params\n",
        "\n",
        "  \n",
        "  def lstm(self, X, state):\n",
        "    \"\"\"\n",
        "    Inputs:\n",
        "      X: tuple of tensors (src, src_len). src, size (N, D_in) or (N, T, D_in), where N is the batch size,\n",
        "        T is the length of the sequence(s), D_in is the input size. src_len, size of (N,), is\n",
        "        the valid length for each sequence.\n",
        "        \n",
        "      state: tuple of tensors (h, c). h, size of (N, hidden_size) is the hidden state of LSTM. c, size of \n",
        "            (N, hidden_size), is the memory cell of the LSTM.\n",
        "      \n",
        "    Outputs:\n",
        "      o: tensor of size (N, T, hidden_size). Contains the output features (the hidden state H_t) for each t.\n",
        "      state: the same as input state. Contains the hidden state H_T and cell state C_T for the last timestep T.\n",
        "    \"\"\"\n",
        "    \n",
        "    src, src_len = X\n",
        "    h, c = state\n",
        "\n",
        "    # make sure always has a T dim\n",
        "    if len(src.shape) == 2:\n",
        "      src = src.unsqueeze(1)\n",
        "\n",
        "    N, T, D_in = src.shape\n",
        "    W_xc, W_hc, b_c, W_xi, W_hi, b_i, W_xf, W_hf, b_f, W_xo, W_ho, b_o = self.params\n",
        "    o = []\n",
        "    ##############################################################################\n",
        "    # TODO2: Implement the forward pass of the LSTM. LSTM must not be updated by\n",
        "    # unvalid inputs. In other words, you should update LSTM only when\n",
        "    # valid words come in. (use src_len)\n",
        "    ##############################################################################\n",
        "    # Replace \"pass\" statement with your code\n",
        "    hidden_size = h.shape[1]\n",
        "    o = torch.zeros((N, T, hidden_size)) #initialize the output \n",
        "    for t in range(T): \n",
        "      x_t = src[:, t, :] # (N, D_in)\n",
        "      iden = torch.tensor([t] * N).to(device) - src_len.to(device) #identifying the valid inputs\n",
        "      iden[iden < 0] = -1\n",
        "      if -1 in iden: #update the hidden state and the memory state\n",
        "        i_t = torch.sigmoid(x_t @ W_xi + h @ W_hi + b_i)\n",
        "        f_t = torch.sigmoid(x_t @ W_xf + h @ W_hf + b_f)\n",
        "        o_t = torch.sigmoid(x_t @ W_xo + h @ W_ho + b_o)\n",
        "        c_til = torch.tanh(x_t @ W_xc + h @ W_hc + b_c)\n",
        "        c = f_t * c + i_t * c_til\n",
        "        h = o_t * torch.tanh(c)\n",
        "      o[:, t, :] = h\n",
        "    # END OF YOUR CODE\n",
        "\n",
        "    state = (h, c)\n",
        "    return o, state\n",
        "  \n",
        "  def forward(self, inputs, state):\n",
        "    return self.lstm(inputs, state)"
      ]
    },
    {
      "cell_type": "markdown",
      "metadata": {
        "id": "2yYsrzoEG65p"
      },
      "source": [
        "Check that your output has the correct shape. You should see:\n",
        "\n",
        "```\n",
        "torch.Size([12, 8, 5])\n",
        "torch.Size([12, 5])\n",
        "torch.Size([12, 5])\n",
        "```"
      ]
    },
    {
      "cell_type": "code",
      "execution_count": 180,
      "metadata": {
        "id": "ZladPD0NG65p",
        "colab": {
          "base_uri": "https://localhost:8080/"
        },
        "outputId": "df0a6775-da42-4894-c34f-94cb5f381b3f"
      },
      "outputs": [
        {
          "output_type": "stream",
          "name": "stdout",
          "text": [
            "torch.Size([12, 8, 5])\n",
            "torch.Size([12, 5])\n",
            "torch.Size([12, 5])\n",
            "Correct\n"
          ]
        }
      ],
      "source": [
        "test_lstm = LSTM(10, 5, torch.device('cuda:0'))\n",
        "test_src = torch.ones(12, 8, 10)\n",
        "test_src[:,7] = 0\n",
        "test_src_len = torch.ones(12) * 7\n",
        "test_h = torch.zeros(12, 5).float()\n",
        "test_c = torch.zeros(12, 5).float()\n",
        "\n",
        "test_o, test_state = test_lstm((test_src, test_src_len), (test_h, test_c))\n",
        "\n",
        "print(test_o.shape)\n",
        "print(test_state[0].shape)\n",
        "print(test_state[1].shape)\n",
        "\n",
        "# must not be updated for the last element in this test case.\n",
        "if (test_o.shape == (12,8,5) and test_state[0].shape == (12,5) and test_state[1].shape == (12,5) and torch.equal(test_o[:,6], test_o[:,7])):\n",
        "  print(\"Correct\")\n",
        "  LSTM_score = 5\n",
        "\n",
        "else:\n",
        "  print(\"Wrong\")\n",
        "  LSTM_score = 0"
      ]
    },
    {
      "cell_type": "markdown",
      "metadata": {
        "id": "g2ddJSbVG65q"
      },
      "source": [
        "### Attention Mechanism"
      ]
    },
    {
      "cell_type": "markdown",
      "metadata": {
        "id": "FS_uB35eG65q"
      },
      "source": [
        "Another improvement we can make to our model is the Attention Mechanism. An example illustrating why applying attention mechanisms can improve the performance is shown in the picture below. An English sentence and its Chinese is visualized and aligned into blue boxes and red boxes, respectively. It can be seen that the Chinese character '她' has a long distance from its English counterpart, 'she'. Since only the final hidden state is passed to the decoder, it's hard for the baseline model to 'attend' to information a long time ago."
      ]
    },
    {
      "cell_type": "markdown",
      "metadata": {
        "id": "kywqkQslG65q"
      },
      "source": [
        "<div>\n",
        "<img src=\"https://lilianweng.github.io/lil-log/assets/images/encoder-decoder-example.png\" width=\"600\"/>\n",
        "</div>\n",
        "Image source: https://lilianweng.github.io/lil-log/assets/images/encoder-decoder-example.png"
      ]
    },
    {
      "cell_type": "markdown",
      "metadata": {
        "id": "4oHnD3tuG65q"
      },
      "source": [
        "- **Attention**\n",
        "\n",
        "    Given a query, $\\mathbf{q} \\in R^{d_q}$, and a set of $N$ (key, value) pairs, $\\{ \\mathbf{k}_i, \\mathbf{v}_i\\}^N$ where $k_i \\in R^{d_k}$ and $v_i \\in R^{d_v}$, the attention mechanism computes a weighted sum of values based on the normalized score obtained from the query and each key:\n",
        "    \n",
        "    \\begin{align*}\n",
        "    a_i &= \\alpha(\\mathbf{q}, \\mathbf{k_i}) \\\\\n",
        "    \\mathbf{a} &= [a_1, ..., a_n] \\\\\n",
        "    \\mathbf{b} &= \\text{softmax}(\\mathbf{a}) \\\\\n",
        "    \\mathbf{o} &= \\mathbf{b} \\cdot \\mathbf{V}\\text{, where } \\mathbf{V} = \\{\\mathbf{v}_i\\}^N\n",
        "    \\end{align*}\n",
        "    \n",
        "    The $\\alpha()$ function, which maps two vectors into a scalar, is the score function that can be chosen from a wide range of functions: e.g. the cosine function, dot-product function, scaled dot-product funtion and etc.\n"
      ]
    },
    {
      "cell_type": "markdown",
      "metadata": {
        "id": "4AtBw1NKG65q"
      },
      "source": [
        "- **Masked Softmax**\n",
        "\n",
        "    For our machine translation task, the inputs and outputs may be of variable length (ie. each training example may have a different number of words). As shown above, we pad our inputs with a special `pad` token so that they all have the same length to make them easier to work with. However, when we take the softmax, we only want to include the non-`pad` items, so we need to write a special `masked_softmax` function to handle this. We can achieve the masking by setting masked elements to a large negative value. Then when we take the `exp`, those elements will be 0 and won't contribute to the softmax. "
      ]
    },
    {
      "cell_type": "code",
      "execution_count": 181,
      "metadata": {
        "id": "i85-MWhBG65q"
      },
      "outputs": [],
      "source": [
        "def masked_softmax(X, valid_length):\n",
        "  \"\"\"\n",
        "  inputs:\n",
        "    X: 3-D tensor\n",
        "    valid_length: 1-D or 2-D tensor\n",
        "  \"\"\"\n",
        "  mask_value = -1e7 \n",
        "\n",
        "  if len(X.shape) == 2:\n",
        "    X = X.unsqueeze(1)\n",
        "\n",
        "  N, n, m = X.shape\n",
        "\n",
        "  if len(valid_length.shape) == 1:\n",
        "    valid_length = valid_length.repeat_interleave(n, dim=0)\n",
        "  else:\n",
        "    valid_length = valid_length.reshape((-1,))\n",
        "\n",
        "  mask = torch.arange(m)[None, :].to(X.device) >= valid_length[:, None]\n",
        "  X.view(-1, m)[mask] = mask_value\n",
        "\n",
        "  Y = torch.softmax(X, dim=-1)\n",
        "\n",
        "  \n",
        "  return Y"
      ]
    },
    {
      "cell_type": "code",
      "execution_count": 182,
      "metadata": {
        "id": "z7ZHgxnbG65q",
        "colab": {
          "base_uri": "https://localhost:8080/"
        },
        "outputId": "c128dc28-3918-430a-eae7-f6508b754ed3"
      },
      "outputs": [
        {
          "output_type": "execute_result",
          "data": {
            "text/plain": [
              "tensor([[[0.4667, 0.5333, 0.0000, 0.0000],\n",
              "         [0.5474, 0.4526, 0.0000, 0.0000]],\n",
              "\n",
              "        [[0.2324, 0.5569, 0.2107, 0.0000],\n",
              "         [0.3379, 0.4132, 0.2489, 0.0000]]])"
            ]
          },
          "metadata": {},
          "execution_count": 182
        }
      ],
      "source": [
        "masked_softmax(torch.rand(2, 2, 4), torch.tensor([2, 3]))"
      ]
    },
    {
      "cell_type": "markdown",
      "metadata": {
        "id": "DzdNXsCqG65q"
      },
      "source": [
        "- **Scaled Dot Product Attention**\n",
        "    - The scaled dot-product attention uses the score function as: \n",
        "  $\\alpha(\\mathbf{q}, \\mathbf{k}) = \\mathbf{q} \\mathbf{k}^T / \\sqrt{d}$, where $d$ is the dimension of query (which in this case is equal to the dimension of the keys). The following figures visualizes this process in matrix form, in which $Q \\in \\mathcal{R}^{m\\times d_k}, \\mathbf{K} \\in \\mathcal{R}^{n \\times d_k}$, and $\\mathbf{V} \\in \\mathcal{R}^{n \\times d_v}$.\n",
        "\n",
        "    <div>\n",
        "    <img src=\"http://jalammar.github.io/images/t/self-attention-matrix-calculation-2.png\" width=\"600\"/>\n",
        "    </div>\n",
        "Image source: http://jalammar.github.io/images/t/self-attention-matrix-calculation-2.png\n",
        "\n",
        "\n",
        "Implement the DotProductAttention below. Do not use any loops in your implementation."
      ]
    },
    {
      "cell_type": "code",
      "execution_count": 183,
      "metadata": {
        "deletable": false,
        "nbgrader": {
          "cell_type": "code",
          "checksum": "8b7a6c1703c6c230a006a6b86326a3b9",
          "grade": false,
          "grade_id": "cell-eac4fccbcd4f068e",
          "locked": false,
          "schema_version": 3,
          "solution": true,
          "task": false
        },
        "id": "xNC5x7VrG65q"
      },
      "outputs": [],
      "source": [
        "class DotProductAttention(nn.Module): \n",
        "  def __init__(self):\n",
        "      super(DotProductAttention, self).__init__()\n",
        "\n",
        "  def forward(self, query, key, value, valid_length=None):\n",
        "    \"\"\"\n",
        "    inputs:\n",
        "      query: tensor of size (B, n, d)\n",
        "      key: tensor of size (B, m, d)\n",
        "      value: tensor of size (B, m, dim_v)\n",
        "      valid_length: (B, )\n",
        "\n",
        "      B is the batch_size, n is the number of queries, m is the number of <key, value> pairs,\n",
        "      d is the feature dimension of the query, and dim_v is the feature dimension of the value.\n",
        "\n",
        "    Outputs:\n",
        "      attention: tensor of size (B, n, dim_v), weighted sum of values\n",
        "    \"\"\"\n",
        "    ##############################################################################\n",
        "    # TODO3: Implement the forward pass of DotProductAttention. Do not\n",
        "    # use any loops in your implementation.\n",
        "    ##############################################################################\n",
        "    # Replace \"pass\" statement with your code\n",
        "    # if valid_length is not None:\n",
        "    #   valid_length.to(device)\n",
        "    # X = ((query.to(device) @ key.permute(0, 2, 1).to(device))/(key.shape[1] ** 0.5)).to(device)\n",
        "    query, key, value = query.to(device), key.to(device), value.to(device)\n",
        "    X = ((query @ key.permute(0, 2, 1))/(key.shape[1] ** 0.5)).to(device)\n",
        "    \n",
        "    # attention = torch.softmax(X, dim=-1) @ value.to(device)\n",
        "    if valid_length is not None:\n",
        "      attention = (masked_softmax(X.to(device), valid_length.to(device)).to(device) @ value).to(device)\n",
        "    else:\n",
        "      attention = (torch.softmax(X.to(device), dim=-1).to(device) @ value).to(device)\n",
        "    # attention = (torch.softmax((query @ key.permute(0, 2, 1))/(key.shape[1] ** 0.5), dim=1) @ value)\n",
        "\n",
        "    # END OF YOUR CODE\n",
        "\n",
        "    return attention"
      ]
    },
    {
      "cell_type": "markdown",
      "metadata": {
        "id": "WzXKt6chG65r"
      },
      "source": [
        "### Correctness Check for DotProductAttention\n",
        "\n",
        "Run the following snippet to check your implementation of DotProductAttention.\n",
        "\n",
        "Expected output:\n",
        "\n",
        "```\n",
        "tensor([[[ 2.0000,  3.0000, 4.0000, 5.0000]],\n",
        "\n",
        "        [[10.0000, 11.0000, 12.0000, 13.0000]]])\n",
        "```\n"
      ]
    },
    {
      "cell_type": "code",
      "execution_count": 184,
      "metadata": {
        "id": "2hkj7oVXG65r",
        "colab": {
          "base_uri": "https://localhost:8080/"
        },
        "outputId": "5f56b7b6-6b02-4a54-a729-d9f98a65eb46"
      },
      "outputs": [
        {
          "output_type": "stream",
          "name": "stdout",
          "text": [
            "Correct\n"
          ]
        }
      ],
      "source": [
        "att = DotProductAttention()\n",
        "keys = torch.ones((2,10,2),dtype=torch.float)\n",
        "values = torch.arange((40), dtype=torch.float).view(1,10,4).repeat(2,1,1)\n",
        "res = att(torch.ones((2,1,2),dtype=torch.float), keys, values, torch.FloatTensor([2, 6]))\n",
        "\n",
        "ans = torch.tensor([[[ 2.0000,  3.0000,  4.0000,  5.0000]],[[10.0000, 11.0000, 12.0000, 13.0000]]])\n",
        "\n",
        "if torch.all(torch.abs(ans.to(device) - res.to(device)) < 1e-03):\n",
        "  print(\"Correct\")\n",
        "  Dot_score = 5\n",
        "else:\n",
        "  print(\"Wrong\")\n",
        "  Dot_score = 0"
      ]
    },
    {
      "cell_type": "markdown",
      "metadata": {
        "id": "0WG37XqrG65r"
      },
      "source": [
        "- **MLP Attention**\n",
        "\n",
        "  In MLP attention, we project both query and keys into $R^{h}$, add the results, and use a $\\text{tanh}$ before multiplying by the values. The score function is defined as:\n",
        "\n",
        "    $\\alpha(\\mathbf{q}, \\mathbf{k}) = \\mathbf{h}^T\\text{tanh}(W_k\\mathbf{k} + W_q\\mathbf{q})$\n",
        "    \n",
        "    where $\\mathbf{h} \\in R^{h}, \\mathbf{W_k}\\text{, and }\\mathbf{W_q}$ are learnable parameters.\n",
        "    \n",
        "  Implement the MLP attention in matrix form without using any loops."
      ]
    },
    {
      "cell_type": "code",
      "execution_count": 185,
      "metadata": {
        "deletable": false,
        "nbgrader": {
          "cell_type": "code",
          "checksum": "9440f3519ad5f8037f192758aecca64a",
          "grade": false,
          "grade_id": "cell-6be727894d4fd817",
          "locked": false,
          "schema_version": 3,
          "solution": true,
          "task": false
        },
        "id": "wIznAhcpG65r"
      },
      "outputs": [],
      "source": [
        "class MLPAttention(nn.Module):  \n",
        "  def __init__(self, d_h, d_k, d_q):\n",
        "    super(MLPAttention, self).__init__()\n",
        "    \"\"\"\n",
        "    Inputs:\n",
        "      d_k: feature dimension of key\n",
        "      d_h: feature dimension of vector h\n",
        "      d_q: feature dimension of query\n",
        "    \"\"\"\n",
        "    ##############################################################################\n",
        "    # TODO4: Initialize learnable parameters\n",
        "    # Use nn.Linear\n",
        "    ##############################################################################\n",
        "    # Replace \"pass\" statement with your code\n",
        "\n",
        "    self.d_h = d_h\n",
        "    self.d_k = d_k\n",
        "    self.d_q = d_q\n",
        "    self.w_k = nn.Linear(d_k, d_h, bias=False)\n",
        "    self.w_q = nn.Linear(d_q, d_h, bias=False)\n",
        "    self.v = nn.Linear(d_h, 1, bias=False)\n",
        "    # END OF YOUR CODE\n",
        "\n",
        "  def forward(self, query, key, value, valid_length):\n",
        "    \"\"\"\n",
        "    inputs:\n",
        "      query: tensor of size (B, n, d_q)\n",
        "      key: tensor of size (B, m, d_k)\n",
        "      value: tensor of size (B, m, dim_v)\n",
        "      valid_length: either (B, )\n",
        "\n",
        "      B is the batch_size, n is the number of queries, m is the number of <key, value> pairs,\n",
        "      d_q is the feature dimension of the query, d_k is the feature dimension of the key, \n",
        "      and dim_v is the feature dimension of the value.\n",
        "\n",
        "    Outputs:\n",
        "      Y: tensor of size (B, n, dim_v), weighted sum of values\n",
        "    \"\"\"\n",
        "    ##############################################################################\n",
        "    # TODO5: Implement the forward pass of MLPAttention. Do not\n",
        "    # use any loops in your implementation.\n",
        "    ##############################################################################\n",
        "    # Replace \"pass\" statement with your code\n",
        "    learned_q = self.w_q(query).unsqueeze(2) # (B, n, 1, d_h)\n",
        "    learned_k = self.w_k(key).unsqueeze(1) # (B, 1, m, d_h)\n",
        "    features = torch.tanh(learned_q + learned_k) # (B, n, m, d_h)\n",
        "    learned_features = self.v(features).squeeze(-1) # (B, n, m, 1) -> (B, n, m) \n",
        "    Y = masked_softmax(learned_features, valid_length) @ value #and value -> (B, m, dim_v) so (B, n, dim_v)\n",
        "    # END OF YOUR CODE\n",
        "    return Y"
      ]
    },
    {
      "cell_type": "markdown",
      "metadata": {
        "id": "4l47pb27G65r"
      },
      "source": [
        "### Correctness Check for MLPAttention\n",
        "\n",
        "Run the following snippet to check your implementation of MLPAttention.\n",
        "\n",
        "Expected output:\n",
        "\n",
        "```\n",
        "tensor([[[ 2.0000,  3.0000, 4.0000, 5.0000]],\n",
        "\n",
        "        [[10.0000, 11.0000, 12.0000, 13.0000]]])\n",
        "```"
      ]
    },
    {
      "cell_type": "code",
      "execution_count": 186,
      "metadata": {
        "id": "iqONoGz3G65r",
        "colab": {
          "base_uri": "https://localhost:8080/"
        },
        "outputId": "98ddad05-11ce-413f-8b4e-e335cc9861cc"
      },
      "outputs": [
        {
          "output_type": "stream",
          "name": "stdout",
          "text": [
            "Correct\n"
          ]
        }
      ],
      "source": [
        "atten = MLPAttention(4, 2, 2)\n",
        "res = atten(torch.ones((2,1,2),dtype=torch.float), keys, values, torch.FloatTensor([2, 6])).detach()\n",
        "\n",
        "ans = torch.tensor([[[ 2.0000,  3.0000,  4.0000,  5.0000]],[[10.0000, 11.0000, 12.0000, 13.0000]]])\n",
        "\n",
        "if torch.all(torch.abs(ans - res) < 1e-03):\n",
        "  print(\"Correct\")\n",
        "  MLP_score = 5\n",
        "\n",
        "else:\n",
        "  print(\"Wrong\")\n",
        "  MLP_score = 0"
      ]
    },
    {
      "cell_type": "markdown",
      "metadata": {
        "id": "khJX-HWEG65r"
      },
      "source": [
        "    \n",
        "- **Using Attention in seq2seq Models**\n",
        "\n",
        "<img src='https://drive.google.com/uc?id=18Z_FO69T-hS5XUltsrC4DDvoSM8LoY9y'>\n",
        "\n",
        "Image source: https://d2l.ai/_images/seq2seq-attention.svg\n",
        "\n",
        "Now we want to add attention to the seq2seq model. As we previously stated, attention allows the decoder to have more direct access to previous states in the encoder. In the context of machine translation, when the decoder is predicting a word in the translation, it can focus on certain words in the original language. Therefore, we want the keys and the values of the attention layer to be the output of the encoder at each step. The query for the attention layer would be the decoder's previous hidden state. The output of the attention layer, referred to as the context, is concatenated with the decoder input and fed into the decoder.\n",
        "    \n",
        "In rough pseudocode, this looks like:\n",
        "\n",
        "    \n",
        "    context = attention(query=h_prev, keys=encoder_output, values=encoder_output)\n",
        "    decoder_input = concatenate([decoder_input, context])"
      ]
    },
    {
      "cell_type": "markdown",
      "metadata": {
        "id": "ppM2pDCsG65r"
      },
      "source": [
        "### LSTM Encoder-Decoder\n",
        "\n",
        "\n",
        "Build a seq2seq model with LSTM and attention.\n",
        "\n",
        "- Complete the Encoder forward() function.\n",
        "- Complete the Decoder forward() and predict() functions. The decoder should utilize the attention mechanism.\n",
        "- Find a good learning rate for training this model. Feel free to add code here to test out different learning rates, but make sure that your best model is saved in `lstm_net`."
      ]
    },
    {
      "cell_type": "code",
      "execution_count": 187,
      "metadata": {
        "deletable": false,
        "nbgrader": {
          "cell_type": "code",
          "checksum": "fbd2ff0f838eab4eeb305bd07bbd3a8e",
          "grade": false,
          "grade_id": "cell-85d8bda82bc92dd8",
          "locked": false,
          "schema_version": 3,
          "solution": true,
          "task": false
        },
        "id": "s_SKHSSkG65r"
      },
      "outputs": [],
      "source": [
        "class Encoder(nn.Module):\n",
        "  def __init__(self, vocab_size, embedding_dim, hidden_size, device):\n",
        "    super(Encoder, self).__init__()\n",
        "    \"\"\"\n",
        "    inputs:\n",
        "      vocab_size: int, the number of words in the vocabulary\n",
        "      embedding_dim: int, dimension of the word embedding\n",
        "      hidden_size: int, dimension of vallina RNN\n",
        "    \"\"\"\n",
        "    self.embedding = nn.Embedding(vocab_size, embedding_dim)\n",
        "    self.enc = LSTM(embedding_dim, hidden_size, device)\n",
        "    self.hidden_size = hidden_size\n",
        "    \n",
        "  def forward(self, sources, valid_len):\n",
        "    ##############################################################################\n",
        "    # TODO6: Implement LSTM Encoder forward pass\n",
        "    ##############################################################################\n",
        "    # Replace \"pass\" statement with your code\n",
        "    \n",
        "    word_embedded = self.embedding(sources) # (N, T, emb_dim)\n",
        "    N = word_embedded.shape[0]\n",
        "    # initialize the hidden state of LSTM\n",
        "    h = sources.new_zeros(N, self.hidden_size).float() # (N, hidden_size) \n",
        "    # initialize the memory state of LSTM\n",
        "    c = sources.new_zeros(N, self.hidden_size).float() # (N, hidden_size) \n",
        "    #forward propagation of LSTM -> inputs are (X, State)\n",
        "    outputs, (h, c) = self.enc((word_embedded, valid_len), (h, c))\n",
        "    # END OF YOUR CODE\n",
        "    return outputs, (h, c)"
      ]
    },
    {
      "cell_type": "code",
      "execution_count": 188,
      "metadata": {
        "deletable": false,
        "nbgrader": {
          "cell_type": "code",
          "checksum": "d8f15ad91df74611a4f70744a202ad53",
          "grade": false,
          "grade_id": "cell-154ce877082ed913",
          "locked": false,
          "schema_version": 3,
          "solution": true,
          "task": false
        },
        "id": "kg-hp8UvG65s"
      },
      "outputs": [],
      "source": [
        "class Decoder(nn.Module):\n",
        "  def __init__(self, vocab_size, embedding_dim, hidden_size, device):\n",
        "    super(Decoder, self).__init__()\n",
        "    \"\"\"\n",
        "    inputs:\n",
        "      vocab_size: int, the number of words in the vocabulary\n",
        "      embedding_dim: int, dimension of the word embedding\n",
        "      hidden_size: int, dimension of vallina RNN\n",
        "    \"\"\"\n",
        "    \n",
        "    self.embedding = nn.Embedding(vocab_size, embedding_dim)\n",
        "    self.enc = LSTM(embedding_dim+hidden_size, hidden_size, device)\n",
        "    self.att = DotProductAttention()\n",
        "    self.output_emb = nn.Linear(hidden_size, vocab_size)\n",
        "    self.hidden_size = hidden_size\n",
        "    \n",
        "  def forward(self, state, target, valid_len):\n",
        "    loss = 0\n",
        "    preds = []\n",
        "    \n",
        "    ##############################################################################\n",
        "    # TODO7: Implement LSTM Decoder forward pass. Your solution should also use\n",
        "    # self.att for attention.\n",
        "    ##############################################################################\n",
        "    # Replace \"pass\" statement with your code\n",
        "\n",
        "    #getting outputs, hidden_state, and memory state of the encoder\n",
        "    # enc_outputs = (N, Tx, hidden_size) -> because it's not yet predicted\n",
        "    enc_outputs, (h, c), src_len = state # h = c = (N, hidden_size) \n",
        "    word_embedded = self.embedding(target) # (N, T, emb_dim)\n",
        "    N, T, emb_dim = word_embedded.shape\n",
        "    output_list = torch.zeros((N, T, self.hidden_size)) \n",
        "    for t in range(T): #word_embedded[:, t, :] -> (N, emb_dim) \n",
        "      x = word_embedded[:, t, :] # (N, emb_dim) -> (N, 1, emb_dim)\n",
        "      context = self.att(h.unsqueeze(1), enc_outputs, enc_outputs) # (N, 1, hidden_size) ?enc_outputs[t].unsqueeze(1)\n",
        "      decoder_input = torch.cat([context, x.unsqueeze(1)], dim=2) # (N, 1, emb_dim+hidden_size)\n",
        "      outputs, (h, c) = self.enc((decoder_input, src_len), (h, c)) #src_len/valid_len -> check\n",
        "      output_list[:, t, :] = outputs.squeeze(1) #outputs -> (N, 1, hidden_size)\n",
        "    preds = self.output_emb(output_list.to(device)) # (N, T, vocab_size)\n",
        "    loss = F.nll_loss(F.log_softmax(preds[:, :T-1].transpose(1,2), dim = 1), target[:, 1:], ignore_index=0, reduction = 'none')\n",
        "    loss = loss.sum(1).mean()\n",
        "    preds = preds.argmax(dim=-1)\n",
        "    # END OF YOUR CODE\n",
        "    return loss, preds\n",
        "  \n",
        "  def predict(self, state, target, valid_len):\n",
        "    pred = None\n",
        "    ##############################################################################\n",
        "    # TODO8: Implement LSTM Decoder prediction. Your solution should also use\n",
        "    # self.att for attention.\n",
        "    ##############################################################################\n",
        "    # Replace \"pass\" statement with your code\n",
        "    # enc_outputs, (h, c), src_len = state\n",
        "    # # target = target.unsqueeze(2)\n",
        "    # word_embedded = self.embedding(target)  #target -> (N, T, vocab_size) -> (N, T, emb_dim)\n",
        "    # #target -> (N, T), (N, vocab_size), (T, vocab_size)\n",
        "    # (N, T) = target.shape\n",
        "    # inputs = word_embedded[:, :1, :] #<bos> target #(N, 1, emb_dim)\n",
        "    # preds = []\n",
        "    # for t in range(T):\n",
        "    #   context = self.att(h.unsqueeze(1), enc_outputs, enc_outputs) # (N, 1, hidden_size)\n",
        "    #   decoder_input = torch.cat([context, inputs], dim=2) # (N, 1, hidden_size+emb_dim)\n",
        "    #   outputs, (h, c) = self.enc((decoder_input, src_len), (h, c)) #src_len/valid_len -> check\n",
        "    #   pred = self.output_emb(outputs.to(device)) # (N, 1, hidden_size) -> (N, 1, vocab_size)\n",
        "    #   preds.append(pred)\n",
        "    #   inputs = self.embedding(pred.argmax(dim=-1))\n",
        "    # pred = torch.cat(preds, dim=1).argmax(dim=-1)\n",
        "    _, pred = self.forward(state, target, valid_len)\n",
        "    pred = pred[:, :-1]\n",
        "    # END OF YOUR CODE\n",
        "\n",
        "    return pred\n",
        "\n",
        "    "
      ]
    },
    {
      "cell_type": "code",
      "execution_count": 189,
      "metadata": {
        "id": "-hKCKqQCG65s"
      },
      "outputs": [],
      "source": [
        "class NMTLSTM(nn.Module):\n",
        "  def __init__(self, src_vocab_size, tgt_vocab_size, embedding_dim, hidden_size, device):\n",
        "    super(NMTLSTM, self).__init__()\n",
        "    self.enc = Encoder(src_vocab_size, embedding_dim, hidden_size, device)\n",
        "    self.dec = Decoder(tgt_vocab_size, embedding_dim, hidden_size, device)\n",
        "    \n",
        "  def forward(self, src, src_len, tgt, tgt_len):\n",
        "    outputs, (h, c) = self.enc(src, src_len)\n",
        "    loss, pred = self.dec((outputs, (h, c), src_len), tgt, tgt_len)\n",
        "    return loss, pred\n",
        "  \n",
        "  def predict(self, src, src_len, tgt, tgt_len):\n",
        "    outputs, (h, c) = self.enc(src, src_len)\n",
        "    pred = self.dec.predict((outputs, (h, c), src_len), tgt, tgt_len)\n",
        "    return pred\n"
      ]
    },
    {
      "cell_type": "code",
      "execution_count": 190,
      "metadata": {
        "deletable": false,
        "nbgrader": {
          "cell_type": "code",
          "checksum": "73bc6101f369326d21d0efe8439c652b",
          "grade": false,
          "grade_id": "cell-bfaaa623c7199b2d",
          "locked": false,
          "schema_version": 3,
          "solution": true,
          "task": false
        },
        "id": "mf0jjZ7GG65s",
        "colab": {
          "base_uri": "https://localhost:8080/"
        },
        "outputId": "8d893c02-3ba3-415a-aa1f-ebded38a5359"
      },
      "outputs": [
        {
          "output_type": "stream",
          "name": "stdout",
          "text": [
            "(tensor([4, 5, 0, 0, 0, 0, 0, 0, 0, 0]), tensor(2), tensor([1, 4, 5, 2, 0, 0, 0, 0, 0, 0]), tensor(4))\n",
            "iter 0 / 7800\tLoss:\t31.471247\n",
            "pred:\t tensor([281, 373, 204, 283, 205, 245,  66, 148, 148, 148])\n",
            "\n",
            "tgt:\t tensor([ 38, 338,   3,   5,   2,   0,   0,   0,   0])\n",
            "\n",
            "iter 156 / 7800\tLoss:\t12.776372\n",
            "pred:\t tensor([3, 5, 3, 3, 5, 2, 2, 2, 5, 5])\n",
            "\n",
            "tgt:\t tensor([ 97,   9,  74, 172,   5,   2,   0,   0,   0])\n",
            "\n",
            "iter 312 / 7800\tLoss:\t10.784081\n",
            "pred:\t tensor([ 3,  5,  2,  5,  5,  5,  5, 11, 11, 11])\n",
            "\n",
            "tgt:\t tensor([ 3, 11,  2,  0,  0,  0,  0,  0,  0])\n",
            "\n",
            "iter 468 / 7800\tLoss:\t7.460581\n",
            "pred:\t tensor([ 14, 116, 179,   3,  11,   2,  11,  11,  11,  11])\n",
            "\n",
            "tgt:\t tensor([ 14, 116, 179, 134,  11,   2,   0,   0,   0])\n",
            "\n",
            "iter 624 / 7800\tLoss:\t6.404288\n",
            "pred:\t tensor([ 14, 171,   3,  11,   2,  11,  11,  11,  11,  11])\n",
            "\n",
            "tgt:\t tensor([ 14, 385, 230,  11,   2,   0,   0,   0,   0])\n",
            "\n",
            "iter 780 / 7800\tLoss:\t5.498138\n",
            "pred:\t tensor([38, 78,  3, 11,  2,  2, 11, 11, 11, 11])\n",
            "\n",
            "tgt:\t tensor([ 38, 370,   3,  11,   2,   0,   0,   0,   0])\n",
            "\n",
            "iter 936 / 7800\tLoss:\t5.394913\n",
            "pred:\t tensor([198, 108,   3,  11,   2,  11,  11,  11,  11,  11])\n",
            "\n",
            "tgt:\t tensor([290, 108,   3,  11,   2,   0,   0,   0,   0])\n",
            "\n",
            "iter 1092 / 7800\tLoss:\t4.494525\n",
            "pred:\t tensor([ 3, 74,  3,  5,  2,  5,  5,  5,  5,  5])\n",
            "\n",
            "tgt:\t tensor([  3,  74, 129,   5,   2,   0,   0,   0,   0])\n",
            "\n",
            "iter 1248 / 7800\tLoss:\t3.937967\n",
            "pred:\t tensor([ 15, 204,  37,   3,  11,   2,  11,  11,  11,  11])\n",
            "\n",
            "tgt:\t tensor([ 15, 204,  37,   3,  11,   2,   0,   0,   0])\n",
            "\n",
            "iter 1404 / 7800\tLoss:\t2.902801\n",
            "pred:\t tensor([154,  37, 413,   5,   2,   5,   5,   5,   5,   5])\n",
            "\n",
            "tgt:\t tensor([154,  37, 413,   5,   2,   0,   0,   0,   0])\n",
            "\n",
            "iter 1560 / 7800\tLoss:\t3.192744\n",
            "pred:\t tensor([ 36,  75,  45, 322,   5,   2,   5,   5,   5,   5])\n",
            "\n",
            "tgt:\t tensor([321,  75,  45, 322,   5,   2,   0,   0,   0])\n",
            "\n",
            "iter 1716 / 7800\tLoss:\t2.951048\n",
            "pred:\t tensor([38,  3,  3, 11,  2,  2, 11, 11, 11, 11])\n",
            "\n",
            "tgt:\t tensor([38, 91,  3, 11,  2,  0,  0,  0,  0])\n",
            "\n",
            "iter 1872 / 7800\tLoss:\t2.584909\n",
            "pred:\t tensor([266,   3,  24,  24,  24,  24,  24,  24,  24,  24])\n",
            "\n",
            "tgt:\t tensor([266,   3,   2,   0,   0,   0,   0,   0,   0])\n",
            "\n",
            "iter 2028 / 7800\tLoss:\t2.396109\n",
            "pred:\t tensor([155, 157,   3,  11,   2,  11,  11,  11,  11,  11])\n",
            "\n",
            "tgt:\t tensor([156, 157, 323,  11,   2,   0,   0,   0,   0])\n",
            "\n",
            "iter 2184 / 7800\tLoss:\t1.974736\n",
            "pred:\t tensor([ 38, 116, 202, 146, 148,  11,   2,  11,  11,  11])\n",
            "\n",
            "tgt:\t tensor([ 38, 116, 202, 112, 148,  11,   2,   0,   0])\n",
            "\n",
            "iter 2340 / 7800\tLoss:\t2.143261\n",
            "pred:\t tensor([ 14,   3, 177,   3,  11,   2,  11,  11,  11,  11])\n",
            "\n",
            "tgt:\t tensor([ 14,   3, 177,   3,  11,   2,   0,   0,   0])\n",
            "\n",
            "iter 2496 / 7800\tLoss:\t2.040200\n",
            "pred:\t tensor([ 14,  79,  28,  41, 221,  11,   2,  11,  11,  11])\n",
            "\n",
            "tgt:\t tensor([ 14,  79,  28,  41, 221,  11,   2,   0,   0])\n",
            "\n",
            "iter 2652 / 7800\tLoss:\t1.761540\n",
            "pred:\t tensor([55,  3,  5,  2,  5,  5, 11, 11, 11, 11])\n",
            "\n",
            "tgt:\t tensor([55, 56,  5,  2,  0,  0,  0,  0,  0])\n",
            "\n",
            "iter 2808 / 7800\tLoss:\t1.391529\n",
            "pred:\t tensor([168,  90,  79,   4,  41,  24,   2,  24,  24,  24])\n",
            "\n",
            "tgt:\t tensor([168,  90,  79,   4,  41,  24,   2,   0,   0])\n",
            "\n",
            "iter 2964 / 7800\tLoss:\t1.965651\n",
            "pred:\t tensor([303, 314,  11,   2,  11,  11,  11,  11,  11,  11])\n",
            "\n",
            "tgt:\t tensor([303, 314,  11,   2,   0,   0,   0,   0,   0])\n",
            "\n",
            "iter 3120 / 7800\tLoss:\t1.506278\n",
            "pred:\t tensor([52, 40,  3, 11,  2, 11, 11, 11, 11, 11])\n",
            "\n",
            "tgt:\t tensor([52, 40,  3, 11,  2,  0,  0,  0,  0])\n",
            "\n",
            "iter 3276 / 7800\tLoss:\t1.833482\n",
            "pred:\t tensor([167, 167,  45,  24,   2,  24,  24,  24,  24,  24])\n",
            "\n",
            "tgt:\t tensor([  9, 167,  45,  24,   2,   0,   0,   0,   0])\n",
            "\n",
            "iter 3432 / 7800\tLoss:\t2.170059\n",
            "pred:\t tensor([  3, 320,  48,  11,   2,  11,  11,  11,  11,  11])\n",
            "\n",
            "tgt:\t tensor([  3, 320,  48,  11,   2,   0,   0,   0,   0])\n",
            "\n",
            "iter 3588 / 7800\tLoss:\t1.450086\n",
            "pred:\t tensor([ 14, 112,  72,   3,  11,   2,  11,  11,  11,  11])\n",
            "\n",
            "tgt:\t tensor([ 14, 116,  72,   3,  11,   2,   0,   0,   0])\n",
            "\n",
            "iter 3744 / 7800\tLoss:\t1.249614\n",
            "pred:\t tensor([14, 28, 54, 11,  2, 11, 11, 11, 11, 11])\n",
            "\n",
            "tgt:\t tensor([14, 28, 54, 11,  2,  0,  0,  0,  0])\n",
            "\n",
            "iter 3900 / 7800\tLoss:\t1.186993\n",
            "pred:\t tensor([ 3,  5,  2,  5,  5,  5,  5, 11, 11, 11])\n",
            "\n",
            "tgt:\t tensor([3, 5, 2, 0, 0, 0, 0, 0, 0])\n",
            "\n",
            "iter 4056 / 7800\tLoss:\t1.146943\n",
            "pred:\t tensor([14, 28,  3, 11,  2, 11, 11, 11, 11, 11])\n",
            "\n",
            "tgt:\t tensor([14, 28,  3, 11,  2,  0,  0,  0,  0])\n",
            "\n",
            "iter 4212 / 7800\tLoss:\t1.105282\n",
            "pred:\t tensor([14, 33, 11,  2, 11, 11, 11, 11, 11, 11])\n",
            "\n",
            "tgt:\t tensor([14,  3, 11,  2,  0,  0,  0,  0,  0])\n",
            "\n",
            "iter 4368 / 7800\tLoss:\t1.383924\n",
            "pred:\t tensor([38,  3, 11,  2, 11, 11, 11, 11, 11, 11])\n",
            "\n",
            "tgt:\t tensor([38,  3, 11,  2,  0,  0,  0,  0,  0])\n",
            "\n",
            "iter 4524 / 7800\tLoss:\t1.093826\n",
            "pred:\t tensor([ 14, 116, 179,   3, 259,  11,   2,  11,  11,  11])\n",
            "\n",
            "tgt:\t tensor([ 14, 116, 179,   3, 259,  11,   2,   0,   0])\n",
            "\n",
            "iter 4680 / 7800\tLoss:\t1.074686\n",
            "pred:\t tensor([15,  3, 75,  3, 11,  2, 11, 11, 11, 11])\n",
            "\n",
            "tgt:\t tensor([15,  3, 75,  3, 11,  2,  0,  0,  0])\n",
            "\n",
            "iter 4836 / 7800\tLoss:\t1.298414\n",
            "pred:\t tensor([14,  3,  3, 11,  2, 11, 11, 11, 11, 11])\n",
            "\n",
            "tgt:\t tensor([ 15, 108,   3,  11,   2,   0,   0,   0,   0])\n",
            "\n",
            "iter 4992 / 7800\tLoss:\t1.059867\n",
            "pred:\t tensor([ 14, 116, 179, 259,  11,   2,  11,  11,  11,  11])\n",
            "\n",
            "tgt:\t tensor([ 14, 116, 179, 259,  11,   2,   0,   0,   0])\n",
            "\n",
            "iter 5148 / 7800\tLoss:\t1.173791\n",
            "pred:\t tensor([68, 11,  2, 11, 11, 11, 11, 11, 11, 11])\n",
            "\n",
            "tgt:\t tensor([ 3, 11,  2,  0,  0,  0,  0,  0,  0])\n",
            "\n",
            "iter 5304 / 7800\tLoss:\t1.073567\n",
            "pred:\t tensor([ 15, 204,  37,  11,   2,  11,  11,  11,  11,  11])\n",
            "\n",
            "tgt:\t tensor([ 15, 204,   3,  11,   2,   0,   0,   0,   0])\n",
            "\n",
            "iter 5460 / 7800\tLoss:\t1.275380\n",
            "pred:\t tensor([51,  9, 90, 90,  5,  2,  5,  5,  5,  5])\n",
            "\n",
            "tgt:\t tensor([51,  9,  3, 90,  5,  2,  0,  0,  0])\n",
            "\n",
            "iter 5616 / 7800\tLoss:\t0.947886\n",
            "pred:\t tensor([170, 301,  24,   2,  24,  24,  24,  24,  24,  24])\n",
            "\n",
            "tgt:\t tensor([170,   3,  24,   2,   0,   0,   0,   0,   0])\n",
            "\n",
            "iter 5772 / 7800\tLoss:\t1.440918\n",
            "pred:\t tensor([ 3,  3, 81,  3, 24,  2, 24, 24, 24, 24])\n",
            "\n",
            "tgt:\t tensor([ 3, 71, 81,  3, 24,  2,  0,  0,  0])\n",
            "\n",
            "iter 5928 / 7800\tLoss:\t1.244545\n",
            "pred:\t tensor([ 38,  40, 102, 110,   5,   2,   5,   5,   5,   5])\n",
            "\n",
            "tgt:\t tensor([ 38,  40, 102, 110,   5,   2,   0,   0,   0])\n",
            "\n",
            "iter 6084 / 7800\tLoss:\t1.211732\n",
            "pred:\t tensor([55,  3,  5,  2,  5,  5,  5,  5, 11, 11])\n",
            "\n",
            "tgt:\t tensor([55,  3,  5,  2,  0,  0,  0,  0,  0])\n",
            "\n",
            "iter 6240 / 7800\tLoss:\t1.228848\n",
            "pred:\t tensor([52,  3, 11,  2, 11, 11, 11, 11, 11, 11])\n",
            "\n",
            "tgt:\t tensor([52,  3, 11,  2,  0,  0,  0,  0,  0])\n",
            "\n",
            "iter 6396 / 7800\tLoss:\t1.270863\n",
            "pred:\t tensor([48,  3, 11,  2, 11, 11, 11, 11, 11, 11])\n",
            "\n",
            "tgt:\t tensor([48,  3, 11,  2,  0,  0,  0,  0,  0])\n",
            "\n",
            "iter 6552 / 7800\tLoss:\t1.169753\n",
            "pred:\t tensor([14, 33, 11,  2, 11, 11, 11, 11, 11, 11])\n",
            "\n",
            "tgt:\t tensor([ 3, 33, 11,  2,  0,  0,  0,  0,  0])\n",
            "\n",
            "iter 6708 / 7800\tLoss:\t0.827592\n",
            "pred:\t tensor([199, 108,   3,  11,   2,  11,  11,  11,  11,  11])\n",
            "\n",
            "tgt:\t tensor([199, 108,   3,  11,   2,   0,   0,   0,   0])\n",
            "\n",
            "iter 6864 / 7800\tLoss:\t1.450301\n",
            "pred:\t tensor([108,   3,   3,  11,   2,  11,  11,  11,  11,  11])\n",
            "\n",
            "tgt:\t tensor([108,   3,   3,  11,   2,   0,   0,   0,   0])\n",
            "\n",
            "iter 7020 / 7800\tLoss:\t1.217712\n",
            "pred:\t tensor([ 3, 72,  3, 11,  2,  5,  5,  5,  5,  5])\n",
            "\n",
            "tgt:\t tensor([ 3, 74,  3, 11,  2,  0,  0,  0,  0])\n",
            "\n",
            "iter 7176 / 7800\tLoss:\t1.207642\n",
            "pred:\t tensor([171, 342, 400,  11,   2,   5,  11,  11,  11,  11])\n",
            "\n",
            "tgt:\t tensor([171, 342,   3,  11,   2,   0,   0,   0,   0])\n",
            "\n",
            "iter 7332 / 7800\tLoss:\t0.880869\n",
            "pred:\t tensor([52, 40, 35, 11,  2, 11, 11, 11, 11, 11])\n",
            "\n",
            "tgt:\t tensor([52, 40,  3, 11,  2,  0,  0,  0,  0])\n",
            "\n",
            "iter 7488 / 7800\tLoss:\t0.993790\n",
            "pred:\t tensor([36,  3, 11,  2, 11, 11, 11, 11, 11, 11])\n",
            "\n",
            "tgt:\t tensor([36,  3, 11,  2,  0,  0,  0,  0,  0])\n",
            "\n",
            "iter 7644 / 7800\tLoss:\t1.053247\n",
            "pred:\t tensor([ 3, 24,  2, 24, 24, 24,  5, 24, 24, 24])\n",
            "\n",
            "tgt:\t tensor([ 3, 24,  2,  0,  0,  0,  0,  0,  0])\n",
            "\n"
          ]
        }
      ],
      "source": [
        "def train_lstm(net, train_iter, lr, epochs, device):\n",
        "  # training\n",
        "  net = net.to(device)\n",
        "\n",
        "  optimizer = torch.optim.Adam(net.parameters(), lr=lr)\n",
        "  loss_list = []\n",
        "  print_interval = len(train_iter)\n",
        "  total_iter = epochs * len(train_iter)\n",
        "  for e in range(epochs):\n",
        "    net.train()\n",
        "    for i, train_data in enumerate(train_iter):\n",
        "      train_data = [ds.to(device) for ds in train_data]\n",
        "\n",
        "      loss, pred = net(*train_data)\n",
        "\n",
        "      loss_list.append(loss.mean().detach())\n",
        "      optimizer.zero_grad()\n",
        "      loss.mean().backward()\n",
        "      optimizer.step()\n",
        "\n",
        "      step = i + e * len(train_iter)\n",
        "      if step % print_interval == 0:\n",
        "        print('iter {} / {}\\tLoss:\\t{:.6f}'.format(step, total_iter, loss.mean().detach()))\n",
        "        print('pred:\\t {}\\n'.format(pred[0].detach().cpu()))\n",
        "        print('tgt:\\t {}\\n'.format(train_data[2][0][1:].cpu()))\n",
        "  return loss_list\n",
        "\n",
        "seed(1)\n",
        "batch_size = 32\n",
        "lr = None\n",
        "##############################################################################\n",
        "# TODO9: Find a good learning rate to train this model. Make sure your best\n",
        "# model is saved to the `lstm_net` variable.\n",
        "##############################################################################\n",
        "# Replace \"pass\" statement with your code\n",
        "lr = 1e-3\n",
        "# END OF YOUR CODE\n",
        "epochs = 50\n",
        "\n",
        "embedding_dim = 250\n",
        "hidden_size = 128\n",
        "\n",
        "vocab_eng, vocab_fra, train_iter = load_data_nmt(batch_size)\n",
        "lstm_net = NMTLSTM(vocab_eng.num_word, vocab_fra.num_word, embedding_dim, hidden_size, device)\n",
        "\n",
        "lstm_loss_list = train_lstm(lstm_net, train_iter, lr, epochs, device)"
      ]
    },
    {
      "cell_type": "markdown",
      "metadata": {
        "id": "M3c_DR_6G65s"
      },
      "source": [
        "### LSTM Loss Curve\n",
        "\n",
        "Plot the loss curve over time."
      ]
    },
    {
      "cell_type": "code",
      "execution_count": 191,
      "metadata": {
        "id": "J1RubQaWG65s",
        "colab": {
          "base_uri": "https://localhost:8080/",
          "height": 298
        },
        "outputId": "91f3d3dc-070e-49d3-b862-86d0868888e9"
      },
      "outputs": [
        {
          "output_type": "execute_result",
          "data": {
            "text/plain": [
              "Text(0.5, 1.0, 'Loss Curve of LSTM Attention')"
            ]
          },
          "metadata": {},
          "execution_count": 191
        },
        {
          "output_type": "display_data",
          "data": {
            "text/plain": [
              "<Figure size 432x288 with 1 Axes>"
            ],
            "image/png": "[encoded data removed]"
          },
          "metadata": {
            "needs_background": "light"
          }
        }
      ],
      "source": [
        "lstm_loss_list = torch.tensor(lstm_loss_list, device = 'cpu')\n",
        "plt.plot(np.arange(len(lstm_loss_list)), lstm_loss_list)\n",
        "plt.title('Loss Curve of LSTM Attention')"
      ]
    },
    {
      "cell_type": "markdown",
      "metadata": {
        "id": "iHBh_lS-G65s"
      },
      "source": [
        "Test the accuracy of your model. You should be able to get at least 75% accuracy."
      ]
    },
    {
      "cell_type": "code",
      "execution_count": 192,
      "metadata": {
        "id": "LzwCs7cmG65s",
        "colab": {
          "base_uri": "https://localhost:8080/"
        },
        "outputId": "e6fb063f-d607-4818-9728-e3e9d0912761"
      },
      "outputs": [
        {
          "output_type": "stream",
          "name": "stdout",
          "text": [
            "(tensor([4, 5, 0, 0, 0, 0, 0, 0, 0, 0]), tensor(2), tensor([1, 4, 5, 2, 0, 0, 0, 0, 0, 0]), tensor(4))\n",
            "pred:\t ['unk', '.']\n",
            "\n",
            "tgt:\t ['unk', '!', 'eos', 'pad', 'pad', 'pad', 'pad', 'pad', 'pad']\n",
            "\n",
            "pred:\t ['je', \"t'en\", 'dois', 'une', '.']\n",
            "\n",
            "tgt:\t ['je', \"t'en\", 'dois', 'une', '.', 'eos', 'pad', 'pad', 'pad']\n",
            "\n",
            "pred:\t ['est-il', 'mort', '?']\n",
            "\n",
            "tgt:\t ['est-il', 'unk', '?', 'eos', 'pad', 'pad', 'pad', 'pad', 'pad']\n",
            "\n",
            "pred:\t ['je', 'suis', 'unk', '.']\n",
            "\n",
            "tgt:\t ['je', 'suis', 'unk', '.', 'eos', 'pad', 'pad', 'pad', 'pad']\n",
            "\n",
            "pred:\t ['demande', 'à', 'qui', 'qui', '!']\n",
            "\n",
            "tgt:\t ['demande', 'à', 'unk', 'qui', '!', 'eos', 'pad', 'pad', 'pad']\n",
            "\n",
            "Prediction Acc.: 0.9031\n"
          ]
        }
      ],
      "source": [
        "def comp_acc(pred, gt, valid_len):\n",
        "  N, T_gt = gt.shape[:2]\n",
        "  _, T_pr = pred.shape[:2]\n",
        "  assert T_gt == T_pr, 'Prediction and target should have the same length.'\n",
        "  len_mask = torch.arange(T_gt).expand(N, T_gt)\n",
        "  len_mask = len_mask < valid_len[:, None]\n",
        "  \n",
        "  pred_crr = (pred == gt).float() * len_mask.float() # filter out the 'bos' token\n",
        "  pred_acc = pred_crr.sum(dim=-1) / (valid_len - 1).float() # minus the 'bos' token\n",
        "  return pred_acc\n",
        "  \n",
        "def evaluate_lstm(net, train_iter, device):\n",
        "  acc_list = []\n",
        "  for i, train_data in enumerate(train_iter):\n",
        "    train_data = [ds.to(device) for ds in train_data]\n",
        "\n",
        "    pred = net.predict(*train_data)\n",
        "\n",
        "    pred_acc = comp_acc(pred.detach().cpu(), train_data[2].detach().cpu()[:, 1:], train_data[3].cpu())\n",
        "    acc_list.append(pred_acc)\n",
        "    if i < 5:# print 5 samples from 5 batches\n",
        "      pred = pred[0].detach().cpu()\n",
        "      pred_seq = []\n",
        "      for t in range(MAX_LEN+1):\n",
        "        pred_wd = vocab_fra.index2word[pred[t].item()] \n",
        "        if pred_wd == 'eos':\n",
        "          break\n",
        "        pred_seq.append(pred_wd)\n",
        "\n",
        "      print('pred:\\t {}\\n'.format(pred_seq))\n",
        "      print('tgt:\\t {}\\n'.format([vocab_fra.index2word[t.item()] for t in train_data[2][0][1:].cpu()]))\n",
        "  \n",
        "  print('Prediction Acc.: {:.4f}'.format(torch.cat(acc_list).mean()))\n",
        "  acc_final = torch.cat(acc_list).mean()\n",
        "  return acc_final\n",
        "  \n",
        "seed(1)\n",
        "batch_size = 32\n",
        "\n",
        "vocab_eng, vocab_fra, train_iter = load_data_nmt(batch_size)\n",
        "acc_final = evaluate_lstm(lstm_net, train_iter, device)"
      ]
    },
    {
      "cell_type": "code",
      "source": [
        "if acc_final > 0.75:\n",
        "  print(\"Good!\")\n",
        "  Acc_score = 10\n",
        "else:\n",
        "  print(\"Try again!\")\n",
        "  Acc_score = 0"
      ],
      "metadata": {
        "id": "9lsIO57WKkYr",
        "colab": {
          "base_uri": "https://localhost:8080/"
        },
        "outputId": "59824a20-bc17-4f83-ca67-54f175a22f6f"
      },
      "execution_count": 193,
      "outputs": [
        {
          "output_type": "stream",
          "name": "stdout",
          "text": [
            "Good!\n"
          ]
        }
      ]
    },
    {
      "cell_type": "code",
      "source": [
        "# Total 25pt\n",
        "asgn3_score = LSTM_score + Dot_score + MLP_score + Acc_score\n",
        "asgn3_score"
      ],
      "metadata": {
        "id": "2kKlkHOoLebr",
        "colab": {
          "base_uri": "https://localhost:8080/"
        },
        "outputId": "72327430-04cc-4c92-a690-adb297d9e0e4"
      },
      "execution_count": 194,
      "outputs": [
        {
          "output_type": "execute_result",
          "data": {
            "text/plain": [
              "25"
            ]
          },
          "metadata": {},
          "execution_count": 194
        }
      ]
    },
    {
      "cell_type": "markdown",
      "source": [
        "## Discuss and Analysis\n",
        "\n",
        "In this section, you can experiment with whatever RNN architecture you'd like on this translation dataset and get higher accuracy as well as possible. You may try different architectures, hyperparameters, loss functions or other things. To get full credit, you should test at least one experiment.\n",
        "\n",
        "Also, you should describe what you did and analyze your experiment results for each experiment. (It can be your thoughts about the limitation of your work/ a possible direction for improvement/ reason why you failed to get high accuracy,..etc)\n",
        "\n",
        "### Things you might try:\n",
        "- **Hyperparameter**: Learning rate, Batch size, Vocabulary size, feature dimension, etc.\n",
        "- **Regularization**: Dropout, Batch normalization, etc\n",
        "- **Network architecture**: If you want, you can even use other than LSTM. (GRU,..)\n",
        "\n",
        "### Going above and beyond\n",
        "If you are feeling adventurous there are many other features you can implement to try and improve your performance. You are **not required** to implement any of these, but don't miss the fun if you have time!\n",
        "\n",
        "- Alternative optimizers: you can try Adam, Adagrad, RMSprop, etc.\n",
        "- Alternative activation functions such as leaky ReLU, parametric ReLU, ELU, or MaxOut.\n",
        "- Model ensembles\n",
        "- New Architectures\n",
        "\n",
        "Feel free to add code blocks and explanation cells below.\n"
      ],
      "metadata": {
        "id": "V0a-P2TnG_Df"
      }
    },
    {
      "cell_type": "markdown",
      "metadata": {
        "id": "-WqXJKiMo0bn"
      },
      "source": [
        "**Experiment #1** (10 points)"
      ]
    }
  ],
  "metadata": {
    "kernelspec": {
      "display_name": "Python 3",
      "language": "python",
      "name": "python3"
    },
    "language_info": {
      "codemirror_mode": {
        "name": "ipython",
        "version": 3
      },
      "file_extension": ".py",
      "mimetype": "text/x-python",
      "name": "python",
      "nbconvert_exporter": "python",
      "pygments_lexer": "ipython3",
      "version": "3.8.5"
    },
    "colab": {
      "name": "Copy of CS376_HW3.ipynb",
      "provenance": [],
      "collapsed_sections": [
        "M3c_DR_6G65s"
      ],
      "include_colab_link": true
    },
    "accelerator": "GPU"
  },
  "nbformat": 4,
  "nbformat_minor": 0
}