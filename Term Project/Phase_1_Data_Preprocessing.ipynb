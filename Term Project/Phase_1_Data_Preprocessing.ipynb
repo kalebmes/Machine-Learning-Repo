{
  "nbformat": 4,
  "nbformat_minor": 0,
  "metadata": {
    "colab": {
      "name": "Phase 1 - Data Preprocessing.ipynb",
      "provenance": [],
      "collapsed_sections": [],
      "authorship_tag": "ABX9TyMTycIllr1dyq9VU6BKJSso",
      "include_colab_link": true
    },
    "kernelspec": {
      "name": "python3",
      "display_name": "Python 3"
    },
    "language_info": {
      "name": "python"
    }
  },
  "cells": [
    {
      "cell_type": "markdown",
      "metadata": {
        "id": "view-in-github",
        "colab_type": "text"
      },
      "source": [
        "<a href=\"https://colab.research.google.com/github/kalebmes/CS376-Machine-Learning/blob/main/Term%20Project/Phase_1_Data_Preprocessing.ipynb\" target=\"_parent\"><img src=\"https://colab.research.google.com/assets/colab-badge.svg\" alt=\"Open In Colab\"/></a>"
      ]
    },
    {
      "cell_type": "code",
      "execution_count": 232,
      "metadata": {
        "id": "H7XT5ljNqQ8G"
      },
      "outputs": [],
      "source": [
        "import pandas as pd"
      ]
    },
    {
      "cell_type": "code",
      "source": [
        "path = 'https://raw.githubusercontent.com/kalebmes/CS492-Introduction-to-data-science/main/Term%20Project/datasets/train.csv?token=GHSAT0AAAAAABRHJ7BISZWEJLFGFIXNLNHAYSVXSQQ'\n",
        "df = pd.read_csv(path)\n",
        "df"
      ],
      "metadata": {
        "colab": {
          "base_uri": "https://localhost:8080/",
          "height": 488
        },
        "id": "ssFsHdX3tAE3",
        "outputId": "39fd3b87-abb4-46ef-afa6-dc223236c6b8"
      },
      "execution_count": 233,
      "outputs": [
        {
          "output_type": "execute_result",
          "data": {
            "text/plain": [
              "             ID IssueDateTime  DeclarationOfficeID ProcessType  \\\n",
              "0      72084586    2020-01-01                   40           B   \n",
              "1      40435069    2020-01-01                   40           B   \n",
              "2      55727128    2020-01-01                   21           B   \n",
              "3      59584234    2020-01-01                   30           B   \n",
              "4      81704651    2020-01-01                   33           B   \n",
              "...         ...           ...                  ...         ...   \n",
              "37817  97825407    2020-12-31                   20           B   \n",
              "37818  52016133    2020-12-31                   10           B   \n",
              "37819  47048702    2020-12-31                   13           B   \n",
              "37820  30000766    2020-12-31                   40           B   \n",
              "37821  27097227    2020-12-31                   10           B   \n",
              "\n",
              "       TransactionNature  Type  PaymentType  BorderTransportMeans DeclarerID  \\\n",
              "0                     55    21           11                    40    9GW1AOD   \n",
              "1                     11    21           11                    40    7GHJ33J   \n",
              "2                     15    11           11                    10    CSYO98C   \n",
              "3                     11    21           11                    40    IL0ECV3   \n",
              "4                     11    21           11                    30    YFZ49RP   \n",
              "...                  ...   ...          ...                   ...        ...   \n",
              "37817                 15    21           13                    10    A7POIBB   \n",
              "37818                 11    21           11                    10    JIHZF3K   \n",
              "37819                 94    21           11                    40    MBMUR6B   \n",
              "37820                 11    21           11                    10    AX4CW6G   \n",
              "37821                 11    11           11                    10    5PDPMM1   \n",
              "\n",
              "      ImporterID  ... ExpressID ClassificationID  ExportationCountry  \\\n",
              "0        BMWKZKI  ...       NaN       9619001090                  JP   \n",
              "1        VFJGVDY  ...       NaN       9506910000                  CN   \n",
              "2        M9O8BKE  ...    MWIDNS       1201903000                  CN   \n",
              "3        H920U30  ...       NaN       6504000000                  CN   \n",
              "4        O4IUH56  ...       NaN       8504502090                  HK   \n",
              "...          ...  ...       ...              ...                 ...   \n",
              "37817    CL38DL7  ...       NaN       6204420000                  CN   \n",
              "37818    37V8B48  ...       NaN       8523521000                  CN   \n",
              "37819    NK3WFQM  ...       NaN       2204212000                  FR   \n",
              "37820    9FP5BBC  ...       NaN       9018509000                  JP   \n",
              "37821    A8YKFP4  ...       NaN       4205002900                  CN   \n",
              "\n",
              "      OriginCountry TaxRate  DisplayIndicator DutyRegime  \\\n",
              "0                JP     0.0                 C          B   \n",
              "1                CN     8.0                 A          Y   \n",
              "2                CN     5.0                W1          E   \n",
              "3                CN     0.0              FCN1          E   \n",
              "4                CN     2.2               CIT          G   \n",
              "...             ...     ...               ...        ...   \n",
              "37817            CN     5.2              FCN1          B   \n",
              "37818            CN     0.0               CIT          B   \n",
              "37819            FR     0.0              FEU1          E   \n",
              "37820            JP     1.3                 C          Y   \n",
              "37821            CN     0.0              FCN1          B   \n",
              "\n",
              "      TotalGrossMassMeasure(KG)  AdValoremTaxBaseAmount(Won)  Fake  \n",
              "0                        5742.6                   2274643.86     0  \n",
              "1                          21.0                       285.60     0  \n",
              "2                       38000.0                  16302000.00     0  \n",
              "3                         798.0                     49635.60     0  \n",
              "4                         170.9                     24917.22     0  \n",
              "...                         ...                          ...   ...  \n",
              "37817                      10.0                       583.00     0  \n",
              "37818                       7.0                     14179.20     0  \n",
              "37819                    1728.0                     41472.00     0  \n",
              "37820                       5.0                      8630.50     1  \n",
              "37821                   32500.0                    289250.00     0  \n",
              "\n",
              "[37822 rows x 21 columns]"
            ],
            "text/html": [
              "\n",
              "  <div id=\"df-737d2c64-7e7c-47a8-9f4e-5aeb7a815288\">\n",
              "    <div class=\"colab-df-container\">\n",
              "      <div>\n",
              "<style scoped>\n",
              "    .dataframe tbody tr th:only-of-type {\n",
              "        vertical-align: middle;\n",
              "    }\n",
              "\n",
              "    .dataframe tbody tr th {\n",
              "        vertical-align: top;\n",
              "    }\n",
              "\n",
              "    .dataframe thead th {\n",
              "        text-align: right;\n",
              "    }\n",
              "</style>\n",
              "<table border=\"1\" class=\"dataframe\">\n",
              "  <thead>\n",
              "    <tr style=\"text-align: right;\">\n",
              "      <th></th>\n",
              "      <th>ID</th>\n",
              "      <th>IssueDateTime</th>\n",
              "      <th>DeclarationOfficeID</th>\n",
              "      <th>ProcessType</th>\n",
              "      <th>TransactionNature</th>\n",
              "      <th>Type</th>\n",
              "      <th>PaymentType</th>\n",
              "      <th>BorderTransportMeans</th>\n",
              "      <th>DeclarerID</th>\n",
              "      <th>ImporterID</th>\n",
              "      <th>...</th>\n",
              "      <th>ExpressID</th>\n",
              "      <th>ClassificationID</th>\n",
              "      <th>ExportationCountry</th>\n",
              "      <th>OriginCountry</th>\n",
              "      <th>TaxRate</th>\n",
              "      <th>DisplayIndicator</th>\n",
              "      <th>DutyRegime</th>\n",
              "      <th>TotalGrossMassMeasure(KG)</th>\n",
              "      <th>AdValoremTaxBaseAmount(Won)</th>\n",
              "      <th>Fake</th>\n",
              "    </tr>\n",
              "  </thead>\n",
              "  <tbody>\n",
              "    <tr>\n",
              "      <th>0</th>\n",
              "      <td>72084586</td>\n",
              "      <td>2020-01-01</td>\n",
              "      <td>40</td>\n",
              "      <td>B</td>\n",
              "      <td>55</td>\n",
              "      <td>21</td>\n",
              "      <td>11</td>\n",
              "      <td>40</td>\n",
              "      <td>9GW1AOD</td>\n",
              "      <td>BMWKZKI</td>\n",
              "      <td>...</td>\n",
              "      <td>NaN</td>\n",
              "      <td>9619001090</td>\n",
              "      <td>JP</td>\n",
              "      <td>JP</td>\n",
              "      <td>0.0</td>\n",
              "      <td>C</td>\n",
              "      <td>B</td>\n",
              "      <td>5742.6</td>\n",
              "      <td>2274643.86</td>\n",
              "      <td>0</td>\n",
              "    </tr>\n",
              "    <tr>\n",
              "      <th>1</th>\n",
              "      <td>40435069</td>\n",
              "      <td>2020-01-01</td>\n",
              "      <td>40</td>\n",
              "      <td>B</td>\n",
              "      <td>11</td>\n",
              "      <td>21</td>\n",
              "      <td>11</td>\n",
              "      <td>40</td>\n",
              "      <td>7GHJ33J</td>\n",
              "      <td>VFJGVDY</td>\n",
              "      <td>...</td>\n",
              "      <td>NaN</td>\n",
              "      <td>9506910000</td>\n",
              "      <td>CN</td>\n",
              "      <td>CN</td>\n",
              "      <td>8.0</td>\n",
              "      <td>A</td>\n",
              "      <td>Y</td>\n",
              "      <td>21.0</td>\n",
              "      <td>285.60</td>\n",
              "      <td>0</td>\n",
              "    </tr>\n",
              "    <tr>\n",
              "      <th>2</th>\n",
              "      <td>55727128</td>\n",
              "      <td>2020-01-01</td>\n",
              "      <td>21</td>\n",
              "      <td>B</td>\n",
              "      <td>15</td>\n",
              "      <td>11</td>\n",
              "      <td>11</td>\n",
              "      <td>10</td>\n",
              "      <td>CSYO98C</td>\n",
              "      <td>M9O8BKE</td>\n",
              "      <td>...</td>\n",
              "      <td>MWIDNS</td>\n",
              "      <td>1201903000</td>\n",
              "      <td>CN</td>\n",
              "      <td>CN</td>\n",
              "      <td>5.0</td>\n",
              "      <td>W1</td>\n",
              "      <td>E</td>\n",
              "      <td>38000.0</td>\n",
              "      <td>16302000.00</td>\n",
              "      <td>0</td>\n",
              "    </tr>\n",
              "    <tr>\n",
              "      <th>3</th>\n",
              "      <td>59584234</td>\n",
              "      <td>2020-01-01</td>\n",
              "      <td>30</td>\n",
              "      <td>B</td>\n",
              "      <td>11</td>\n",
              "      <td>21</td>\n",
              "      <td>11</td>\n",
              "      <td>40</td>\n",
              "      <td>IL0ECV3</td>\n",
              "      <td>H920U30</td>\n",
              "      <td>...</td>\n",
              "      <td>NaN</td>\n",
              "      <td>6504000000</td>\n",
              "      <td>CN</td>\n",
              "      <td>CN</td>\n",
              "      <td>0.0</td>\n",
              "      <td>FCN1</td>\n",
              "      <td>E</td>\n",
              "      <td>798.0</td>\n",
              "      <td>49635.60</td>\n",
              "      <td>0</td>\n",
              "    </tr>\n",
              "    <tr>\n",
              "      <th>4</th>\n",
              "      <td>81704651</td>\n",
              "      <td>2020-01-01</td>\n",
              "      <td>33</td>\n",
              "      <td>B</td>\n",
              "      <td>11</td>\n",
              "      <td>21</td>\n",
              "      <td>11</td>\n",
              "      <td>30</td>\n",
              "      <td>YFZ49RP</td>\n",
              "      <td>O4IUH56</td>\n",
              "      <td>...</td>\n",
              "      <td>NaN</td>\n",
              "      <td>8504502090</td>\n",
              "      <td>HK</td>\n",
              "      <td>CN</td>\n",
              "      <td>2.2</td>\n",
              "      <td>CIT</td>\n",
              "      <td>G</td>\n",
              "      <td>170.9</td>\n",
              "      <td>24917.22</td>\n",
              "      <td>0</td>\n",
              "    </tr>\n",
              "    <tr>\n",
              "      <th>...</th>\n",
              "      <td>...</td>\n",
              "      <td>...</td>\n",
              "      <td>...</td>\n",
              "      <td>...</td>\n",
              "      <td>...</td>\n",
              "      <td>...</td>\n",
              "      <td>...</td>\n",
              "      <td>...</td>\n",
              "      <td>...</td>\n",
              "      <td>...</td>\n",
              "      <td>...</td>\n",
              "      <td>...</td>\n",
              "      <td>...</td>\n",
              "      <td>...</td>\n",
              "      <td>...</td>\n",
              "      <td>...</td>\n",
              "      <td>...</td>\n",
              "      <td>...</td>\n",
              "      <td>...</td>\n",
              "      <td>...</td>\n",
              "      <td>...</td>\n",
              "    </tr>\n",
              "    <tr>\n",
              "      <th>37817</th>\n",
              "      <td>97825407</td>\n",
              "      <td>2020-12-31</td>\n",
              "      <td>20</td>\n",
              "      <td>B</td>\n",
              "      <td>15</td>\n",
              "      <td>21</td>\n",
              "      <td>13</td>\n",
              "      <td>10</td>\n",
              "      <td>A7POIBB</td>\n",
              "      <td>CL38DL7</td>\n",
              "      <td>...</td>\n",
              "      <td>NaN</td>\n",
              "      <td>6204420000</td>\n",
              "      <td>CN</td>\n",
              "      <td>CN</td>\n",
              "      <td>5.2</td>\n",
              "      <td>FCN1</td>\n",
              "      <td>B</td>\n",
              "      <td>10.0</td>\n",
              "      <td>583.00</td>\n",
              "      <td>0</td>\n",
              "    </tr>\n",
              "    <tr>\n",
              "      <th>37818</th>\n",
              "      <td>52016133</td>\n",
              "      <td>2020-12-31</td>\n",
              "      <td>10</td>\n",
              "      <td>B</td>\n",
              "      <td>11</td>\n",
              "      <td>21</td>\n",
              "      <td>11</td>\n",
              "      <td>10</td>\n",
              "      <td>JIHZF3K</td>\n",
              "      <td>37V8B48</td>\n",
              "      <td>...</td>\n",
              "      <td>NaN</td>\n",
              "      <td>8523521000</td>\n",
              "      <td>CN</td>\n",
              "      <td>CN</td>\n",
              "      <td>0.0</td>\n",
              "      <td>CIT</td>\n",
              "      <td>B</td>\n",
              "      <td>7.0</td>\n",
              "      <td>14179.20</td>\n",
              "      <td>0</td>\n",
              "    </tr>\n",
              "    <tr>\n",
              "      <th>37819</th>\n",
              "      <td>47048702</td>\n",
              "      <td>2020-12-31</td>\n",
              "      <td>13</td>\n",
              "      <td>B</td>\n",
              "      <td>94</td>\n",
              "      <td>21</td>\n",
              "      <td>11</td>\n",
              "      <td>40</td>\n",
              "      <td>MBMUR6B</td>\n",
              "      <td>NK3WFQM</td>\n",
              "      <td>...</td>\n",
              "      <td>NaN</td>\n",
              "      <td>2204212000</td>\n",
              "      <td>FR</td>\n",
              "      <td>FR</td>\n",
              "      <td>0.0</td>\n",
              "      <td>FEU1</td>\n",
              "      <td>E</td>\n",
              "      <td>1728.0</td>\n",
              "      <td>41472.00</td>\n",
              "      <td>0</td>\n",
              "    </tr>\n",
              "    <tr>\n",
              "      <th>37820</th>\n",
              "      <td>30000766</td>\n",
              "      <td>2020-12-31</td>\n",
              "      <td>40</td>\n",
              "      <td>B</td>\n",
              "      <td>11</td>\n",
              "      <td>21</td>\n",
              "      <td>11</td>\n",
              "      <td>10</td>\n",
              "      <td>AX4CW6G</td>\n",
              "      <td>9FP5BBC</td>\n",
              "      <td>...</td>\n",
              "      <td>NaN</td>\n",
              "      <td>9018509000</td>\n",
              "      <td>JP</td>\n",
              "      <td>JP</td>\n",
              "      <td>1.3</td>\n",
              "      <td>C</td>\n",
              "      <td>Y</td>\n",
              "      <td>5.0</td>\n",
              "      <td>8630.50</td>\n",
              "      <td>1</td>\n",
              "    </tr>\n",
              "    <tr>\n",
              "      <th>37821</th>\n",
              "      <td>27097227</td>\n",
              "      <td>2020-12-31</td>\n",
              "      <td>10</td>\n",
              "      <td>B</td>\n",
              "      <td>11</td>\n",
              "      <td>11</td>\n",
              "      <td>11</td>\n",
              "      <td>10</td>\n",
              "      <td>5PDPMM1</td>\n",
              "      <td>A8YKFP4</td>\n",
              "      <td>...</td>\n",
              "      <td>NaN</td>\n",
              "      <td>4205002900</td>\n",
              "      <td>CN</td>\n",
              "      <td>CN</td>\n",
              "      <td>0.0</td>\n",
              "      <td>FCN1</td>\n",
              "      <td>B</td>\n",
              "      <td>32500.0</td>\n",
              "      <td>289250.00</td>\n",
              "      <td>0</td>\n",
              "    </tr>\n",
              "  </tbody>\n",
              "</table>\n",
              "<p>37822 rows × 21 columns</p>\n",
              "</div>\n",
              "      <button class=\"colab-df-convert\" onclick=\"convertToInteractive('df-737d2c64-7e7c-47a8-9f4e-5aeb7a815288')\"\n",
              "              title=\"Convert this dataframe to an interactive table.\"\n",
              "              style=\"display:none;\">\n",
              "        \n",
              "  <svg xmlns=\"http://www.w3.org/2000/svg\" height=\"24px\"viewBox=\"0 0 24 24\"\n",
              "       width=\"24px\">\n",
              "    <path d=\"M0 0h24v24H0V0z\" fill=\"none\"/>\n",
              "    <path d=\"M18.56 5.44l.94 2.06.94-2.06 2.06-.94-2.06-.94-.94-2.06-.94 2.06-2.06.94zm-11 1L8.5 8.5l.94-2.06 2.06-.94-2.06-.94L8.5 2.5l-.94 2.06-2.06.94zm10 10l.94 2.06.94-2.06 2.06-.94-2.06-.94-.94-2.06-.94 2.06-2.06.94z\"/><path d=\"M17.41 7.96l-1.37-1.37c-.4-.4-.92-.59-1.43-.59-.52 0-1.04.2-1.43.59L10.3 9.45l-7.72 7.72c-.78.78-.78 2.05 0 2.83L4 21.41c.39.39.9.59 1.41.59.51 0 1.02-.2 1.41-.59l7.78-7.78 2.81-2.81c.8-.78.8-2.07 0-2.86zM5.41 20L4 18.59l7.72-7.72 1.47 1.35L5.41 20z\"/>\n",
              "  </svg>\n",
              "      </button>\n",
              "      \n",
              "  <style>\n",
              "    .colab-df-container {\n",
              "      display:flex;\n",
              "      flex-wrap:wrap;\n",
              "      gap: 12px;\n",
              "    }\n",
              "\n",
              "    .colab-df-convert {\n",
              "      background-color: #E8F0FE;\n",
              "      border: none;\n",
              "      border-radius: 50%;\n",
              "      cursor: pointer;\n",
              "      display: none;\n",
              "      fill: #1967D2;\n",
              "      height: 32px;\n",
              "      padding: 0 0 0 0;\n",
              "      width: 32px;\n",
              "    }\n",
              "\n",
              "    .colab-df-convert:hover {\n",
              "      background-color: #E2EBFA;\n",
              "      box-shadow: 0px 1px 2px rgba(60, 64, 67, 0.3), 0px 1px 3px 1px rgba(60, 64, 67, 0.15);\n",
              "      fill: #174EA6;\n",
              "    }\n",
              "\n",
              "    [theme=dark] .colab-df-convert {\n",
              "      background-color: #3B4455;\n",
              "      fill: #D2E3FC;\n",
              "    }\n",
              "\n",
              "    [theme=dark] .colab-df-convert:hover {\n",
              "      background-color: #434B5C;\n",
              "      box-shadow: 0px 1px 3px 1px rgba(0, 0, 0, 0.15);\n",
              "      filter: drop-shadow(0px 1px 2px rgba(0, 0, 0, 0.3));\n",
              "      fill: #FFFFFF;\n",
              "    }\n",
              "  </style>\n",
              "\n",
              "      <script>\n",
              "        const buttonEl =\n",
              "          document.querySelector('#df-737d2c64-7e7c-47a8-9f4e-5aeb7a815288 button.colab-df-convert');\n",
              "        buttonEl.style.display =\n",
              "          google.colab.kernel.accessAllowed ? 'block' : 'none';\n",
              "\n",
              "        async function convertToInteractive(key) {\n",
              "          const element = document.querySelector('#df-737d2c64-7e7c-47a8-9f4e-5aeb7a815288');\n",
              "          const dataTable =\n",
              "            await google.colab.kernel.invokeFunction('convertToInteractive',\n",
              "                                                     [key], {});\n",
              "          if (!dataTable) return;\n",
              "\n",
              "          const docLinkHtml = 'Like what you see? Visit the ' +\n",
              "            '<a target=\"_blank\" href=https://colab.research.google.com/notebooks/data_table.ipynb>data table notebook</a>'\n",
              "            + ' to learn more about interactive tables.';\n",
              "          element.innerHTML = '';\n",
              "          dataTable['output_type'] = 'display_data';\n",
              "          await google.colab.output.renderOutput(dataTable, element);\n",
              "          const docLink = document.createElement('div');\n",
              "          docLink.innerHTML = docLinkHtml;\n",
              "          element.appendChild(docLink);\n",
              "        }\n",
              "      </script>\n",
              "    </div>\n",
              "  </div>\n",
              "  "
            ]
          },
          "metadata": {},
          "execution_count": 233
        }
      ]
    },
    {
      "cell_type": "code",
      "source": [
        "cols = df.columns\n",
        "cols"
      ],
      "metadata": {
        "id": "F45nCJk7tN3-",
        "colab": {
          "base_uri": "https://localhost:8080/"
        },
        "outputId": "fc8c0556-19dc-411c-f300-b13caa9c20bd"
      },
      "execution_count": 278,
      "outputs": [
        {
          "output_type": "execute_result",
          "data": {
            "text/plain": [
              "Index(['ID', 'IssueDateTime', 'DeclarationOfficeID', 'ProcessType',\n",
              "       'TransactionNature', 'Type', 'PaymentType', 'BorderTransportMeans',\n",
              "       'DeclarerID', 'ImporterID', 'SellerID', 'ExpressID', 'ClassificationID',\n",
              "       'ExportationCountry', 'OriginCountry', 'TaxRate', 'DisplayIndicator',\n",
              "       'DutyRegime', 'TotalGrossMassMeasure(KG)',\n",
              "       'AdValoremTaxBaseAmount(Won)', 'Fake', 'Month'],\n",
              "      dtype='object')"
            ]
          },
          "metadata": {},
          "execution_count": 278
        }
      ]
    },
    {
      "cell_type": "code",
      "source": [
        "#1. Which column does have the most missing values?\n",
        "\n",
        "missing_cols = df.isnull().sum()\n",
        "missing_cols[missing_cols > 0] # as we can see express ID has the highest missing column"
      ],
      "metadata": {
        "colab": {
          "base_uri": "https://localhost:8080/"
        },
        "id": "EevdJAaZb3jz",
        "outputId": "0cbe2841-d61c-4763-93b2-f817a47f0959"
      },
      "execution_count": 279,
      "outputs": [
        {
          "output_type": "execute_result",
          "data": {
            "text/plain": [
              "SellerID               3916\n",
              "ExpressID             29504\n",
              "ExportationCountry        1\n",
              "OriginCountry             1\n",
              "dtype: int64"
            ]
          },
          "metadata": {},
          "execution_count": 279
        }
      ]
    },
    {
      "cell_type": "code",
      "source": [
        "missing_cols = missing_cols[missing_cols > 0]\n",
        "print(missing_cols.idxmax())"
      ],
      "metadata": {
        "colab": {
          "base_uri": "https://localhost:8080/"
        },
        "id": "9QYq2keLd81x",
        "outputId": "57343e8e-08d2-4409-a855-d4f4743d79e8"
      },
      "execution_count": 280,
      "outputs": [
        {
          "output_type": "stream",
          "name": "stdout",
          "text": [
            "ExpressID\n"
          ]
        }
      ]
    },
    {
      "cell_type": "code",
      "source": [
        "#2. Do the imports by airplanes (code=40) have a higher proportion of fake declarations than those by ships (code=10)?\n",
        "\n",
        "plane_imports = df[df['BorderTransportMeans'] == 40]\n",
        "fake_plane_imports_prop = plane_imports[plane_imports['Fake'] == 1].shape[0] / len(plane_imports)\n",
        "fake_plane_imports_prop\n",
        "\n",
        "ship_imports = df[df['BorderTransportMeans'] == 10]\n",
        "fake_ship_imports_prop = ship_imports[ship_imports['Fake'] == 1].shape[0] / len(ship_imports)\n",
        "fake_ship_imports_prop < fake_plane_imports_prop # as we can see there are higher proportion of fake declarations by ships "
      ],
      "metadata": {
        "colab": {
          "base_uri": "https://localhost:8080/"
        },
        "id": "mWpXMU-LevT4",
        "outputId": "253e54bf-acb5-4691-bfb8-87f6e329b6b4"
      },
      "execution_count": 281,
      "outputs": [
        {
          "output_type": "execute_result",
          "data": {
            "text/plain": [
              "True"
            ]
          },
          "metadata": {},
          "execution_count": 281
        }
      ]
    },
    {
      "cell_type": "code",
      "source": [
        "#3. Do the imports at Incheon Airport (code=40) have a higher proportion of fake declarations than those at Incheon Harbor (code=20)?\n",
        "\n",
        "harbor_imports = df[df['BorderTransportMeans'] == 20]\n",
        "harbor_fake_prop = harbor_imports[harbor_imports['Fake'] == 1].shape[0] / len(harbor_imports)\n",
        "fake_plane_imports_prop > harbor_fake_prop"
      ],
      "metadata": {
        "colab": {
          "base_uri": "https://localhost:8080/"
        },
        "id": "mOUX7JOJjdug",
        "outputId": "311f47ac-ce54-48d9-9b0d-56f526ebcaba"
      },
      "execution_count": 282,
      "outputs": [
        {
          "output_type": "execute_result",
          "data": {
            "text/plain": [
              "False"
            ]
          },
          "metadata": {},
          "execution_count": 282
        }
      ]
    },
    {
      "cell_type": "code",
      "source": [
        "#4. From which exportation country (ExportationCountry) do the imports have the highest proportion of fake declarations?\n",
        "from collections import Counter\n",
        "countries = ['NZ', 'FI', 'GR', 'FR']\n",
        "df_countries = df[df['ExportationCountry'].isin(countries)]\n",
        "fake_countries = df_countries[df_countries['Fake'] == 1]\n",
        "fake_by_countries = Counter(fake_countries['ExportationCountry'])\n",
        "num_by_countries = Counter(df_countries['ExportationCountry'])\n",
        "print(fake_by_countries)\n",
        "print(num_by_countries)\n",
        "prop_dict = {country: (numf/numv) for (country, numf) in fake_by_countries.items() for country2, numv in num_by_countries.items() if country==country2}\n",
        "print(prop_dict)\n",
        "print(max(prop_dict, key=prop_dict.get))"
      ],
      "metadata": {
        "colab": {
          "base_uri": "https://localhost:8080/"
        },
        "id": "WfSRLOPMmgdX",
        "outputId": "ca3c5023-25e7-463b-f24a-a26d5fede883"
      },
      "execution_count": 283,
      "outputs": [
        {
          "output_type": "stream",
          "name": "stdout",
          "text": [
            "Counter({'FR': 113, 'FI': 24, 'NZ': 3, 'GR': 1})\n",
            "Counter({'FR': 460, 'FI': 54, 'NZ': 18, 'GR': 5})\n",
            "{'FI': 0.4444444444444444, 'FR': 0.24565217391304348, 'NZ': 0.16666666666666666, 'GR': 0.2}\n",
            "FI\n"
          ]
        }
      ]
    },
    {
      "cell_type": "code",
      "source": [
        "#5. In which month do the imports have the highest proportion of fake declarations?\n",
        "\n",
        "df['IssueDateTime'] = pd.to_datetime(df['IssueDateTime'])\n",
        "df['Month'] = df['IssueDateTime'].dt.month\n",
        "months = [2, 5, 7, 8]\n",
        "df_months = df[df['Month'].isin(months)]\n",
        "fake_months = df_months[df_months['Fake'] == 1]\n",
        "fake_by_month = Counter(fake_months['Month'])\n",
        "num_months = Counter(df_months['Month'])\n",
        "print(fake_by_month)\n",
        "print(num_months)\n",
        "prop_month = {month: numf/numv for (month, numf) in fake_by_month.items() for (month2, numv) in num_months.items() if month==month2}\n",
        "print(prop_month)\n",
        "print(max(prop_month, key=prop_month.get))"
      ],
      "metadata": {
        "colab": {
          "base_uri": "https://localhost:8080/"
        },
        "id": "o1MVRht8ASjG",
        "outputId": "b0c3e426-6822-4ae2-8f50-9742ce6608ba"
      },
      "execution_count": 284,
      "outputs": [
        {
          "output_type": "stream",
          "name": "stdout",
          "text": [
            "Counter({2: 715, 7: 715, 8: 671, 5: 563})\n",
            "Counter({7: 3427, 8: 3168, 2: 3151, 5: 2826})\n",
            "{2: 0.2269120913995557, 5: 0.19922151450813871, 7: 0.20863729209220894, 8: 0.21180555555555555}\n",
            "2\n"
          ]
        }
      ]
    },
    {
      "cell_type": "code",
      "source": [
        "#6. What is the Pearson correlation coefficient between TotalGrossMass and AdValoremTaxBaseAmount?\n",
        "print(df['TotalGrossMassMeasure(KG)'].corr(df['AdValoremTaxBaseAmount(Won)']))"
      ],
      "metadata": {
        "colab": {
          "base_uri": "https://localhost:8080/"
        },
        "id": "ry3vOr7Pe_sG",
        "outputId": "b4e9717d-91ce-4a24-9f42-3334486cdd5c"
      },
      "execution_count": 285,
      "outputs": [
        {
          "output_type": "stream",
          "name": "stdout",
          "text": [
            "0.21273827418767094\n"
          ]
        }
      ]
    },
    {
      "cell_type": "code",
      "source": [
        "#7. Do tax rate and Fake show correlation\n",
        "print(df['TaxRate'].corr(df['Fake']))"
      ],
      "metadata": {
        "colab": {
          "base_uri": "https://localhost:8080/"
        },
        "id": "h64luaT1hZHB",
        "outputId": "70e2a31c-50e1-4f9d-9213-9afff37a3a3f"
      },
      "execution_count": 286,
      "outputs": [
        {
          "output_type": "stream",
          "name": "stdout",
          "text": [
            "-0.0016180176775034522\n"
          ]
        }
      ]
    }
  ]
}