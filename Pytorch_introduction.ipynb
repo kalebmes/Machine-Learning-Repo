{
  "nbformat": 4,
  "nbformat_minor": 0,
  "metadata": {
    "colab": {
      "name": "Pytorch introduction.ipynb",
      "provenance": [],
      "authorship_tag": "ABX9TyOtuep0C5k7xnJioCTO5oLL",
      "include_colab_link": true
    },
    "kernelspec": {
      "name": "python3",
      "display_name": "Python 3"
    },
    "language_info": {
      "name": "python"
    }
  },
  "cells": [
    {
      "cell_type": "markdown",
      "metadata": {
        "id": "view-in-github",
        "colab_type": "text"
      },
      "source": [
        "<a href=\"https://colab.research.google.com/github/kalebmes/CS376-Machine-Learning/blob/main/Pytorch_introduction.ipynb\" target=\"_parent\"><img src=\"https://colab.research.google.com/assets/colab-badge.svg\" alt=\"Open In Colab\"/></a>"
      ]
    },
    {
      "cell_type": "code",
      "execution_count": 1,
      "metadata": {
        "id": "Iyr8KAVlOlk8"
      },
      "outputs": [],
      "source": [
        "import torch\n",
        "import numpy as np"
      ]
    },
    {
      "cell_type": "code",
      "source": [
        "data = [[1, 2], \n",
        "        [3, 4]]\n",
        "\n",
        "x_data = torch.tensor(data)"
      ],
      "metadata": {
        "id": "lAmbDeUrPRF9"
      },
      "execution_count": 2,
      "outputs": []
    },
    {
      "cell_type": "code",
      "source": [
        "np_array = np.array(data)\n",
        "x2_data = torch.tensor(np_array)\n",
        "x2_data == torch.from_numpy(np_array)"
      ],
      "metadata": {
        "colab": {
          "base_uri": "https://localhost:8080/"
        },
        "id": "PYsMzGxiPhdU",
        "outputId": "1080f7d7-1c56-4417-834b-7562d491b036"
      },
      "execution_count": 7,
      "outputs": [
        {
          "output_type": "execute_result",
          "data": {
            "text/plain": [
              "tensor([[True, True],\n",
              "        [True, True]])"
            ]
          },
          "metadata": {},
          "execution_count": 7
        }
      ]
    },
    {
      "cell_type": "code",
      "source": [
        "x_ones = torch.ones_like(x_data)\n",
        "print(x_ones.type())\n",
        "torch.from_numpy(np.arange(10)).type()"
      ],
      "metadata": {
        "colab": {
          "base_uri": "https://localhost:8080/",
          "height": 53
        },
        "id": "eNeE7eVnQFM9",
        "outputId": "2dc3c895-5805-42ee-e3b9-d77b9cf98a58"
      },
      "execution_count": 16,
      "outputs": [
        {
          "output_type": "stream",
          "name": "stdout",
          "text": [
            "torch.LongTensor\n"
          ]
        },
        {
          "output_type": "execute_result",
          "data": {
            "text/plain": [
              "'torch.LongTensor'"
            ],
            "application/vnd.google.colaboratory.intrinsic+json": {
              "type": "string"
            }
          },
          "metadata": {},
          "execution_count": 16
        }
      ]
    },
    {
      "cell_type": "code",
      "source": [
        "x_rand = torch.rand_like(x_data, dtype=torch.float)\n",
        "shape = (2, 3)\n",
        "print(torch.rand(size=(2, 3)))\n",
        "ones_tensor = torch.ones(shape)\n",
        "print(ones_tensor.type())\n",
        "zeros_tensor = torch.zeros(shape)\n",
        "print(zeros_tensor)"
      ],
      "metadata": {
        "colab": {
          "base_uri": "https://localhost:8080/"
        },
        "id": "_lqI-wxpRB80",
        "outputId": "cb66802e-726c-4e18-b40e-327692486654"
      },
      "execution_count": 29,
      "outputs": [
        {
          "output_type": "stream",
          "name": "stdout",
          "text": [
            "tensor([[0.2538, 0.3047, 0.4569],\n",
            "        [0.8266, 0.0108, 0.6917]])\n",
            "torch.FloatTensor\n",
            "tensor([[0., 0., 0.],\n",
            "        [0., 0., 0.]])\n"
          ]
        }
      ]
    },
    {
      "cell_type": "code",
      "source": [
        "#now let's examine the attribute of a tensor\n",
        "tensor = torch.rand(3, 4)\n",
        "print(\"Our tensor -> \")\n",
        "print(tensor)\n",
        "print(\"Shape of the tensor: \", tensor.shape)\n",
        "print(\"Data type of the tensor: \", tensor.dtype)\n",
        "print(\"Device the tensor is stored on\", tensor.device)\n",
        "\n",
        "(raws, columns) = tensor.shape\n",
        "raws, columns\n",
        "\n",
        "numlist = torch.arange(10)\n",
        "# numlist[numlist > 5]\n",
        "tensor[tensor > 0.5]"
      ],
      "metadata": {
        "colab": {
          "base_uri": "https://localhost:8080/"
        },
        "id": "6Hy1hzaASius",
        "outputId": "4c94fab7-0cb5-40ca-beec-1be987faf8d0"
      },
      "execution_count": 50,
      "outputs": [
        {
          "output_type": "stream",
          "name": "stdout",
          "text": [
            "Our tensor -> \n",
            "tensor([[0.9702, 0.6539, 0.2872, 0.6490],\n",
            "        [0.1461, 0.5827, 0.6314, 0.9448],\n",
            "        [0.3486, 0.6395, 0.5285, 0.4620]])\n",
            "Shape of the tensor:  torch.Size([3, 4])\n",
            "Data type of the tensor:  torch.float32\n",
            "Device the tensor is stored on cpu\n"
          ]
        },
        {
          "output_type": "execute_result",
          "data": {
            "text/plain": [
              "tensor([0.9702, 0.6539, 0.6490, 0.5827, 0.6314, 0.9448, 0.6395, 0.5285])"
            ]
          },
          "metadata": {},
          "execution_count": 50
        }
      ]
    },
    {
      "cell_type": "code",
      "source": [
        "if torch.cuda.is_available():\n",
        "  tensor = tensor.to('cuda')\n",
        "  print(\"My tensor is stord on: \", tensor.device)"
      ],
      "metadata": {
        "id": "OEldtqU0VbXK"
      },
      "execution_count": 55,
      "outputs": []
    },
    {
      "cell_type": "code",
      "source": [
        "my_tensor = torch.zeros((4, 6))\n",
        "print(my_tensor)\n",
        "\n",
        "my_tensor[:, 0:-1:2] = 30\n",
        "print(my_tensor)"
      ],
      "metadata": {
        "colab": {
          "base_uri": "https://localhost:8080/"
        },
        "id": "P7eXzJiAWHeu",
        "outputId": "582d5115-bb1e-4b4a-d57c-38b88bd1f1fe"
      },
      "execution_count": 63,
      "outputs": [
        {
          "output_type": "stream",
          "name": "stdout",
          "text": [
            "tensor([[0., 0., 0., 0., 0., 0.],\n",
            "        [0., 0., 0., 0., 0., 0.],\n",
            "        [0., 0., 0., 0., 0., 0.],\n",
            "        [0., 0., 0., 0., 0., 0.]])\n",
            "tensor([[30.,  0., 30.,  0., 30.,  0.],\n",
            "        [30.,  0., 30.,  0., 30.,  0.],\n",
            "        [30.,  0., 30.,  0., 30.,  0.],\n",
            "        [30.,  0., 30.,  0., 30.,  0.]])\n"
          ]
        }
      ]
    },
    {
      "cell_type": "code",
      "source": [
        "t1 = torch.arange(10).reshape(1,10)\n",
        "t2 = torch.randint(low=0, high=10, size=(1,10))\n",
        "torch.cat([t1, t2], dim=0)\n",
        "\n",
        "A = torch.tensor([[1, 2, 3], \n",
        "                  [2, 1, 8]])\n",
        "B = torch.tensor([[3, 5, 9], \n",
        "                  [2, 1, 9]])\n",
        "C = torch.tensor([[1],[2],[3]])\n",
        "print(\"A + B: \")\n",
        "print(A+B)\n",
        "\n",
        "print(\"A * B: elementwise\")\n",
        "print(A * B) #same with numpy - * is an elementwise multiplication\n",
        "\n",
        "print(\"A * B: matrixmultipliation\")\n",
        "print(torch.matmul(A, B.T))\n",
        "print(A @ B.T)"
      ],
      "metadata": {
        "colab": {
          "base_uri": "https://localhost:8080/"
        },
        "id": "OY45Ft_EXFWa",
        "outputId": "3d83022e-c0fb-4fca-f5b3-a67165802134"
      },
      "execution_count": 78,
      "outputs": [
        {
          "output_type": "stream",
          "name": "stdout",
          "text": [
            "A + B: \n",
            "tensor([[ 4,  7, 12],\n",
            "        [ 4,  2, 17]])\n",
            "A * B: elementwise\n",
            "tensor([[ 3, 10, 27],\n",
            "        [ 4,  1, 72]])\n",
            "A * B: matrixmultipliation\n",
            "tensor([[40, 31],\n",
            "        [83, 77]])\n",
            "tensor([[40, 31],\n",
            "        [83, 77]])\n"
          ]
        }
      ]
    },
    {
      "cell_type": "code",
      "source": [
        "A.add_(10)\n",
        "print(A)"
      ],
      "metadata": {
        "colab": {
          "base_uri": "https://localhost:8080/"
        },
        "id": "YbUn8rfibmAH",
        "outputId": "f5271787-1ab3-457c-f40d-930c36823137"
      },
      "execution_count": 83,
      "outputs": [
        {
          "output_type": "stream",
          "name": "stdout",
          "text": [
            "tensor([[51, 52, 53],\n",
            "        [52, 51, 58]])\n"
          ]
        }
      ]
    },
    {
      "cell_type": "code",
      "source": [
        "#so pytorch and numpy can be made to share the same memory location using from_numpy() and numpy() methods\n",
        "#the former extracts a tensor from a numpy array, and the latter extracts a numpy array from a tensor\n",
        "numlist = np.arange(10)\n",
        "my_t = torch.from_numpy(numlist) # share the same memory with 'numlist'\n",
        "my_t2 = torch.tensor(numlist) #just copies the elements and form the tensor\n",
        "print(numlist, my_t)\n",
        "\n",
        "numlist[0] = -12\n",
        "print(numlist)\n",
        "print(my_t)\n",
        "print(my_t2)\n",
        "\n",
        "my_t3 = torch.arange(10)\n",
        "nums = my_t3.numpy() # share the memory locaion with 'my_t3'\n",
        "nums2 = np.array(my_t3) #just creates a numpy array copy with the entries of my_t3\n",
        "my_t3[0] = 2938\n",
        "print(nums)\n",
        "print(my_t3)\n",
        "print(nums2)"
      ],
      "metadata": {
        "colab": {
          "base_uri": "https://localhost:8080/"
        },
        "id": "tV9X-vgYb6ZT",
        "outputId": "367c38db-2345-435a-d11a-d70d2033d150"
      },
      "execution_count": 87,
      "outputs": [
        {
          "output_type": "stream",
          "name": "stdout",
          "text": [
            "[0 1 2 3 4 5 6 7 8 9] tensor([0, 1, 2, 3, 4, 5, 6, 7, 8, 9])\n",
            "[-12   1   2   3   4   5   6   7   8   9]\n",
            "tensor([-12,   1,   2,   3,   4,   5,   6,   7,   8,   9])\n",
            "tensor([0, 1, 2, 3, 4, 5, 6, 7, 8, 9])\n",
            "[2938    1    2    3    4    5    6    7    8    9]\n",
            "tensor([2938,    1,    2,    3,    4,    5,    6,    7,    8,    9])\n",
            "[0 1 2 3 4 5 6 7 8 9]\n"
          ]
        }
      ]
    },
    {
      "cell_type": "markdown",
      "source": [
        "### now we'll take a look at Autograd"
      ],
      "metadata": {
        "id": "EU7g3VbRd3GW"
      }
    },
    {
      "cell_type": "code",
      "source": [
        ""
      ],
      "metadata": {
        "id": "-N61Ov2meAfF"
      },
      "execution_count": null,
      "outputs": []
    },
    {
      "cell_type": "code",
      "source": [
        ""
      ],
      "metadata": {
        "id": "LdkhQuWceBMG"
      },
      "execution_count": null,
      "outputs": []
    }
  ]
}