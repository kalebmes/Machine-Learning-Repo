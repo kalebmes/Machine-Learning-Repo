{
  "nbformat": 4,
  "nbformat_minor": 0,
  "metadata": {
    "colab": {
      "name": "Pytorch introduction.ipynb",
      "provenance": [],
      "collapsed_sections": [],
      "authorship_tag": "ABX9TyMk5izkiKEiT4yT4blvTANp",
      "include_colab_link": true
    },
    "kernelspec": {
      "name": "python3",
      "display_name": "Python 3"
    },
    "language_info": {
      "name": "python"
    },
    "widgets": {
      "application/vnd.jupyter.widget-state+json": {
        "98137e73ae134c74ac5d74be0bb85bfe": {
          "model_module": "@jupyter-widgets/controls",
          "model_name": "HBoxModel",
          "model_module_version": "1.5.0",
          "state": {
            "_dom_classes": [],
            "_model_module": "@jupyter-widgets/controls",
            "_model_module_version": "1.5.0",
            "_model_name": "HBoxModel",
            "_view_count": null,
            "_view_module": "@jupyter-widgets/controls",
            "_view_module_version": "1.5.0",
            "_view_name": "HBoxView",
            "box_style": "",
            "children": [
              "IPY_MODEL_2be915be6f2a43ec9fd3ca0c4f99f7ab",
              "IPY_MODEL_19c0ca2a73944f189bdaabaf0d14335b",
              "IPY_MODEL_7f0973a76fd247558d70c311391e5062"
            ],
            "layout": "IPY_MODEL_2f41d3c1f64841bbbde2b4ceca3d1564"
          }
        },
        "2be915be6f2a43ec9fd3ca0c4f99f7ab": {
          "model_module": "@jupyter-widgets/controls",
          "model_name": "HTMLModel",
          "model_module_version": "1.5.0",
          "state": {
            "_dom_classes": [],
            "_model_module": "@jupyter-widgets/controls",
            "_model_module_version": "1.5.0",
            "_model_name": "HTMLModel",
            "_view_count": null,
            "_view_module": "@jupyter-widgets/controls",
            "_view_module_version": "1.5.0",
            "_view_name": "HTMLView",
            "description": "",
            "description_tooltip": null,
            "layout": "IPY_MODEL_b04ce89f1da64e3f88dac4cc948f32a3",
            "placeholder": "​",
            "style": "IPY_MODEL_57ff5fd450d845ff95ee0a1e06d4b074",
            "value": "100%"
          }
        },
        "19c0ca2a73944f189bdaabaf0d14335b": {
          "model_module": "@jupyter-widgets/controls",
          "model_name": "FloatProgressModel",
          "model_module_version": "1.5.0",
          "state": {
            "_dom_classes": [],
            "_model_module": "@jupyter-widgets/controls",
            "_model_module_version": "1.5.0",
            "_model_name": "FloatProgressModel",
            "_view_count": null,
            "_view_module": "@jupyter-widgets/controls",
            "_view_module_version": "1.5.0",
            "_view_name": "ProgressView",
            "bar_style": "success",
            "description": "",
            "description_tooltip": null,
            "layout": "IPY_MODEL_5ff7567135ae4876b85eaa4b2279eb09",
            "max": 46830571,
            "min": 0,
            "orientation": "horizontal",
            "style": "IPY_MODEL_988639929c22430ca9014ddbe980c93e",
            "value": 46830571
          }
        },
        "7f0973a76fd247558d70c311391e5062": {
          "model_module": "@jupyter-widgets/controls",
          "model_name": "HTMLModel",
          "model_module_version": "1.5.0",
          "state": {
            "_dom_classes": [],
            "_model_module": "@jupyter-widgets/controls",
            "_model_module_version": "1.5.0",
            "_model_name": "HTMLModel",
            "_view_count": null,
            "_view_module": "@jupyter-widgets/controls",
            "_view_module_version": "1.5.0",
            "_view_name": "HTMLView",
            "description": "",
            "description_tooltip": null,
            "layout": "IPY_MODEL_1a93dd15341a4e78a041378a917a3e07",
            "placeholder": "​",
            "style": "IPY_MODEL_2918942a4a39479484a8eeeab9e9b744",
            "value": " 44.7M/44.7M [00:00&lt;00:00, 128MB/s]"
          }
        },
        "2f41d3c1f64841bbbde2b4ceca3d1564": {
          "model_module": "@jupyter-widgets/base",
          "model_name": "LayoutModel",
          "model_module_version": "1.2.0",
          "state": {
            "_model_module": "@jupyter-widgets/base",
            "_model_module_version": "1.2.0",
            "_model_name": "LayoutModel",
            "_view_count": null,
            "_view_module": "@jupyter-widgets/base",
            "_view_module_version": "1.2.0",
            "_view_name": "LayoutView",
            "align_content": null,
            "align_items": null,
            "align_self": null,
            "border": null,
            "bottom": null,
            "display": null,
            "flex": null,
            "flex_flow": null,
            "grid_area": null,
            "grid_auto_columns": null,
            "grid_auto_flow": null,
            "grid_auto_rows": null,
            "grid_column": null,
            "grid_gap": null,
            "grid_row": null,
            "grid_template_areas": null,
            "grid_template_columns": null,
            "grid_template_rows": null,
            "height": null,
            "justify_content": null,
            "justify_items": null,
            "left": null,
            "margin": null,
            "max_height": null,
            "max_width": null,
            "min_height": null,
            "min_width": null,
            "object_fit": null,
            "object_position": null,
            "order": null,
            "overflow": null,
            "overflow_x": null,
            "overflow_y": null,
            "padding": null,
            "right": null,
            "top": null,
            "visibility": null,
            "width": null
          }
        },
        "b04ce89f1da64e3f88dac4cc948f32a3": {
          "model_module": "@jupyter-widgets/base",
          "model_name": "LayoutModel",
          "model_module_version": "1.2.0",
          "state": {
            "_model_module": "@jupyter-widgets/base",
            "_model_module_version": "1.2.0",
            "_model_name": "LayoutModel",
            "_view_count": null,
            "_view_module": "@jupyter-widgets/base",
            "_view_module_version": "1.2.0",
            "_view_name": "LayoutView",
            "align_content": null,
            "align_items": null,
            "align_self": null,
            "border": null,
            "bottom": null,
            "display": null,
            "flex": null,
            "flex_flow": null,
            "grid_area": null,
            "grid_auto_columns": null,
            "grid_auto_flow": null,
            "grid_auto_rows": null,
            "grid_column": null,
            "grid_gap": null,
            "grid_row": null,
            "grid_template_areas": null,
            "grid_template_columns": null,
            "grid_template_rows": null,
            "height": null,
            "justify_content": null,
            "justify_items": null,
            "left": null,
            "margin": null,
            "max_height": null,
            "max_width": null,
            "min_height": null,
            "min_width": null,
            "object_fit": null,
            "object_position": null,
            "order": null,
            "overflow": null,
            "overflow_x": null,
            "overflow_y": null,
            "padding": null,
            "right": null,
            "top": null,
            "visibility": null,
            "width": null
          }
        },
        "57ff5fd450d845ff95ee0a1e06d4b074": {
          "model_module": "@jupyter-widgets/controls",
          "model_name": "DescriptionStyleModel",
          "model_module_version": "1.5.0",
          "state": {
            "_model_module": "@jupyter-widgets/controls",
            "_model_module_version": "1.5.0",
            "_model_name": "DescriptionStyleModel",
            "_view_count": null,
            "_view_module": "@jupyter-widgets/base",
            "_view_module_version": "1.2.0",
            "_view_name": "StyleView",
            "description_width": ""
          }
        },
        "5ff7567135ae4876b85eaa4b2279eb09": {
          "model_module": "@jupyter-widgets/base",
          "model_name": "LayoutModel",
          "model_module_version": "1.2.0",
          "state": {
            "_model_module": "@jupyter-widgets/base",
            "_model_module_version": "1.2.0",
            "_model_name": "LayoutModel",
            "_view_count": null,
            "_view_module": "@jupyter-widgets/base",
            "_view_module_version": "1.2.0",
            "_view_name": "LayoutView",
            "align_content": null,
            "align_items": null,
            "align_self": null,
            "border": null,
            "bottom": null,
            "display": null,
            "flex": null,
            "flex_flow": null,
            "grid_area": null,
            "grid_auto_columns": null,
            "grid_auto_flow": null,
            "grid_auto_rows": null,
            "grid_column": null,
            "grid_gap": null,
            "grid_row": null,
            "grid_template_areas": null,
            "grid_template_columns": null,
            "grid_template_rows": null,
            "height": null,
            "justify_content": null,
            "justify_items": null,
            "left": null,
            "margin": null,
            "max_height": null,
            "max_width": null,
            "min_height": null,
            "min_width": null,
            "object_fit": null,
            "object_position": null,
            "order": null,
            "overflow": null,
            "overflow_x": null,
            "overflow_y": null,
            "padding": null,
            "right": null,
            "top": null,
            "visibility": null,
            "width": null
          }
        },
        "988639929c22430ca9014ddbe980c93e": {
          "model_module": "@jupyter-widgets/controls",
          "model_name": "ProgressStyleModel",
          "model_module_version": "1.5.0",
          "state": {
            "_model_module": "@jupyter-widgets/controls",
            "_model_module_version": "1.5.0",
            "_model_name": "ProgressStyleModel",
            "_view_count": null,
            "_view_module": "@jupyter-widgets/base",
            "_view_module_version": "1.2.0",
            "_view_name": "StyleView",
            "bar_color": null,
            "description_width": ""
          }
        },
        "1a93dd15341a4e78a041378a917a3e07": {
          "model_module": "@jupyter-widgets/base",
          "model_name": "LayoutModel",
          "model_module_version": "1.2.0",
          "state": {
            "_model_module": "@jupyter-widgets/base",
            "_model_module_version": "1.2.0",
            "_model_name": "LayoutModel",
            "_view_count": null,
            "_view_module": "@jupyter-widgets/base",
            "_view_module_version": "1.2.0",
            "_view_name": "LayoutView",
            "align_content": null,
            "align_items": null,
            "align_self": null,
            "border": null,
            "bottom": null,
            "display": null,
            "flex": null,
            "flex_flow": null,
            "grid_area": null,
            "grid_auto_columns": null,
            "grid_auto_flow": null,
            "grid_auto_rows": null,
            "grid_column": null,
            "grid_gap": null,
            "grid_row": null,
            "grid_template_areas": null,
            "grid_template_columns": null,
            "grid_template_rows": null,
            "height": null,
            "justify_content": null,
            "justify_items": null,
            "left": null,
            "margin": null,
            "max_height": null,
            "max_width": null,
            "min_height": null,
            "min_width": null,
            "object_fit": null,
            "object_position": null,
            "order": null,
            "overflow": null,
            "overflow_x": null,
            "overflow_y": null,
            "padding": null,
            "right": null,
            "top": null,
            "visibility": null,
            "width": null
          }
        },
        "2918942a4a39479484a8eeeab9e9b744": {
          "model_module": "@jupyter-widgets/controls",
          "model_name": "DescriptionStyleModel",
          "model_module_version": "1.5.0",
          "state": {
            "_model_module": "@jupyter-widgets/controls",
            "_model_module_version": "1.5.0",
            "_model_name": "DescriptionStyleModel",
            "_view_count": null,
            "_view_module": "@jupyter-widgets/base",
            "_view_module_version": "1.2.0",
            "_view_name": "StyleView",
            "description_width": ""
          }
        }
      }
    }
  },
  "cells": [
    {
      "cell_type": "markdown",
      "metadata": {
        "id": "view-in-github",
        "colab_type": "text"
      },
      "source": [
        "<a href=\"https://colab.research.google.com/github/kalebmes/CS376-Machine-Learning/blob/main/Pytorch_introduction.ipynb\" target=\"_parent\"><img src=\"https://colab.research.google.com/assets/colab-badge.svg\" alt=\"Open In Colab\"/></a>"
      ]
    },
    {
      "cell_type": "code",
      "execution_count": 1,
      "metadata": {
        "id": "Iyr8KAVlOlk8"
      },
      "outputs": [],
      "source": [
        "import torch\n",
        "import numpy as np"
      ]
    },
    {
      "cell_type": "code",
      "source": [
        "data = [[1, 2], \n",
        "        [3, 4]]\n",
        "\n",
        "x_data = torch.tensor(data)"
      ],
      "metadata": {
        "id": "lAmbDeUrPRF9"
      },
      "execution_count": 2,
      "outputs": []
    },
    {
      "cell_type": "code",
      "source": [
        "np_array = np.array(data)\n",
        "x2_data = torch.tensor(np_array)\n",
        "x2_data == torch.from_numpy(np_array)"
      ],
      "metadata": {
        "colab": {
          "base_uri": "https://localhost:8080/"
        },
        "id": "PYsMzGxiPhdU",
        "outputId": "1080f7d7-1c56-4417-834b-7562d491b036"
      },
      "execution_count": 7,
      "outputs": [
        {
          "output_type": "execute_result",
          "data": {
            "text/plain": [
              "tensor([[True, True],\n",
              "        [True, True]])"
            ]
          },
          "metadata": {},
          "execution_count": 7
        }
      ]
    },
    {
      "cell_type": "code",
      "source": [
        "x_ones = torch.ones_like(x_data)\n",
        "print(x_ones.type())\n",
        "torch.from_numpy(np.arange(10)).type()"
      ],
      "metadata": {
        "colab": {
          "base_uri": "https://localhost:8080/",
          "height": 53
        },
        "id": "eNeE7eVnQFM9",
        "outputId": "2dc3c895-5805-42ee-e3b9-d77b9cf98a58"
      },
      "execution_count": 16,
      "outputs": [
        {
          "output_type": "stream",
          "name": "stdout",
          "text": [
            "torch.LongTensor\n"
          ]
        },
        {
          "output_type": "execute_result",
          "data": {
            "text/plain": [
              "'torch.LongTensor'"
            ],
            "application/vnd.google.colaboratory.intrinsic+json": {
              "type": "string"
            }
          },
          "metadata": {},
          "execution_count": 16
        }
      ]
    },
    {
      "cell_type": "code",
      "source": [
        "x_rand = torch.rand_like(x_data, dtype=torch.float)\n",
        "shape = (2, 3)\n",
        "print(torch.rand(size=(2, 3)))\n",
        "ones_tensor = torch.ones(shape)\n",
        "print(ones_tensor.type())\n",
        "zeros_tensor = torch.zeros(shape)\n",
        "print(zeros_tensor)"
      ],
      "metadata": {
        "colab": {
          "base_uri": "https://localhost:8080/"
        },
        "id": "_lqI-wxpRB80",
        "outputId": "cb66802e-726c-4e18-b40e-327692486654"
      },
      "execution_count": 29,
      "outputs": [
        {
          "output_type": "stream",
          "name": "stdout",
          "text": [
            "tensor([[0.2538, 0.3047, 0.4569],\n",
            "        [0.8266, 0.0108, 0.6917]])\n",
            "torch.FloatTensor\n",
            "tensor([[0., 0., 0.],\n",
            "        [0., 0., 0.]])\n"
          ]
        }
      ]
    },
    {
      "cell_type": "code",
      "source": [
        "#now let's examine the attribute of a tensor\n",
        "tensor = torch.rand(3, 4)\n",
        "print(\"Our tensor -> \")\n",
        "print(tensor)\n",
        "print(\"Shape of the tensor: \", tensor.shape)\n",
        "print(\"Data type of the tensor: \", tensor.dtype)\n",
        "print(\"Device the tensor is stored on\", tensor.device)\n",
        "\n",
        "(raws, columns) = tensor.shape\n",
        "raws, columns\n",
        "\n",
        "numlist = torch.arange(10)\n",
        "# numlist[numlist > 5]\n",
        "tensor[tensor > 0.5]"
      ],
      "metadata": {
        "colab": {
          "base_uri": "https://localhost:8080/"
        },
        "id": "6Hy1hzaASius",
        "outputId": "4c94fab7-0cb5-40ca-beec-1be987faf8d0"
      },
      "execution_count": 50,
      "outputs": [
        {
          "output_type": "stream",
          "name": "stdout",
          "text": [
            "Our tensor -> \n",
            "tensor([[0.9702, 0.6539, 0.2872, 0.6490],\n",
            "        [0.1461, 0.5827, 0.6314, 0.9448],\n",
            "        [0.3486, 0.6395, 0.5285, 0.4620]])\n",
            "Shape of the tensor:  torch.Size([3, 4])\n",
            "Data type of the tensor:  torch.float32\n",
            "Device the tensor is stored on cpu\n"
          ]
        },
        {
          "output_type": "execute_result",
          "data": {
            "text/plain": [
              "tensor([0.9702, 0.6539, 0.6490, 0.5827, 0.6314, 0.9448, 0.6395, 0.5285])"
            ]
          },
          "metadata": {},
          "execution_count": 50
        }
      ]
    },
    {
      "cell_type": "code",
      "source": [
        "if torch.cuda.is_available():\n",
        "  tensor = tensor.to('cuda')\n",
        "  print(\"My tensor is stord on: \", tensor.device)"
      ],
      "metadata": {
        "id": "OEldtqU0VbXK"
      },
      "execution_count": 55,
      "outputs": []
    },
    {
      "cell_type": "code",
      "source": [
        "my_tensor = torch.zeros((4, 6))\n",
        "print(my_tensor)\n",
        "\n",
        "my_tensor[:, 0:-1:2] = 30\n",
        "print(my_tensor)"
      ],
      "metadata": {
        "colab": {
          "base_uri": "https://localhost:8080/"
        },
        "id": "P7eXzJiAWHeu",
        "outputId": "582d5115-bb1e-4b4a-d57c-38b88bd1f1fe"
      },
      "execution_count": 63,
      "outputs": [
        {
          "output_type": "stream",
          "name": "stdout",
          "text": [
            "tensor([[0., 0., 0., 0., 0., 0.],\n",
            "        [0., 0., 0., 0., 0., 0.],\n",
            "        [0., 0., 0., 0., 0., 0.],\n",
            "        [0., 0., 0., 0., 0., 0.]])\n",
            "tensor([[30.,  0., 30.,  0., 30.,  0.],\n",
            "        [30.,  0., 30.,  0., 30.,  0.],\n",
            "        [30.,  0., 30.,  0., 30.,  0.],\n",
            "        [30.,  0., 30.,  0., 30.,  0.]])\n"
          ]
        }
      ]
    },
    {
      "cell_type": "code",
      "source": [
        "t1 = torch.arange(10).reshape(1,10)\n",
        "t2 = torch.randint(low=0, high=10, size=(1,10))\n",
        "torch.cat([t1, t2], dim=0)\n",
        "\n",
        "A = torch.tensor([[1, 2, 3], \n",
        "                  [2, 1, 8]])\n",
        "B = torch.tensor([[3, 5, 9], \n",
        "                  [2, 1, 9]])\n",
        "C = torch.tensor([[1],[2],[3]])\n",
        "print(\"A + B: \")\n",
        "print(A+B)\n",
        "\n",
        "print(\"A * B: elementwise\")\n",
        "print(A * B) #same with numpy - * is an elementwise multiplication\n",
        "\n",
        "print(\"A * B: matrixmultipliation\")\n",
        "print(torch.matmul(A, B.T))\n",
        "print(A @ B.T)"
      ],
      "metadata": {
        "colab": {
          "base_uri": "https://localhost:8080/"
        },
        "id": "OY45Ft_EXFWa",
        "outputId": "3d83022e-c0fb-4fca-f5b3-a67165802134"
      },
      "execution_count": 78,
      "outputs": [
        {
          "output_type": "stream",
          "name": "stdout",
          "text": [
            "A + B: \n",
            "tensor([[ 4,  7, 12],\n",
            "        [ 4,  2, 17]])\n",
            "A * B: elementwise\n",
            "tensor([[ 3, 10, 27],\n",
            "        [ 4,  1, 72]])\n",
            "A * B: matrixmultipliation\n",
            "tensor([[40, 31],\n",
            "        [83, 77]])\n",
            "tensor([[40, 31],\n",
            "        [83, 77]])\n"
          ]
        }
      ]
    },
    {
      "cell_type": "code",
      "source": [
        "A.add_(10)\n",
        "print(A)"
      ],
      "metadata": {
        "colab": {
          "base_uri": "https://localhost:8080/"
        },
        "id": "YbUn8rfibmAH",
        "outputId": "f5271787-1ab3-457c-f40d-930c36823137"
      },
      "execution_count": 83,
      "outputs": [
        {
          "output_type": "stream",
          "name": "stdout",
          "text": [
            "tensor([[51, 52, 53],\n",
            "        [52, 51, 58]])\n"
          ]
        }
      ]
    },
    {
      "cell_type": "code",
      "source": [
        "#so pytorch and numpy can be made to share the same memory location using from_numpy() and numpy() methods\n",
        "#the former extracts a tensor from a numpy array, and the latter extracts a numpy array from a tensor\n",
        "numlist = np.arange(10)\n",
        "my_t = torch.from_numpy(numlist) # share the same memory with 'numlist'\n",
        "my_t2 = torch.tensor(numlist) #just copies the elements and form the tensor\n",
        "print(numlist, my_t)\n",
        "\n",
        "numlist[0] = -12\n",
        "print(numlist)\n",
        "print(my_t)\n",
        "print(my_t2)\n",
        "\n",
        "my_t3 = torch.arange(10)\n",
        "nums = my_t3.numpy() # share the memory locaion with 'my_t3'\n",
        "nums2 = np.array(my_t3) #just creates a numpy array copy with the entries of my_t3\n",
        "my_t3[0] = 2938\n",
        "print(nums)\n",
        "print(my_t3)\n",
        "print(nums2)"
      ],
      "metadata": {
        "colab": {
          "base_uri": "https://localhost:8080/"
        },
        "id": "tV9X-vgYb6ZT",
        "outputId": "367c38db-2345-435a-d11a-d70d2033d150"
      },
      "execution_count": 87,
      "outputs": [
        {
          "output_type": "stream",
          "name": "stdout",
          "text": [
            "[0 1 2 3 4 5 6 7 8 9] tensor([0, 1, 2, 3, 4, 5, 6, 7, 8, 9])\n",
            "[-12   1   2   3   4   5   6   7   8   9]\n",
            "tensor([-12,   1,   2,   3,   4,   5,   6,   7,   8,   9])\n",
            "tensor([0, 1, 2, 3, 4, 5, 6, 7, 8, 9])\n",
            "[2938    1    2    3    4    5    6    7    8    9]\n",
            "tensor([2938,    1,    2,    3,    4,    5,    6,    7,    8,    9])\n",
            "[0 1 2 3 4 5 6 7 8 9]\n"
          ]
        }
      ]
    },
    {
      "cell_type": "markdown",
      "source": [
        "### now we'll take a look at Autograd"
      ],
      "metadata": {
        "id": "EU7g3VbRd3GW"
      }
    },
    {
      "cell_type": "code",
      "source": [
        "import torchvision\n",
        "model = torchvision.models.resnet18(pretrained=True)\n",
        "data = torch.rand(1, 3, 64, 64)\n",
        "labels = torch.rand(1,1000)"
      ],
      "metadata": {
        "colab": {
          "base_uri": "https://localhost:8080/",
          "height": 66,
          "referenced_widgets": [
            "98137e73ae134c74ac5d74be0bb85bfe",
            "2be915be6f2a43ec9fd3ca0c4f99f7ab",
            "19c0ca2a73944f189bdaabaf0d14335b",
            "7f0973a76fd247558d70c311391e5062",
            "2f41d3c1f64841bbbde2b4ceca3d1564",
            "b04ce89f1da64e3f88dac4cc948f32a3",
            "57ff5fd450d845ff95ee0a1e06d4b074",
            "5ff7567135ae4876b85eaa4b2279eb09",
            "988639929c22430ca9014ddbe980c93e",
            "1a93dd15341a4e78a041378a917a3e07",
            "2918942a4a39479484a8eeeab9e9b744"
          ]
        },
        "id": "-N61Ov2meAfF",
        "outputId": "fcb3e9c4-6c63-4339-dc70-d194aa5380d9"
      },
      "execution_count": 88,
      "outputs": [
        {
          "output_type": "stream",
          "name": "stderr",
          "text": [
            "Downloading: \"https://download.pytorch.org/models/resnet18-f37072fd.pth\" to /root/.cache/torch/hub/checkpoints/resnet18-f37072fd.pth\n"
          ]
        },
        {
          "output_type": "display_data",
          "data": {
            "text/plain": [
              "  0%|          | 0.00/44.7M [00:00<?, ?B/s]"
            ],
            "application/vnd.jupyter.widget-view+json": {
              "version_major": 2,
              "version_minor": 0,
              "model_id": "98137e73ae134c74ac5d74be0bb85bfe"
            }
          },
          "metadata": {}
        }
      ]
    },
    {
      "cell_type": "code",
      "source": [
        "prediction = model(data) # forward propagation"
      ],
      "metadata": {
        "id": "LdkhQuWceBMG"
      },
      "execution_count": 89,
      "outputs": []
    },
    {
      "cell_type": "code",
      "source": [
        "loss= (prediction - labels).sum()\n",
        "loss.backward() #backward propagation - now autograd calculates and stores the gradients for each model parameter in the parameter's .grad attribute"
      ],
      "metadata": {
        "id": "oApwawOEi5zz"
      },
      "execution_count": 90,
      "outputs": []
    },
    {
      "cell_type": "code",
      "source": [
        "#now we'll load an optimizer. in this SGD, with a learning rate of 0.01, and we'll also apply a momentum of 0.9\n",
        "optim = torch.optim.SGD(model.parameters(), lr=0.01, momentum=0.9)"
      ],
      "metadata": {
        "id": "7gTcgU9RjP5K"
      },
      "execution_count": 104,
      "outputs": []
    },
    {
      "cell_type": "code",
      "source": [
        "optim.step() #this initiates the gradient descent"
      ],
      "metadata": {
        "id": "zbLWq9LglCy2"
      },
      "execution_count": 105,
      "outputs": []
    },
    {
      "cell_type": "code",
      "source": [
        "#how does autograd work though? \n",
        "a = torch.tensor([2, 3], requires_grad=True, dtype=float)\n",
        "b = torch.tensor([6, 4], requires_grad=True, dtype=float)\n",
        "Q = 3*a**3 - b**2\n",
        "Q.backward(gradient=torch.tensor([1, 1]))"
      ],
      "metadata": {
        "id": "dll0Ah0YlLyi"
      },
      "execution_count": 123,
      "outputs": []
    },
    {
      "cell_type": "code",
      "source": [
        "print(b.grad)"
      ],
      "metadata": {
        "colab": {
          "base_uri": "https://localhost:8080/"
        },
        "id": "Ms8oo8dtp02Y",
        "outputId": "ff5efa11-0b0f-4dad-c619-f3797c2bef4b"
      },
      "execution_count": 124,
      "outputs": [
        {
          "output_type": "stream",
          "name": "stdout",
          "text": [
            "tensor([-12.,  -8.], dtype=torch.float64)\n"
          ]
        }
      ]
    },
    {
      "cell_type": "markdown",
      "source": [
        "## Neural Networks with pytorch"
      ],
      "metadata": {
        "id": "JBh5PqRbvxkg"
      }
    },
    {
      "cell_type": "code",
      "source": [
        "#let's define the network\n",
        "import torch.nn as nn\n",
        "import torch.nn.functional as F\n",
        "\n",
        "\n",
        "class Net(nn.Module):\n",
        "\n",
        "  def __init__(self) -> None:\n",
        "      super(Net, self).__init__()\n",
        "      #1 input image channel, 6 output image channel and 5x5 square convolution kernel\n",
        "      self.conv1 = nn.Conv2d(1, 6, 5)\n",
        "      self.conv2 = nn.Conv2d(6, 16, 5)\n",
        "      #y = Wx + b\n",
        "      self.fc1 = nn.Linear(16*5*5, 120)\n",
        "      self.fc2 = nn.Linear(120, 84)\n",
        "      self.fc3 = nn.Linear(84, 10)\n",
        "      "
      ],
      "metadata": {
        "id": "lbhM_T3_v0tu"
      },
      "execution_count": null,
      "outputs": []
    },
    {
      "cell_type": "code",
      "source": [
        ""
      ],
      "metadata": {
        "id": "_zS4Ft-4xmnG"
      },
      "execution_count": null,
      "outputs": []
    }
  ]
}