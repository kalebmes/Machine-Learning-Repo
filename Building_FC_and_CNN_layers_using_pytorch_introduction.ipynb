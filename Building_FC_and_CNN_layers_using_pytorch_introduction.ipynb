{
  "nbformat": 4,
  "nbformat_minor": 0,
  "metadata": {
    "colab": {
      "name": "Building FC and CNN layers using pytorch - introduction.ipynb",
      "provenance": [],
      "authorship_tag": "ABX9TyN5x+ZKez0nWgkrq3zPax2B",
      "include_colab_link": true
    },
    "kernelspec": {
      "name": "python3",
      "display_name": "Python 3"
    },
    "language_info": {
      "name": "python"
    }
  },
  "cells": [
    {
      "cell_type": "markdown",
      "metadata": {
        "id": "view-in-github",
        "colab_type": "text"
      },
      "source": [
        "<a href=\"https://colab.research.google.com/github/kalebmes/CS376-Machine-Learning/blob/main/Building_FC_and_CNN_layers_using_pytorch_introduction.ipynb\" target=\"_parent\"><img src=\"https://colab.research.google.com/assets/colab-badge.svg\" alt=\"Open In Colab\"/></a>"
      ]
    },
    {
      "cell_type": "code",
      "execution_count": 90,
      "metadata": {
        "id": "nDePAomyvxYf"
      },
      "outputs": [],
      "source": [
        "import torch\n",
        "import torch.nn as nn\n",
        "import torch.optim as optim\n",
        "import torch.nn.functional as F\n",
        "from torch.utils.data import DataLoader\n",
        "import torchvision.datasets as datasets\n",
        "import torchvision.transforms as transforms"
      ]
    },
    {
      "cell_type": "markdown",
      "source": [
        "## Training a fully connected neural network model for classifying digits"
      ],
      "metadata": {
        "id": "3sjWLKhI3X3E"
      }
    },
    {
      "cell_type": "code",
      "source": [
        "#create a fully connected Neural Network\n",
        "class NN(nn.Module):\n",
        "  def __init__(self, input_size, num_classes):\n",
        "    super(NN, self).__init__()\n",
        "    self.fc1 = nn.Linear(input_size, 50)\n",
        "    self.fc2 = nn.Linear(50, num_classes)\n",
        "  \n",
        "  def forward(self, x):\n",
        "    x = F.relu(self.fc1(x))\n",
        "    x = self.fc2(x)\n",
        "    return x"
      ],
      "metadata": {
        "id": "sck_nmlPwCes"
      },
      "execution_count": 91,
      "outputs": []
    },
    {
      "cell_type": "code",
      "source": [
        "#set a device\n",
        "device = torch.device('cuda' if torch.cuda.is_available() else 'cpu')\n"
      ],
      "metadata": {
        "id": "QxW3EMhuwp68"
      },
      "execution_count": 92,
      "outputs": []
    },
    {
      "cell_type": "code",
      "source": [
        "#hyperparameters\n",
        "input_size = 784\n",
        "num_classes = 10\n",
        "learning_rate = 0.001\n",
        "batch_size = 64\n",
        "num_epochs = 1"
      ],
      "metadata": {
        "id": "f-wdeP7tw7pZ"
      },
      "execution_count": 93,
      "outputs": []
    },
    {
      "cell_type": "code",
      "source": [
        "#load the data\n",
        "train = datasets.MNIST(\"\", train=True, download=True, transform=transforms.ToTensor())\n",
        "trainset = torch.utils.data.DataLoader(train, batch_size=batch_size, shuffle=True)\n",
        "test = datasets.MNIST(\"\", train=False, download=True, transform=transforms.ToTensor())\n",
        "testset = torch.utils.data.DataLoader(test, batch_size=batch_size, shuffle=True)\n"
      ],
      "metadata": {
        "id": "3uvl9QT0xEha"
      },
      "execution_count": 94,
      "outputs": []
    },
    {
      "cell_type": "code",
      "source": [
        "#initialize network\n",
        "model = NN(input_size=input_size, num_classes=num_classes).to(device)\n",
        "\n",
        "#loss and optimizer\n",
        "criterion = nn.CrossEntropyLoss()\n",
        "optimizer = optim.Adam(model.parameters(), lr=learning_rate)"
      ],
      "metadata": {
        "id": "Grg8FUbuxWda"
      },
      "execution_count": 95,
      "outputs": []
    },
    {
      "cell_type": "code",
      "source": [
        "#train the network\n",
        "for epoch in range(num_epochs):\n",
        "  for batch_idx, (data, targets) in enumerate(trainset):\n",
        "    #if possible, train it in cuda\n",
        "    data = data.to(device=device)\n",
        "    targets = targets.to(device=device)\n",
        "\n",
        "    #since the dataset has a form of (m, input_channels, height, width) -> reshape it into (m, c*h*w)\n",
        "    data = data.reshape(data.shape[0], -1)\n",
        "\n",
        "    #forward propagation\n",
        "    scores = model(data)\n",
        "    loss = criterion(scores, targets)\n",
        "\n",
        "    #backward propagation\n",
        "    optimizer.zero_grad()\n",
        "    loss.backward()\n",
        "\n",
        "    #gradient descent\n",
        "    optimizer.step()\n"
      ],
      "metadata": {
        "id": "gq13u5edyBR6"
      },
      "execution_count": 96,
      "outputs": []
    },
    {
      "cell_type": "code",
      "source": [
        "def check_accuracy(loader, model):\n",
        "  if trainset.dataset.train:\n",
        "    print(\"Checking the accuracy of the training data\")\n",
        "  else:\n",
        "    print(\"Checking the accuracy of the test data\")\n",
        "  num_correct = 0\n",
        "  num_samples = 0\n",
        "  model.eval()\n",
        "\n",
        "  with torch.no_grad():\n",
        "    for (x, y) in loader:\n",
        "      x = x.to(device=device)\n",
        "      y = y.to(device=device)\n",
        "      # x = x.reshape(x.shape[0], -1)\n",
        "      scores = model(x)\n",
        "      _, predictions = scores.max(dim=1)\n",
        "      num_correct += (predictions == y).sum()\n",
        "      num_samples += (predictions.size(dim=0))\n",
        "    print(f'Got {num_correct} / {num_samples} with accuracy {float(num_correct)/float(num_samples) * 100:.2f}')\n",
        "  model.train()"
      ],
      "metadata": {
        "id": "8ANZWbmgz_Nq"
      },
      "execution_count": 104,
      "outputs": []
    },
    {
      "cell_type": "code",
      "source": [
        "check_accuracy(trainset, model)\n",
        "check_accuracy(testset, model)"
      ],
      "metadata": {
        "colab": {
          "base_uri": "https://localhost:8080/"
        },
        "id": "IwKfc00f2qZz",
        "outputId": "aef91767-34a8-4520-b51c-78c90340e284"
      },
      "execution_count": 98,
      "outputs": [
        {
          "output_type": "stream",
          "name": "stdout",
          "text": [
            "Checking the accuracy of the training data\n",
            "Got 55899 / 60000 with accuracy 93.16\n",
            "Checking the accuracy of the training data\n",
            "Got 9299 / 10000 with accuracy 92.99\n"
          ]
        }
      ]
    },
    {
      "cell_type": "markdown",
      "source": [
        "### Convolutional Neural Networks"
      ],
      "metadata": {
        "id": "disabbUn3eWE"
      }
    },
    {
      "cell_type": "code",
      "source": [
        "#create a simple CNN\n",
        "class CNN(nn.Module):\n",
        "  def __init__(self, in_channels = 1, num_classes = 10):\n",
        "    super(CNN, self).__init__()\n",
        "    self.conv1 = nn.Conv2d(in_channels = 1, out_channels=8, kernel_size=3, stride=(1, 1), padding=(1, 1)) #same convolution\n",
        "    self.pool = nn.MaxPool2d(kernel_size=(2, 2), stride=(2, 2))\n",
        "    self.conv2 = nn.Conv2d(in_channels=8, out_channels=16, kernel_size=3, stride=(1, 1), padding=(1,1))\n",
        "    self.fc1 = nn.Linear(7*7*16, num_classes)\n",
        "  \n",
        "  def forward(self, x):\n",
        "    x = F.relu(self.conv1(x))\n",
        "    x = self.pool(x)\n",
        "    x = F.relu(self.conv2(x))\n",
        "    x = self.pool(x)\n",
        "    x = x.reshape(x.shape[0], -1)\n",
        "    x = self.fc1(x)\n",
        "    return x\n"
      ],
      "metadata": {
        "id": "imHKAlY13iGA"
      },
      "execution_count": 101,
      "outputs": []
    },
    {
      "cell_type": "code",
      "source": [
        "#some additional hyperparameters\n",
        "in_channel = 1\n",
        "cnn_model = CNN().to(device)\n",
        "\n",
        "#initialize an loss and optimizer\n",
        "criterion = nn.CrossEntropyLoss()\n",
        "optimizer = optim.Adam(cnn_model.parameters(), lr=learning_rate)\n",
        "\n",
        "#train the Network\n",
        "for epoch in range(num_epochs):\n",
        "  for batch_idx, (data, targets) in enumerate(trainset):\n",
        "    #get the data into cuda if possible\n",
        "    data, targets = data.to(device=device), targets.to(device=device)\n",
        "\n",
        "    #Let's put in the correct shape when we implement the forward propagation\n",
        "    # data = data.reshape(data.shape[0], -1)\n",
        "\n",
        "    #forward propagation\n",
        "    scores = cnn_model(data)\n",
        "    loss = criterion(scores, targets)\n",
        "\n",
        "    #backward propagation\n",
        "    optimizer.zero_grad()\n",
        "    loss.backward()\n",
        "\n",
        "    #gradient descent or adam step\n",
        "    optimizer.step()"
      ],
      "metadata": {
        "id": "H8KZiOSN9QdW"
      },
      "execution_count": 102,
      "outputs": []
    },
    {
      "cell_type": "code",
      "source": [
        "check_accuracy(trainset, cnn_model)\n",
        "check_accuracy(testset, cnn_model)"
      ],
      "metadata": {
        "colab": {
          "base_uri": "https://localhost:8080/"
        },
        "id": "Jt3Wy3lK-rAx",
        "outputId": "e66b14fb-d5ea-4df4-c4fa-c95d0255d80a"
      },
      "execution_count": 105,
      "outputs": [
        {
          "output_type": "stream",
          "name": "stdout",
          "text": [
            "Checking the accuracy of the training data\n",
            "Got 57725 / 60000 with accuracy 96.21\n",
            "Checking the accuracy of the training data\n",
            "Got 9673 / 10000 with accuracy 96.73\n"
          ]
        }
      ]
    }
  ]
}